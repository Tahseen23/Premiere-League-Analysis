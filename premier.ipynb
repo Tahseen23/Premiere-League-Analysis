{
 "cells": [
  {
   "cell_type": "code",
   "execution_count": 1,
   "metadata": {},
   "outputs": [],
   "source": [
    "import pandas as pd\n",
    "import seaborn as sns\n",
    "import matplotlib.pyplot as plt\n",
    "import numpy as np"
   ]
  },
  {
   "cell_type": "code",
   "execution_count": 2,
   "metadata": {},
   "outputs": [],
   "source": [
    "df=pd.read_csv(r\"C:\\Users\\hp\\Downloads\\archive (47)\\Data.csv\")"
   ]
  },
  {
   "cell_type": "code",
   "execution_count": 3,
   "metadata": {},
   "outputs": [
    {
     "data": {
      "text/html": [
       "<div>\n",
       "<style scoped>\n",
       "    .dataframe tbody tr th:only-of-type {\n",
       "        vertical-align: middle;\n",
       "    }\n",
       "\n",
       "    .dataframe tbody tr th {\n",
       "        vertical-align: top;\n",
       "    }\n",
       "\n",
       "    .dataframe thead th {\n",
       "        text-align: right;\n",
       "    }\n",
       "</style>\n",
       "<table border=\"1\" class=\"dataframe\">\n",
       "  <thead>\n",
       "    <tr style=\"text-align: right;\">\n",
       "      <th></th>\n",
       "      <th>Home_team_score</th>\n",
       "      <th>Home_team_name</th>\n",
       "      <th>Away_team_score</th>\n",
       "      <th>Away_team_name</th>\n",
       "      <th>attendance</th>\n",
       "      <th>referee</th>\n",
       "      <th>stadium</th>\n",
       "      <th>Season</th>\n",
       "      <th>Date</th>\n",
       "    </tr>\n",
       "  </thead>\n",
       "  <tbody>\n",
       "    <tr>\n",
       "      <th>0</th>\n",
       "      <td>2</td>\n",
       "      <td>West Ham United</td>\n",
       "      <td>2</td>\n",
       "      <td>Arsenal</td>\n",
       "      <td>NaN</td>\n",
       "      <td>David Coote</td>\n",
       "      <td>London Stadium, London</td>\n",
       "      <td>2022/23</td>\n",
       "      <td>Sun 16 Apr 2023, 14:00 BST</td>\n",
       "    </tr>\n",
       "    <tr>\n",
       "      <th>1</th>\n",
       "      <td>2</td>\n",
       "      <td>Tottenham Hotspur</td>\n",
       "      <td>3</td>\n",
       "      <td>Bournemouth</td>\n",
       "      <td>Att: 61,369</td>\n",
       "      <td>Andy Madley</td>\n",
       "      <td>Tottenham Hotspur Stadium, London</td>\n",
       "      <td>2022/23</td>\n",
       "      <td>Sat 15 Apr 2023, 15:15 BST</td>\n",
       "    </tr>\n",
       "    <tr>\n",
       "      <th>2</th>\n",
       "      <td>0</td>\n",
       "      <td>Southampton</td>\n",
       "      <td>2</td>\n",
       "      <td>Crystal Palace</td>\n",
       "      <td>Att: 30,309</td>\n",
       "      <td>Michael Oliver</td>\n",
       "      <td>St. Mary's Stadium, Southampton</td>\n",
       "      <td>2022/23</td>\n",
       "      <td>Sat 15 Apr 2023, 15:00 BST</td>\n",
       "    </tr>\n",
       "    <tr>\n",
       "      <th>3</th>\n",
       "      <td>0</td>\n",
       "      <td>Nottingham Forest</td>\n",
       "      <td>2</td>\n",
       "      <td>Manchester United</td>\n",
       "      <td>Att: 29,435</td>\n",
       "      <td>Simon Hooper</td>\n",
       "      <td>The City Ground, Nottingham</td>\n",
       "      <td>2022/23</td>\n",
       "      <td>Sun 16 Apr 2023, 16:30 BST</td>\n",
       "    </tr>\n",
       "    <tr>\n",
       "      <th>4</th>\n",
       "      <td>3</td>\n",
       "      <td>Manchester City</td>\n",
       "      <td>1</td>\n",
       "      <td>Leicester City</td>\n",
       "      <td>Att: 53,329</td>\n",
       "      <td>Darren England</td>\n",
       "      <td>Etihad Stadium, Manchester</td>\n",
       "      <td>2022/23</td>\n",
       "      <td>Sat 15 Apr 2023, 17:30 BST</td>\n",
       "    </tr>\n",
       "  </tbody>\n",
       "</table>\n",
       "</div>"
      ],
      "text/plain": [
       "  Home_team_score     Home_team_name Away_team_score     Away_team_name   \n",
       "0               2    West Ham United               2            Arsenal  \\\n",
       "1               2  Tottenham Hotspur               3        Bournemouth   \n",
       "2               0        Southampton               2     Crystal Palace   \n",
       "3               0  Nottingham Forest               2  Manchester United   \n",
       "4               3    Manchester City               1     Leicester City   \n",
       "\n",
       "    attendance         referee                            stadium   Season   \n",
       "0          NaN     David Coote             London Stadium, London  2022/23  \\\n",
       "1  Att: 61,369     Andy Madley  Tottenham Hotspur Stadium, London  2022/23   \n",
       "2  Att: 30,309  Michael Oliver    St. Mary's Stadium, Southampton  2022/23   \n",
       "3  Att: 29,435    Simon Hooper        The City Ground, Nottingham  2022/23   \n",
       "4  Att: 53,329  Darren England         Etihad Stadium, Manchester  2022/23   \n",
       "\n",
       "                         Date  \n",
       "0  Sun 16 Apr 2023, 14:00 BST  \n",
       "1  Sat 15 Apr 2023, 15:15 BST  \n",
       "2  Sat 15 Apr 2023, 15:00 BST  \n",
       "3  Sun 16 Apr 2023, 16:30 BST  \n",
       "4  Sat 15 Apr 2023, 17:30 BST  "
      ]
     },
     "execution_count": 3,
     "metadata": {},
     "output_type": "execute_result"
    }
   ],
   "source": [
    "df.head()"
   ]
  },
  {
   "cell_type": "code",
   "execution_count": 4,
   "metadata": {},
   "outputs": [],
   "source": [
    "df.drop(columns=['Date','stadium','referee'],inplace=True)"
   ]
  },
  {
   "cell_type": "code",
   "execution_count": 5,
   "metadata": {},
   "outputs": [
    {
     "data": {
      "text/html": [
       "<div>\n",
       "<style scoped>\n",
       "    .dataframe tbody tr th:only-of-type {\n",
       "        vertical-align: middle;\n",
       "    }\n",
       "\n",
       "    .dataframe tbody tr th {\n",
       "        vertical-align: top;\n",
       "    }\n",
       "\n",
       "    .dataframe thead th {\n",
       "        text-align: right;\n",
       "    }\n",
       "</style>\n",
       "<table border=\"1\" class=\"dataframe\">\n",
       "  <thead>\n",
       "    <tr style=\"text-align: right;\">\n",
       "      <th></th>\n",
       "      <th>Home_team_score</th>\n",
       "      <th>Home_team_name</th>\n",
       "      <th>Away_team_score</th>\n",
       "      <th>Away_team_name</th>\n",
       "      <th>attendance</th>\n",
       "      <th>Season</th>\n",
       "    </tr>\n",
       "  </thead>\n",
       "  <tbody>\n",
       "    <tr>\n",
       "      <th>0</th>\n",
       "      <td>2</td>\n",
       "      <td>West Ham United</td>\n",
       "      <td>2</td>\n",
       "      <td>Arsenal</td>\n",
       "      <td>NaN</td>\n",
       "      <td>2022/23</td>\n",
       "    </tr>\n",
       "    <tr>\n",
       "      <th>1</th>\n",
       "      <td>2</td>\n",
       "      <td>Tottenham Hotspur</td>\n",
       "      <td>3</td>\n",
       "      <td>Bournemouth</td>\n",
       "      <td>Att: 61,369</td>\n",
       "      <td>2022/23</td>\n",
       "    </tr>\n",
       "    <tr>\n",
       "      <th>2</th>\n",
       "      <td>0</td>\n",
       "      <td>Southampton</td>\n",
       "      <td>2</td>\n",
       "      <td>Crystal Palace</td>\n",
       "      <td>Att: 30,309</td>\n",
       "      <td>2022/23</td>\n",
       "    </tr>\n",
       "    <tr>\n",
       "      <th>3</th>\n",
       "      <td>0</td>\n",
       "      <td>Nottingham Forest</td>\n",
       "      <td>2</td>\n",
       "      <td>Manchester United</td>\n",
       "      <td>Att: 29,435</td>\n",
       "      <td>2022/23</td>\n",
       "    </tr>\n",
       "    <tr>\n",
       "      <th>4</th>\n",
       "      <td>3</td>\n",
       "      <td>Manchester City</td>\n",
       "      <td>1</td>\n",
       "      <td>Leicester City</td>\n",
       "      <td>Att: 53,329</td>\n",
       "      <td>2022/23</td>\n",
       "    </tr>\n",
       "  </tbody>\n",
       "</table>\n",
       "</div>"
      ],
      "text/plain": [
       "  Home_team_score     Home_team_name Away_team_score     Away_team_name   \n",
       "0               2    West Ham United               2            Arsenal  \\\n",
       "1               2  Tottenham Hotspur               3        Bournemouth   \n",
       "2               0        Southampton               2     Crystal Palace   \n",
       "3               0  Nottingham Forest               2  Manchester United   \n",
       "4               3    Manchester City               1     Leicester City   \n",
       "\n",
       "    attendance   Season  \n",
       "0          NaN  2022/23  \n",
       "1  Att: 61,369  2022/23  \n",
       "2  Att: 30,309  2022/23  \n",
       "3  Att: 29,435  2022/23  \n",
       "4  Att: 53,329  2022/23  "
      ]
     },
     "execution_count": 5,
     "metadata": {},
     "output_type": "execute_result"
    }
   ],
   "source": [
    "df.head()"
   ]
  },
  {
   "cell_type": "code",
   "execution_count": 6,
   "metadata": {},
   "outputs": [],
   "source": [
    "df.drop(columns=['attendance'],inplace=True)"
   ]
  },
  {
   "cell_type": "code",
   "execution_count": 7,
   "metadata": {},
   "outputs": [
    {
     "data": {
      "text/html": [
       "<div>\n",
       "<style scoped>\n",
       "    .dataframe tbody tr th:only-of-type {\n",
       "        vertical-align: middle;\n",
       "    }\n",
       "\n",
       "    .dataframe tbody tr th {\n",
       "        vertical-align: top;\n",
       "    }\n",
       "\n",
       "    .dataframe thead th {\n",
       "        text-align: right;\n",
       "    }\n",
       "</style>\n",
       "<table border=\"1\" class=\"dataframe\">\n",
       "  <thead>\n",
       "    <tr style=\"text-align: right;\">\n",
       "      <th></th>\n",
       "      <th>Home_team_score</th>\n",
       "      <th>Home_team_name</th>\n",
       "      <th>Away_team_score</th>\n",
       "      <th>Away_team_name</th>\n",
       "      <th>Season</th>\n",
       "    </tr>\n",
       "  </thead>\n",
       "  <tbody>\n",
       "    <tr>\n",
       "      <th>0</th>\n",
       "      <td>2</td>\n",
       "      <td>West Ham United</td>\n",
       "      <td>2</td>\n",
       "      <td>Arsenal</td>\n",
       "      <td>2022/23</td>\n",
       "    </tr>\n",
       "    <tr>\n",
       "      <th>1</th>\n",
       "      <td>2</td>\n",
       "      <td>Tottenham Hotspur</td>\n",
       "      <td>3</td>\n",
       "      <td>Bournemouth</td>\n",
       "      <td>2022/23</td>\n",
       "    </tr>\n",
       "    <tr>\n",
       "      <th>2</th>\n",
       "      <td>0</td>\n",
       "      <td>Southampton</td>\n",
       "      <td>2</td>\n",
       "      <td>Crystal Palace</td>\n",
       "      <td>2022/23</td>\n",
       "    </tr>\n",
       "    <tr>\n",
       "      <th>3</th>\n",
       "      <td>0</td>\n",
       "      <td>Nottingham Forest</td>\n",
       "      <td>2</td>\n",
       "      <td>Manchester United</td>\n",
       "      <td>2022/23</td>\n",
       "    </tr>\n",
       "    <tr>\n",
       "      <th>4</th>\n",
       "      <td>3</td>\n",
       "      <td>Manchester City</td>\n",
       "      <td>1</td>\n",
       "      <td>Leicester City</td>\n",
       "      <td>2022/23</td>\n",
       "    </tr>\n",
       "  </tbody>\n",
       "</table>\n",
       "</div>"
      ],
      "text/plain": [
       "  Home_team_score     Home_team_name Away_team_score     Away_team_name   \n",
       "0               2    West Ham United               2            Arsenal  \\\n",
       "1               2  Tottenham Hotspur               3        Bournemouth   \n",
       "2               0        Southampton               2     Crystal Palace   \n",
       "3               0  Nottingham Forest               2  Manchester United   \n",
       "4               3    Manchester City               1     Leicester City   \n",
       "\n",
       "    Season  \n",
       "0  2022/23  \n",
       "1  2022/23  \n",
       "2  2022/23  \n",
       "3  2022/23  \n",
       "4  2022/23  "
      ]
     },
     "execution_count": 7,
     "metadata": {},
     "output_type": "execute_result"
    }
   ],
   "source": [
    "df.head()"
   ]
  },
  {
   "cell_type": "code",
   "execution_count": 8,
   "metadata": {},
   "outputs": [
    {
     "data": {
      "text/plain": [
       "174"
      ]
     },
     "execution_count": 8,
     "metadata": {},
     "output_type": "execute_result"
    }
   ],
   "source": [
    "df.duplicated().sum()"
   ]
  },
  {
   "cell_type": "code",
   "execution_count": 9,
   "metadata": {},
   "outputs": [
    {
     "data": {
      "text/plain": [
       "(33230, 5)"
      ]
     },
     "execution_count": 9,
     "metadata": {},
     "output_type": "execute_result"
    }
   ],
   "source": [
    "df.shape"
   ]
  },
  {
   "cell_type": "code",
   "execution_count": 10,
   "metadata": {},
   "outputs": [],
   "source": [
    "df.drop_duplicates(inplace=True)"
   ]
  },
  {
   "cell_type": "code",
   "execution_count": 11,
   "metadata": {},
   "outputs": [
    {
     "data": {
      "text/plain": [
       "(33056, 5)"
      ]
     },
     "execution_count": 11,
     "metadata": {},
     "output_type": "execute_result"
    }
   ],
   "source": [
    "df.shape"
   ]
  },
  {
   "cell_type": "code",
   "execution_count": 12,
   "metadata": {},
   "outputs": [
    {
     "data": {
      "text/html": [
       "<div>\n",
       "<style scoped>\n",
       "    .dataframe tbody tr th:only-of-type {\n",
       "        vertical-align: middle;\n",
       "    }\n",
       "\n",
       "    .dataframe tbody tr th {\n",
       "        vertical-align: top;\n",
       "    }\n",
       "\n",
       "    .dataframe thead th {\n",
       "        text-align: right;\n",
       "    }\n",
       "</style>\n",
       "<table border=\"1\" class=\"dataframe\">\n",
       "  <thead>\n",
       "    <tr style=\"text-align: right;\">\n",
       "      <th></th>\n",
       "      <th>Home_team_score</th>\n",
       "      <th>Home_team_name</th>\n",
       "      <th>Away_team_score</th>\n",
       "      <th>Away_team_name</th>\n",
       "      <th>Season</th>\n",
       "    </tr>\n",
       "  </thead>\n",
       "  <tbody>\n",
       "    <tr>\n",
       "      <th>33225</th>\n",
       "      <td>1</td>\n",
       "      <td>Burnley</td>\n",
       "      <td>3</td>\n",
       "      <td>Watford</td>\n",
       "      <td>2018/19</td>\n",
       "    </tr>\n",
       "    <tr>\n",
       "      <th>33226</th>\n",
       "      <td>3</td>\n",
       "      <td>Chelsea</td>\n",
       "      <td>2</td>\n",
       "      <td>Arsenal</td>\n",
       "      <td>2018/19</td>\n",
       "    </tr>\n",
       "    <tr>\n",
       "      <th>33227</th>\n",
       "      <td>0</td>\n",
       "      <td>Cardiff City</td>\n",
       "      <td>0</td>\n",
       "      <td>Newcastle United</td>\n",
       "      <td>2018/19</td>\n",
       "    </tr>\n",
       "    <tr>\n",
       "      <th>33228</th>\n",
       "      <td>3</td>\n",
       "      <td>Brighton &amp; Hove Albion</td>\n",
       "      <td>2</td>\n",
       "      <td>Manchester United</td>\n",
       "      <td>2018/19</td>\n",
       "    </tr>\n",
       "    <tr>\n",
       "      <th>33229</th>\n",
       "      <td>2</td>\n",
       "      <td>Wolverhampton Wanderers</td>\n",
       "      <td>2</td>\n",
       "      <td>Everton</td>\n",
       "      <td>2018/19</td>\n",
       "    </tr>\n",
       "  </tbody>\n",
       "</table>\n",
       "</div>"
      ],
      "text/plain": [
       "      Home_team_score           Home_team_name Away_team_score   \n",
       "33225               1                  Burnley               3  \\\n",
       "33226               3                  Chelsea               2   \n",
       "33227               0             Cardiff City               0   \n",
       "33228               3   Brighton & Hove Albion               2   \n",
       "33229               2  Wolverhampton Wanderers               2   \n",
       "\n",
       "          Away_team_name   Season  \n",
       "33225            Watford  2018/19  \n",
       "33226            Arsenal  2018/19  \n",
       "33227   Newcastle United  2018/19  \n",
       "33228  Manchester United  2018/19  \n",
       "33229            Everton  2018/19  "
      ]
     },
     "execution_count": 12,
     "metadata": {},
     "output_type": "execute_result"
    }
   ],
   "source": [
    "df.tail()"
   ]
  },
  {
   "cell_type": "code",
   "execution_count": 13,
   "metadata": {},
   "outputs": [],
   "source": [
    "def winner(df):\n",
    "    if df['Home_team_score']>df['Away_team_score']:\n",
    "        return df['Home_team_name']\n",
    "    elif df['Home_team_score']<df['Away_team_score']:\n",
    "        return df['Away_team_name']\n",
    "    else:\n",
    "        return 'Draw'"
   ]
  },
  {
   "cell_type": "code",
   "execution_count": 14,
   "metadata": {},
   "outputs": [],
   "source": [
    "df['Winner']=df.apply(winner,axis=1)"
   ]
  },
  {
   "cell_type": "code",
   "execution_count": 15,
   "metadata": {},
   "outputs": [
    {
     "data": {
      "text/html": [
       "<div>\n",
       "<style scoped>\n",
       "    .dataframe tbody tr th:only-of-type {\n",
       "        vertical-align: middle;\n",
       "    }\n",
       "\n",
       "    .dataframe tbody tr th {\n",
       "        vertical-align: top;\n",
       "    }\n",
       "\n",
       "    .dataframe thead th {\n",
       "        text-align: right;\n",
       "    }\n",
       "</style>\n",
       "<table border=\"1\" class=\"dataframe\">\n",
       "  <thead>\n",
       "    <tr style=\"text-align: right;\">\n",
       "      <th></th>\n",
       "      <th>Home_team_score</th>\n",
       "      <th>Home_team_name</th>\n",
       "      <th>Away_team_score</th>\n",
       "      <th>Away_team_name</th>\n",
       "      <th>Season</th>\n",
       "      <th>Winner</th>\n",
       "    </tr>\n",
       "  </thead>\n",
       "  <tbody>\n",
       "    <tr>\n",
       "      <th>0</th>\n",
       "      <td>2</td>\n",
       "      <td>West Ham United</td>\n",
       "      <td>2</td>\n",
       "      <td>Arsenal</td>\n",
       "      <td>2022/23</td>\n",
       "      <td>Draw</td>\n",
       "    </tr>\n",
       "    <tr>\n",
       "      <th>1</th>\n",
       "      <td>2</td>\n",
       "      <td>Tottenham Hotspur</td>\n",
       "      <td>3</td>\n",
       "      <td>Bournemouth</td>\n",
       "      <td>2022/23</td>\n",
       "      <td>Bournemouth</td>\n",
       "    </tr>\n",
       "    <tr>\n",
       "      <th>2</th>\n",
       "      <td>0</td>\n",
       "      <td>Southampton</td>\n",
       "      <td>2</td>\n",
       "      <td>Crystal Palace</td>\n",
       "      <td>2022/23</td>\n",
       "      <td>Crystal Palace</td>\n",
       "    </tr>\n",
       "    <tr>\n",
       "      <th>3</th>\n",
       "      <td>0</td>\n",
       "      <td>Nottingham Forest</td>\n",
       "      <td>2</td>\n",
       "      <td>Manchester United</td>\n",
       "      <td>2022/23</td>\n",
       "      <td>Manchester United</td>\n",
       "    </tr>\n",
       "    <tr>\n",
       "      <th>4</th>\n",
       "      <td>3</td>\n",
       "      <td>Manchester City</td>\n",
       "      <td>1</td>\n",
       "      <td>Leicester City</td>\n",
       "      <td>2022/23</td>\n",
       "      <td>Manchester City</td>\n",
       "    </tr>\n",
       "  </tbody>\n",
       "</table>\n",
       "</div>"
      ],
      "text/plain": [
       "  Home_team_score     Home_team_name Away_team_score     Away_team_name   \n",
       "0               2    West Ham United               2            Arsenal  \\\n",
       "1               2  Tottenham Hotspur               3        Bournemouth   \n",
       "2               0        Southampton               2     Crystal Palace   \n",
       "3               0  Nottingham Forest               2  Manchester United   \n",
       "4               3    Manchester City               1     Leicester City   \n",
       "\n",
       "    Season             Winner  \n",
       "0  2022/23               Draw  \n",
       "1  2022/23        Bournemouth  \n",
       "2  2022/23     Crystal Palace  \n",
       "3  2022/23  Manchester United  \n",
       "4  2022/23    Manchester City  "
      ]
     },
     "execution_count": 15,
     "metadata": {},
     "output_type": "execute_result"
    }
   ],
   "source": [
    "df.head()"
   ]
  },
  {
   "cell_type": "code",
   "execution_count": 16,
   "metadata": {},
   "outputs": [
    {
     "name": "stdout",
     "output_type": "stream",
     "text": [
      "<class 'pandas.core.frame.DataFrame'>\n",
      "Index: 33056 entries, 0 to 33229\n",
      "Data columns (total 6 columns):\n",
      " #   Column           Non-Null Count  Dtype \n",
      "---  ------           --------------  ----- \n",
      " 0   Home_team_score  33056 non-null  object\n",
      " 1   Home_team_name   33056 non-null  object\n",
      " 2   Away_team_score  33056 non-null  object\n",
      " 3   Away_team_name   33056 non-null  object\n",
      " 4   Season           33056 non-null  object\n",
      " 5   Winner           33056 non-null  object\n",
      "dtypes: object(6)\n",
      "memory usage: 1.8+ MB\n"
     ]
    }
   ],
   "source": [
    "df.info()"
   ]
  },
  {
   "cell_type": "code",
   "execution_count": 36,
   "metadata": {},
   "outputs": [],
   "source": [
    "df['Away_team_score']=df['Away_team_score'].astype(int)\n",
    "df['Home_team_score']=df['Home_team_score'].astype(int)"
   ]
  },
  {
   "cell_type": "code",
   "execution_count": 18,
   "metadata": {},
   "outputs": [
    {
     "data": {
      "text/plain": [
       "array(['2', '3', '1', '0', '4', '5', '7', '6', '8', '10', '9', '11',\n",
       "       'Away_team_score', '13', '12', 'A'], dtype=object)"
      ]
     },
     "execution_count": 18,
     "metadata": {},
     "output_type": "execute_result"
    }
   ],
   "source": [
    "df['Away_team_score'].unique()"
   ]
  },
  {
   "cell_type": "code",
   "execution_count": 19,
   "metadata": {},
   "outputs": [
    {
     "data": {
      "text/plain": [
       "array(['2', '0', '3', '1', '4', '7', '5', '6', '9', '8', '11', '13', '20',\n",
       "       '17', '10', 'Home_team_score', 'A'], dtype=object)"
      ]
     },
     "execution_count": 19,
     "metadata": {},
     "output_type": "execute_result"
    }
   ],
   "source": [
    "df['Home_team_score'].unique()"
   ]
  },
  {
   "cell_type": "code",
   "execution_count": 20,
   "metadata": {},
   "outputs": [
    {
     "data": {
      "text/html": [
       "<div>\n",
       "<style scoped>\n",
       "    .dataframe tbody tr th:only-of-type {\n",
       "        vertical-align: middle;\n",
       "    }\n",
       "\n",
       "    .dataframe tbody tr th {\n",
       "        vertical-align: top;\n",
       "    }\n",
       "\n",
       "    .dataframe thead th {\n",
       "        text-align: right;\n",
       "    }\n",
       "</style>\n",
       "<table border=\"1\" class=\"dataframe\">\n",
       "  <thead>\n",
       "    <tr style=\"text-align: right;\">\n",
       "      <th></th>\n",
       "      <th>Home_team_score</th>\n",
       "      <th>Home_team_name</th>\n",
       "      <th>Away_team_score</th>\n",
       "      <th>Away_team_name</th>\n",
       "      <th>Season</th>\n",
       "      <th>Winner</th>\n",
       "    </tr>\n",
       "  </thead>\n",
       "  <tbody>\n",
       "    <tr>\n",
       "      <th>22379</th>\n",
       "      <td>A</td>\n",
       "      <td>Borussia Dortmund</td>\n",
       "      <td>A</td>\n",
       "      <td>Udinese</td>\n",
       "      <td>2019/20</td>\n",
       "      <td>Draw</td>\n",
       "    </tr>\n",
       "  </tbody>\n",
       "</table>\n",
       "</div>"
      ],
      "text/plain": [
       "      Home_team_score     Home_team_name Away_team_score Away_team_name   \n",
       "22379               A  Borussia Dortmund               A        Udinese  \\\n",
       "\n",
       "        Season Winner  \n",
       "22379  2019/20   Draw  "
      ]
     },
     "execution_count": 20,
     "metadata": {},
     "output_type": "execute_result"
    }
   ],
   "source": [
    "df[df['Away_team_score']=='A']"
   ]
  },
  {
   "cell_type": "code",
   "execution_count": 21,
   "metadata": {},
   "outputs": [
    {
     "data": {
      "text/html": [
       "<div>\n",
       "<style scoped>\n",
       "    .dataframe tbody tr th:only-of-type {\n",
       "        vertical-align: middle;\n",
       "    }\n",
       "\n",
       "    .dataframe tbody tr th {\n",
       "        vertical-align: top;\n",
       "    }\n",
       "\n",
       "    .dataframe thead th {\n",
       "        text-align: right;\n",
       "    }\n",
       "</style>\n",
       "<table border=\"1\" class=\"dataframe\">\n",
       "  <thead>\n",
       "    <tr style=\"text-align: right;\">\n",
       "      <th></th>\n",
       "      <th>Home_team_score</th>\n",
       "      <th>Home_team_name</th>\n",
       "      <th>Away_team_score</th>\n",
       "      <th>Away_team_name</th>\n",
       "      <th>Season</th>\n",
       "      <th>Winner</th>\n",
       "    </tr>\n",
       "  </thead>\n",
       "  <tbody>\n",
       "    <tr>\n",
       "      <th>15796</th>\n",
       "      <td>Home_team_score</td>\n",
       "      <td>Home_team_name</td>\n",
       "      <td>Away_team_score</td>\n",
       "      <td>Away_team_name</td>\n",
       "      <td>Season</td>\n",
       "      <td>Home_team_name</td>\n",
       "    </tr>\n",
       "  </tbody>\n",
       "</table>\n",
       "</div>"
      ],
      "text/plain": [
       "       Home_team_score  Home_team_name  Away_team_score  Away_team_name   \n",
       "15796  Home_team_score  Home_team_name  Away_team_score  Away_team_name  \\\n",
       "\n",
       "       Season          Winner  \n",
       "15796  Season  Home_team_name  "
      ]
     },
     "execution_count": 21,
     "metadata": {},
     "output_type": "execute_result"
    }
   ],
   "source": [
    "df[df['Away_team_score']=='Away_team_score']"
   ]
  },
  {
   "cell_type": "code",
   "execution_count": 22,
   "metadata": {},
   "outputs": [],
   "source": [
    "\n",
    "df=df.drop(index=22379)"
   ]
  },
  {
   "cell_type": "code",
   "execution_count": 23,
   "metadata": {},
   "outputs": [
    {
     "data": {
      "text/html": [
       "<div>\n",
       "<style scoped>\n",
       "    .dataframe tbody tr th:only-of-type {\n",
       "        vertical-align: middle;\n",
       "    }\n",
       "\n",
       "    .dataframe tbody tr th {\n",
       "        vertical-align: top;\n",
       "    }\n",
       "\n",
       "    .dataframe thead th {\n",
       "        text-align: right;\n",
       "    }\n",
       "</style>\n",
       "<table border=\"1\" class=\"dataframe\">\n",
       "  <thead>\n",
       "    <tr style=\"text-align: right;\">\n",
       "      <th></th>\n",
       "      <th>Home_team_score</th>\n",
       "      <th>Home_team_name</th>\n",
       "      <th>Away_team_score</th>\n",
       "      <th>Away_team_name</th>\n",
       "      <th>Season</th>\n",
       "      <th>Winner</th>\n",
       "    </tr>\n",
       "  </thead>\n",
       "  <tbody>\n",
       "    <tr>\n",
       "      <th>0</th>\n",
       "      <td>2</td>\n",
       "      <td>West Ham United</td>\n",
       "      <td>2</td>\n",
       "      <td>Arsenal</td>\n",
       "      <td>2022/23</td>\n",
       "      <td>Draw</td>\n",
       "    </tr>\n",
       "    <tr>\n",
       "      <th>1</th>\n",
       "      <td>2</td>\n",
       "      <td>Tottenham Hotspur</td>\n",
       "      <td>3</td>\n",
       "      <td>Bournemouth</td>\n",
       "      <td>2022/23</td>\n",
       "      <td>Bournemouth</td>\n",
       "    </tr>\n",
       "    <tr>\n",
       "      <th>2</th>\n",
       "      <td>0</td>\n",
       "      <td>Southampton</td>\n",
       "      <td>2</td>\n",
       "      <td>Crystal Palace</td>\n",
       "      <td>2022/23</td>\n",
       "      <td>Crystal Palace</td>\n",
       "    </tr>\n",
       "    <tr>\n",
       "      <th>3</th>\n",
       "      <td>0</td>\n",
       "      <td>Nottingham Forest</td>\n",
       "      <td>2</td>\n",
       "      <td>Manchester United</td>\n",
       "      <td>2022/23</td>\n",
       "      <td>Manchester United</td>\n",
       "    </tr>\n",
       "    <tr>\n",
       "      <th>4</th>\n",
       "      <td>3</td>\n",
       "      <td>Manchester City</td>\n",
       "      <td>1</td>\n",
       "      <td>Leicester City</td>\n",
       "      <td>2022/23</td>\n",
       "      <td>Manchester City</td>\n",
       "    </tr>\n",
       "  </tbody>\n",
       "</table>\n",
       "</div>"
      ],
      "text/plain": [
       "  Home_team_score     Home_team_name Away_team_score     Away_team_name   \n",
       "0               2    West Ham United               2            Arsenal  \\\n",
       "1               2  Tottenham Hotspur               3        Bournemouth   \n",
       "2               0        Southampton               2     Crystal Palace   \n",
       "3               0  Nottingham Forest               2  Manchester United   \n",
       "4               3    Manchester City               1     Leicester City   \n",
       "\n",
       "    Season             Winner  \n",
       "0  2022/23               Draw  \n",
       "1  2022/23        Bournemouth  \n",
       "2  2022/23     Crystal Palace  \n",
       "3  2022/23  Manchester United  \n",
       "4  2022/23    Manchester City  "
      ]
     },
     "execution_count": 23,
     "metadata": {},
     "output_type": "execute_result"
    }
   ],
   "source": [
    "df.head()"
   ]
  },
  {
   "cell_type": "code",
   "execution_count": 24,
   "metadata": {},
   "outputs": [
    {
     "data": {
      "text/html": [
       "<div>\n",
       "<style scoped>\n",
       "    .dataframe tbody tr th:only-of-type {\n",
       "        vertical-align: middle;\n",
       "    }\n",
       "\n",
       "    .dataframe tbody tr th {\n",
       "        vertical-align: top;\n",
       "    }\n",
       "\n",
       "    .dataframe thead th {\n",
       "        text-align: right;\n",
       "    }\n",
       "</style>\n",
       "<table border=\"1\" class=\"dataframe\">\n",
       "  <thead>\n",
       "    <tr style=\"text-align: right;\">\n",
       "      <th></th>\n",
       "      <th>Home_team_score</th>\n",
       "      <th>Home_team_name</th>\n",
       "      <th>Away_team_score</th>\n",
       "      <th>Away_team_name</th>\n",
       "      <th>Season</th>\n",
       "      <th>Winner</th>\n",
       "    </tr>\n",
       "  </thead>\n",
       "  <tbody>\n",
       "    <tr>\n",
       "      <th>32817</th>\n",
       "      <td>1</td>\n",
       "      <td>Istanbulspor</td>\n",
       "      <td>1</td>\n",
       "      <td>Fenerbahçe</td>\n",
       "      <td>2018/19</td>\n",
       "      <td>Draw</td>\n",
       "    </tr>\n",
       "  </tbody>\n",
       "</table>\n",
       "</div>"
      ],
      "text/plain": [
       "      Home_team_score Home_team_name Away_team_score Away_team_name   Season   \n",
       "32817               1   Istanbulspor               1     Fenerbahçe  2018/19  \\\n",
       "\n",
       "      Winner  \n",
       "32817   Draw  "
      ]
     },
     "execution_count": 24,
     "metadata": {},
     "output_type": "execute_result"
    }
   ],
   "source": [
    "df[df['Home_team_name']=='Istanbulspor']"
   ]
  },
  {
   "cell_type": "code",
   "execution_count": 25,
   "metadata": {},
   "outputs": [],
   "source": [
    "df_2018=pd.read_csv('2018-19.csv')\n",
    "teams_2018=df_2018['Team'].unique()"
   ]
  },
  {
   "cell_type": "code",
   "execution_count": 26,
   "metadata": {},
   "outputs": [],
   "source": [
    "df_2019=pd.read_csv('2019-20.csv')\n",
    "teams_2019=df_2019['Team'].unique()"
   ]
  },
  {
   "cell_type": "code",
   "execution_count": 27,
   "metadata": {},
   "outputs": [],
   "source": [
    "df_2020=pd.read_csv('2020-21.csv')\n",
    "teams_2020=df_2020['Team'].unique()"
   ]
  },
  {
   "cell_type": "code",
   "execution_count": 28,
   "metadata": {},
   "outputs": [],
   "source": [
    "df_2021=pd.read_csv('2021-22.csv')\n",
    "teams_2021=df_2021['Team'].unique()"
   ]
  },
  {
   "cell_type": "code",
   "execution_count": 29,
   "metadata": {},
   "outputs": [],
   "source": [
    "df_2022=pd.read_csv('2022-23.csv')\n",
    "teams_2022=df_2022['Team'].unique()"
   ]
  },
  {
   "cell_type": "code",
   "execution_count": 30,
   "metadata": {},
   "outputs": [],
   "source": [
    "common_teams=list(set(teams_2018).intersection(teams_2019,teams_2020,teams_2021,teams_2022))"
   ]
  },
  {
   "cell_type": "code",
   "execution_count": 31,
   "metadata": {},
   "outputs": [
    {
     "data": {
      "text/plain": [
       "['Manchester United',\n",
       " 'Tottenham Hotspur',\n",
       " 'Southampton',\n",
       " 'Leicester City',\n",
       " 'West Ham United',\n",
       " 'Manchester City',\n",
       " 'Arsenal',\n",
       " 'Chelsea',\n",
       " 'Brighton and Hove Albion',\n",
       " 'Crystal Palace',\n",
       " 'Newcastle United',\n",
       " 'Wolverhampton Wanderers',\n",
       " 'Everton',\n",
       " 'Liverpool']"
      ]
     },
     "execution_count": 31,
     "metadata": {},
     "output_type": "execute_result"
    }
   ],
   "source": [
    "common_teams"
   ]
  },
  {
   "cell_type": "code",
   "execution_count": 32,
   "metadata": {},
   "outputs": [
    {
     "data": {
      "text/html": [
       "<div>\n",
       "<style scoped>\n",
       "    .dataframe tbody tr th:only-of-type {\n",
       "        vertical-align: middle;\n",
       "    }\n",
       "\n",
       "    .dataframe tbody tr th {\n",
       "        vertical-align: top;\n",
       "    }\n",
       "\n",
       "    .dataframe thead th {\n",
       "        text-align: right;\n",
       "    }\n",
       "</style>\n",
       "<table border=\"1\" class=\"dataframe\">\n",
       "  <thead>\n",
       "    <tr style=\"text-align: right;\">\n",
       "      <th></th>\n",
       "      <th>Home_team_score</th>\n",
       "      <th>Home_team_name</th>\n",
       "      <th>Away_team_score</th>\n",
       "      <th>Away_team_name</th>\n",
       "      <th>Season</th>\n",
       "      <th>Winner</th>\n",
       "    </tr>\n",
       "  </thead>\n",
       "  <tbody>\n",
       "    <tr>\n",
       "      <th>0</th>\n",
       "      <td>2</td>\n",
       "      <td>West Ham United</td>\n",
       "      <td>2</td>\n",
       "      <td>Arsenal</td>\n",
       "      <td>2022/23</td>\n",
       "      <td>Draw</td>\n",
       "    </tr>\n",
       "    <tr>\n",
       "      <th>1</th>\n",
       "      <td>2</td>\n",
       "      <td>Tottenham Hotspur</td>\n",
       "      <td>3</td>\n",
       "      <td>Bournemouth</td>\n",
       "      <td>2022/23</td>\n",
       "      <td>Bournemouth</td>\n",
       "    </tr>\n",
       "    <tr>\n",
       "      <th>2</th>\n",
       "      <td>0</td>\n",
       "      <td>Southampton</td>\n",
       "      <td>2</td>\n",
       "      <td>Crystal Palace</td>\n",
       "      <td>2022/23</td>\n",
       "      <td>Crystal Palace</td>\n",
       "    </tr>\n",
       "    <tr>\n",
       "      <th>3</th>\n",
       "      <td>0</td>\n",
       "      <td>Nottingham Forest</td>\n",
       "      <td>2</td>\n",
       "      <td>Manchester United</td>\n",
       "      <td>2022/23</td>\n",
       "      <td>Manchester United</td>\n",
       "    </tr>\n",
       "    <tr>\n",
       "      <th>4</th>\n",
       "      <td>3</td>\n",
       "      <td>Manchester City</td>\n",
       "      <td>1</td>\n",
       "      <td>Leicester City</td>\n",
       "      <td>2022/23</td>\n",
       "      <td>Manchester City</td>\n",
       "    </tr>\n",
       "  </tbody>\n",
       "</table>\n",
       "</div>"
      ],
      "text/plain": [
       "  Home_team_score     Home_team_name Away_team_score     Away_team_name   \n",
       "0               2    West Ham United               2            Arsenal  \\\n",
       "1               2  Tottenham Hotspur               3        Bournemouth   \n",
       "2               0        Southampton               2     Crystal Palace   \n",
       "3               0  Nottingham Forest               2  Manchester United   \n",
       "4               3    Manchester City               1     Leicester City   \n",
       "\n",
       "    Season             Winner  \n",
       "0  2022/23               Draw  \n",
       "1  2022/23        Bournemouth  \n",
       "2  2022/23     Crystal Palace  \n",
       "3  2022/23  Manchester United  \n",
       "4  2022/23    Manchester City  "
      ]
     },
     "execution_count": 32,
     "metadata": {},
     "output_type": "execute_result"
    }
   ],
   "source": [
    "df.head()"
   ]
  },
  {
   "cell_type": "code",
   "execution_count": 33,
   "metadata": {},
   "outputs": [],
   "source": [
    "df=df[df['Home_team_name'].isin(common_teams)]\n",
    "df=df[df['Away_team_name'].isin(common_teams)]"
   ]
  },
  {
   "cell_type": "code",
   "execution_count": 34,
   "metadata": {},
   "outputs": [
    {
     "data": {
      "text/plain": [
       "(1048, 6)"
      ]
     },
     "execution_count": 34,
     "metadata": {},
     "output_type": "execute_result"
    }
   ],
   "source": [
    "df.shape"
   ]
  },
  {
   "cell_type": "code",
   "execution_count": 35,
   "metadata": {},
   "outputs": [
    {
     "data": {
      "text/html": [
       "<div>\n",
       "<style scoped>\n",
       "    .dataframe tbody tr th:only-of-type {\n",
       "        vertical-align: middle;\n",
       "    }\n",
       "\n",
       "    .dataframe tbody tr th {\n",
       "        vertical-align: top;\n",
       "    }\n",
       "\n",
       "    .dataframe thead th {\n",
       "        text-align: right;\n",
       "    }\n",
       "</style>\n",
       "<table border=\"1\" class=\"dataframe\">\n",
       "  <thead>\n",
       "    <tr style=\"text-align: right;\">\n",
       "      <th></th>\n",
       "      <th>Home_team_score</th>\n",
       "      <th>Home_team_name</th>\n",
       "      <th>Away_team_score</th>\n",
       "      <th>Away_team_name</th>\n",
       "      <th>Season</th>\n",
       "      <th>Winner</th>\n",
       "    </tr>\n",
       "  </thead>\n",
       "  <tbody>\n",
       "    <tr>\n",
       "      <th>0</th>\n",
       "      <td>2</td>\n",
       "      <td>West Ham United</td>\n",
       "      <td>2</td>\n",
       "      <td>Arsenal</td>\n",
       "      <td>2022/23</td>\n",
       "      <td>Draw</td>\n",
       "    </tr>\n",
       "    <tr>\n",
       "      <th>2</th>\n",
       "      <td>0</td>\n",
       "      <td>Southampton</td>\n",
       "      <td>2</td>\n",
       "      <td>Crystal Palace</td>\n",
       "      <td>2022/23</td>\n",
       "      <td>Crystal Palace</td>\n",
       "    </tr>\n",
       "    <tr>\n",
       "      <th>4</th>\n",
       "      <td>3</td>\n",
       "      <td>Manchester City</td>\n",
       "      <td>1</td>\n",
       "      <td>Leicester City</td>\n",
       "      <td>2022/23</td>\n",
       "      <td>Manchester City</td>\n",
       "    </tr>\n",
       "    <tr>\n",
       "      <th>8</th>\n",
       "      <td>1</td>\n",
       "      <td>Wolverhampton Wanderers</td>\n",
       "      <td>0</td>\n",
       "      <td>Chelsea</td>\n",
       "      <td>2022/23</td>\n",
       "      <td>Wolverhampton Wanderers</td>\n",
       "    </tr>\n",
       "    <tr>\n",
       "      <th>10</th>\n",
       "      <td>1</td>\n",
       "      <td>Southampton</td>\n",
       "      <td>4</td>\n",
       "      <td>Manchester City</td>\n",
       "      <td>2022/23</td>\n",
       "      <td>Manchester City</td>\n",
       "    </tr>\n",
       "  </tbody>\n",
       "</table>\n",
       "</div>"
      ],
      "text/plain": [
       "   Home_team_score           Home_team_name Away_team_score   Away_team_name   \n",
       "0                2          West Ham United               2          Arsenal  \\\n",
       "2                0              Southampton               2   Crystal Palace   \n",
       "4                3          Manchester City               1   Leicester City   \n",
       "8                1  Wolverhampton Wanderers               0          Chelsea   \n",
       "10               1              Southampton               4  Manchester City   \n",
       "\n",
       "     Season                   Winner  \n",
       "0   2022/23                     Draw  \n",
       "2   2022/23           Crystal Palace  \n",
       "4   2022/23          Manchester City  \n",
       "8   2022/23  Wolverhampton Wanderers  \n",
       "10  2022/23          Manchester City  "
      ]
     },
     "execution_count": 35,
     "metadata": {},
     "output_type": "execute_result"
    }
   ],
   "source": [
    "df.head()"
   ]
  },
  {
   "cell_type": "markdown",
   "metadata": {},
   "source": [
    "Analysis on Manchester City on last 5 years"
   ]
  },
  {
   "cell_type": "code",
   "execution_count": 37,
   "metadata": {},
   "outputs": [],
   "source": [
    "matches_played=df[df['Home_team_name']=='Manchester City'].shape[0] + df[df['Away_team_name']=='Manchester City'].shape[0]\n",
    "matches_won=df[df['Winner']=='Manchester City'].shape[0]\n",
    "data=df[(df['Home_team_name'] == 'Manchester City') | (df['Away_team_name'] == 'Manchester City')]\n",
    "matches_draw=data[data['Winner']=='Draw'].shape[0]\n",
    "matches_lost=matches_played-(matches_won+matches_draw)"
   ]
  },
  {
   "cell_type": "code",
   "execution_count": 38,
   "metadata": {},
   "outputs": [
    {
     "data": {
      "image/png": "[encoded data removed]",
      "text/plain": [
       "<Figure size 640x480 with 1 Axes>"
      ]
     },
     "metadata": {},
     "output_type": "display_data"
    }
   ],
   "source": [
    "won_percentage = (matches_won / matches_played) * 100\n",
    "draw_percentage = (matches_draw / matches_played) * 100\n",
    "lost_percentage = (matches_lost / matches_played) * 100\n",
    "\n",
    "labels = ['Won', 'Draw', 'Lost']\n",
    "sizes = [won_percentage, draw_percentage, lost_percentage]\n",
    "\n",
    "# Plot the pie chart\n",
    "plt.pie(sizes, labels=labels, autopct='%1.1f%%', startangle=90)\n",
    "plt.title('Performance in Last 5 Years')\n",
    "plt.axis('equal')  # Equal aspect ratio ensures that pie is drawn as a circle.\n",
    "\n",
    "# Show the pie chart\n",
    "plt.show()"
   ]
  },
  {
   "cell_type": "markdown",
   "metadata": {},
   "source": [
    "Performane in Home Ground"
   ]
  },
  {
   "cell_type": "code",
   "execution_count": 39,
   "metadata": {},
   "outputs": [],
   "source": [
    "matches_played_at_Home=df[df['Home_team_name']=='Manchester City'].shape[0]\n",
    "data=df[(df['Home_team_name'] == 'Manchester City') ]\n",
    "matches_won_at_Home=data[data['Winner']=='Manchester City'].shape[0]\n",
    "matches_draw_at_Home=data[data['Winner']=='Draw'].shape[0]\n",
    "matches_lost_at_Home=matches_played_at_Home-(matches_draw_at_Home+matches_won_at_Home)"
   ]
  },
  {
   "cell_type": "code",
   "execution_count": 40,
   "metadata": {},
   "outputs": [
    {
     "data": {
      "image/png": "[encoded data removed]",
      "text/plain": [
       "<Figure size 640x480 with 1 Axes>"
      ]
     },
     "metadata": {},
     "output_type": "display_data"
    }
   ],
   "source": [
    "won_percentage = (matches_won_at_Home / matches_played_at_Home) * 100\n",
    "draw_percentage = (matches_draw_at_Home / matches_played_at_Home) * 100\n",
    "lost_percentage = (matches_lost_at_Home / matches_played_at_Home) * 100\n",
    "\n",
    "labels = ['Won', 'Draw', 'Lost']\n",
    "sizes = [won_percentage, draw_percentage, lost_percentage]\n",
    "\n",
    "# Plot the pie chart\n",
    "plt.pie(sizes, labels=labels, autopct='%1.1f%%', startangle=90)\n",
    "plt.title('Performance at Home in Last 5 Years')\n",
    "plt.axis('equal')  # Equal aspect ratio ensures that pie is drawn as a circle.\n",
    "\n",
    "# Show the pie chart\n",
    "plt.show()"
   ]
  },
  {
   "cell_type": "markdown",
   "metadata": {},
   "source": [
    "Performance at Away Ground"
   ]
  },
  {
   "cell_type": "code",
   "execution_count": 41,
   "metadata": {},
   "outputs": [],
   "source": [
    "matches_played_at_Away=df[df['Away_team_name']=='Manchester City'].shape[0]\n",
    "data=df[(df['Away_team_name'] == 'Manchester City') ]\n",
    "matches_won_at_Away=data[data['Winner']=='Manchester City'].shape[0]\n",
    "matches_draw_at_Away=data[data['Winner']=='Draw'].shape[0]\n",
    "matches_lost_at_Away=matches_played_at_Home-(matches_draw_at_Home+matches_won_at_Home)"
   ]
  },
  {
   "cell_type": "code",
   "execution_count": 42,
   "metadata": {},
   "outputs": [
    {
     "data": {
      "image/png": "[encoded data removed]",
      "text/plain": [
       "<Figure size 640x480 with 1 Axes>"
      ]
     },
     "metadata": {},
     "output_type": "display_data"
    }
   ],
   "source": [
    "won_percentage = (matches_won_at_Away / matches_played_at_Away) * 100\n",
    "draw_percentage = (matches_draw_at_Away / matches_played_at_Away) * 100\n",
    "lost_percentage = (matches_lost_at_Away / matches_played_at_Away) * 100\n",
    "\n",
    "labels = ['Won', 'Draw', 'Lost']\n",
    "sizes = [won_percentage, draw_percentage, lost_percentage]\n",
    "\n",
    "# Plot the pie chart\n",
    "plt.pie(sizes, labels=labels, autopct='%1.1f%%', startangle=90)\n",
    "plt.title('Performance at Away in Last 5 Years')\n",
    "plt.axis('equal')  # Equal aspect ratio ensures that pie is drawn as a circle.\n",
    "\n",
    "# Show the pie chart\n",
    "plt.show()"
   ]
  },
  {
   "cell_type": "markdown",
   "metadata": {},
   "source": [
    "Goals"
   ]
  },
  {
   "cell_type": "code",
   "execution_count": 43,
   "metadata": {},
   "outputs": [
    {
     "data": {
      "text/html": [
       "<div>\n",
       "<style scoped>\n",
       "    .dataframe tbody tr th:only-of-type {\n",
       "        vertical-align: middle;\n",
       "    }\n",
       "\n",
       "    .dataframe tbody tr th {\n",
       "        vertical-align: top;\n",
       "    }\n",
       "\n",
       "    .dataframe thead th {\n",
       "        text-align: right;\n",
       "    }\n",
       "</style>\n",
       "<table border=\"1\" class=\"dataframe\">\n",
       "  <thead>\n",
       "    <tr style=\"text-align: right;\">\n",
       "      <th></th>\n",
       "      <th>Unnamed: 0</th>\n",
       "      <th>Team</th>\n",
       "      <th>Pl</th>\n",
       "      <th>W</th>\n",
       "      <th>D</th>\n",
       "      <th>L</th>\n",
       "      <th>F</th>\n",
       "      <th>A</th>\n",
       "      <th>GD</th>\n",
       "      <th>Pts</th>\n",
       "    </tr>\n",
       "  </thead>\n",
       "  <tbody>\n",
       "    <tr>\n",
       "      <th>0</th>\n",
       "      <td>0</td>\n",
       "      <td>Liverpool</td>\n",
       "      <td>38</td>\n",
       "      <td>32</td>\n",
       "      <td>3</td>\n",
       "      <td>3</td>\n",
       "      <td>85</td>\n",
       "      <td>33</td>\n",
       "      <td>52</td>\n",
       "      <td>99</td>\n",
       "    </tr>\n",
       "    <tr>\n",
       "      <th>1</th>\n",
       "      <td>1</td>\n",
       "      <td>Manchester City</td>\n",
       "      <td>38</td>\n",
       "      <td>26</td>\n",
       "      <td>3</td>\n",
       "      <td>9</td>\n",
       "      <td>102</td>\n",
       "      <td>35</td>\n",
       "      <td>67</td>\n",
       "      <td>81</td>\n",
       "    </tr>\n",
       "    <tr>\n",
       "      <th>2</th>\n",
       "      <td>2</td>\n",
       "      <td>Manchester United</td>\n",
       "      <td>38</td>\n",
       "      <td>18</td>\n",
       "      <td>12</td>\n",
       "      <td>8</td>\n",
       "      <td>66</td>\n",
       "      <td>36</td>\n",
       "      <td>30</td>\n",
       "      <td>66</td>\n",
       "    </tr>\n",
       "    <tr>\n",
       "      <th>3</th>\n",
       "      <td>3</td>\n",
       "      <td>Chelsea</td>\n",
       "      <td>38</td>\n",
       "      <td>20</td>\n",
       "      <td>6</td>\n",
       "      <td>12</td>\n",
       "      <td>69</td>\n",
       "      <td>54</td>\n",
       "      <td>15</td>\n",
       "      <td>66</td>\n",
       "    </tr>\n",
       "    <tr>\n",
       "      <th>4</th>\n",
       "      <td>4</td>\n",
       "      <td>Leicester City</td>\n",
       "      <td>38</td>\n",
       "      <td>18</td>\n",
       "      <td>8</td>\n",
       "      <td>12</td>\n",
       "      <td>67</td>\n",
       "      <td>41</td>\n",
       "      <td>26</td>\n",
       "      <td>62</td>\n",
       "    </tr>\n",
       "  </tbody>\n",
       "</table>\n",
       "</div>"
      ],
      "text/plain": [
       "   Unnamed: 0               Team  Pl   W   D   L    F   A  GD  Pts\n",
       "0           0          Liverpool  38  32   3   3   85  33  52   99\n",
       "1           1    Manchester City  38  26   3   9  102  35  67   81\n",
       "2           2  Manchester United  38  18  12   8   66  36  30   66\n",
       "3           3            Chelsea  38  20   6  12   69  54  15   66\n",
       "4           4     Leicester City  38  18   8  12   67  41  26   62"
      ]
     },
     "execution_count": 43,
     "metadata": {},
     "output_type": "execute_result"
    }
   ],
   "source": [
    "df_2019.head()"
   ]
  },
  {
   "cell_type": "code",
   "execution_count": 44,
   "metadata": {},
   "outputs": [],
   "source": [
    "goal_scored_in_2018=df_2018[df_2018['Team']=='Manchester City']['F'].values[0]\n",
    "goal_scored_in_2019=df_2019[df_2019['Team']=='Manchester City']['F'].values[0]\n",
    "goal_scored_in_2020=df_2020[df_2020['Team']=='Manchester City']['F'].values[0]\n",
    "goal_scored_in_2021=df_2021[df_2021['Team']=='Manchester City']['F'].values[0]\n",
    "goal_scored_in_2022=df_2022[df_2022['Team']=='Manchester City']['F'].values[0]\n",
    "\n",
    "goal_conceded_in_2018=df_2018[df_2018['Team']=='Manchester City']['A'].values[0]\n",
    "goal_conceded_in_2019=df_2019[df_2019['Team']=='Manchester City']['A'].values[0]\n",
    "goal_conceded_in_2020=df_2020[df_2020['Team']=='Manchester City']['A'].values[0]\n",
    "goal_conceded_in_2021=df_2021[df_2021['Team']=='Manchester City']['A'].values[0]\n",
    "goal_conceded_in_2022=df_2022[df_2022['Team']=='Manchester City']['A'].values[0]\n",
    "\n",
    "total_goals_scored_in_last_5_years=goal_scored_in_2018+goal_scored_in_2019+goal_scored_in_2020+goal_scored_in_2021+goal_scored_in_2022\n",
    "total_goals_conceded_in_last_5_years=goal_conceded_in_2018+goal_conceded_in_2019+goal_conceded_in_2020+goal_conceded_in_2021+goal_conceded_in_2022\n"
   ]
  },
  {
   "cell_type": "code",
   "execution_count": 45,
   "metadata": {},
   "outputs": [
    {
     "data": {
      "text/html": [
       "<div>\n",
       "<style scoped>\n",
       "    .dataframe tbody tr th:only-of-type {\n",
       "        vertical-align: middle;\n",
       "    }\n",
       "\n",
       "    .dataframe tbody tr th {\n",
       "        vertical-align: top;\n",
       "    }\n",
       "\n",
       "    .dataframe thead th {\n",
       "        text-align: right;\n",
       "    }\n",
       "</style>\n",
       "<table border=\"1\" class=\"dataframe\">\n",
       "  <thead>\n",
       "    <tr style=\"text-align: right;\">\n",
       "      <th></th>\n",
       "      <th>Goal_Scored</th>\n",
       "      <th>Goal_Conceded</th>\n",
       "    </tr>\n",
       "    <tr>\n",
       "      <th>Season</th>\n",
       "      <th></th>\n",
       "      <th></th>\n",
       "    </tr>\n",
       "  </thead>\n",
       "  <tbody>\n",
       "    <tr>\n",
       "      <th>2018-19</th>\n",
       "      <td>95</td>\n",
       "      <td>23</td>\n",
       "    </tr>\n",
       "    <tr>\n",
       "      <th>2019-20</th>\n",
       "      <td>102</td>\n",
       "      <td>35</td>\n",
       "    </tr>\n",
       "    <tr>\n",
       "      <th>2020-21</th>\n",
       "      <td>83</td>\n",
       "      <td>32</td>\n",
       "    </tr>\n",
       "    <tr>\n",
       "      <th>2021-22</th>\n",
       "      <td>99</td>\n",
       "      <td>26</td>\n",
       "    </tr>\n",
       "    <tr>\n",
       "      <th>2022-23</th>\n",
       "      <td>94</td>\n",
       "      <td>33</td>\n",
       "    </tr>\n",
       "  </tbody>\n",
       "</table>\n",
       "</div>"
      ],
      "text/plain": [
       "         Goal_Scored  Goal_Conceded\n",
       "Season                             \n",
       "2018-19           95             23\n",
       "2019-20          102             35\n",
       "2020-21           83             32\n",
       "2021-22           99             26\n",
       "2022-23           94             33"
      ]
     },
     "execution_count": 45,
     "metadata": {},
     "output_type": "execute_result"
    }
   ],
   "source": [
    "seasons = ['2018-19', '2019-20', '2020-21', '2021-22', '2022-23']\n",
    "goal_scored_per_Season = [goal_scored_in_2018, goal_scored_in_2019, goal_scored_in_2020, goal_scored_in_2021, goal_scored_in_2022]\n",
    "goal_conceded_per_Season = [goal_conceded_in_2018, goal_conceded_in_2019, goal_conceded_in_2020, goal_conceded_in_2021, goal_conceded_in_2022]\n",
    "\n",
    "# Create a DataFrame\n",
    "data = pd.DataFrame({\n",
    "    'Season': seasons,\n",
    "    'Goal_Scored': goal_scored_per_Season,\n",
    "    'Goal_Conceded': goal_conceded_per_Season\n",
    "})\n",
    "\n",
    "# Set 'Season' as the index\n",
    "data.set_index('Season', inplace=True)\n",
    "data"
   ]
  },
  {
   "cell_type": "code",
   "execution_count": 96,
   "metadata": {},
   "outputs": [
    {
     "data": {
      "text/plain": [
       "Text(0, 0.5, 'Goals')"
      ]
     },
     "execution_count": 96,
     "metadata": {},
     "output_type": "execute_result"
    },
    {
     "data": {
      "image/png": "[encoded data removed]",
      "text/plain": [
       "<Figure size 1500x800 with 1 Axes>"
      ]
     },
     "metadata": {},
     "output_type": "display_data"
    }
   ],
   "source": [
    "plotdata = pd.DataFrame({\n",
    "\n",
    "    \"Goal_Scored\":[goal_scored_in_2018, goal_scored_in_2019, goal_scored_in_2020, goal_scored_in_2021, goal_scored_in_2022],\n",
    "\n",
    "    \"Goal_Conceded\":[goal_conceded_in_2018, goal_conceded_in_2019, goal_conceded_in_2020, goal_conceded_in_2021, goal_conceded_in_2022],\n",
    "\n",
    "    },\n",
    "\n",
    "    index=['2018-19', '2019-20', '2020-21', '2021-22', '2022-23'])\n",
    "\n",
    "ax=plotdata.plot(kind=\"bar\",figsize=(15, 8))\n",
    "for i in ax.containers:\n",
    "    ax.bar_label(i,)\n",
    "\n",
    "plt.title(\"Goals per Seasons\")\n",
    "\n",
    "plt.xlabel(\"Seasons\")\n",
    "\n",
    "plt.ylabel(\"Goals\")"
   ]
  },
  {
   "cell_type": "code",
   "execution_count": 47,
   "metadata": {},
   "outputs": [
    {
     "data": {
      "image/png": "[encoded data removed]",
      "text/plain": [
       "<Figure size 640x480 with 1 Axes>"
      ]
     },
     "metadata": {},
     "output_type": "display_data"
    }
   ],
   "source": [
    "percentage_2018 = (goal_scored_in_2018 / total_goals_scored_in_last_5_years) * 100\n",
    "percentage_2019 = (goal_scored_in_2019 / total_goals_scored_in_last_5_years) * 100\n",
    "percentage_2020 = (goal_scored_in_2020 / total_goals_scored_in_last_5_years) * 100\n",
    "percentage_2021 = (goal_scored_in_2021 / total_goals_scored_in_last_5_years) * 100\n",
    "percentage_2022 = (goal_scored_in_2022 / total_goals_scored_in_last_5_years) * 100\n",
    "\n",
    "labels = ['2018', '2019', '2020','2021','2022']\n",
    "sizes = [percentage_2018,percentage_2019,percentage_2020,percentage_2021,percentage_2022]\n",
    "\n",
    "# Plot the pie chart\n",
    "plt.pie(sizes, labels=labels, autopct='%1.1f%%', startangle=90)\n",
    "plt.title('Goals Scored in last 5 Years')\n",
    "plt.axis('equal')  # Equal aspect ratio ensures that pie is drawn as a circle.\n",
    "\n",
    "# Show the pie chart\n",
    "plt.show()"
   ]
  },
  {
   "cell_type": "code",
   "execution_count": 48,
   "metadata": {},
   "outputs": [
    {
     "data": {
      "image/png": "[encoded data removed]",
      "text/plain": [
       "<Figure size 640x480 with 1 Axes>"
      ]
     },
     "metadata": {},
     "output_type": "display_data"
    }
   ],
   "source": [
    "percentage_2018 = (goal_conceded_in_2018 / total_goals_conceded_in_last_5_years) * 100\n",
    "percentage_2019 = (goal_conceded_in_2019 / total_goals_conceded_in_last_5_years) * 100\n",
    "percentage_2020 = (goal_conceded_in_2020 / total_goals_conceded_in_last_5_years) * 100\n",
    "percentage_2021 = (goal_conceded_in_2021 / total_goals_conceded_in_last_5_years) * 100\n",
    "percentage_2022 = (goal_conceded_in_2022 / total_goals_conceded_in_last_5_years) * 100\n",
    "\n",
    "labels = ['2018', '2019', '2020','2021','2022']\n",
    "sizes = [percentage_2018,percentage_2019,percentage_2020,percentage_2021,percentage_2022]\n",
    "\n",
    "# Plot the pie chart\n",
    "plt.pie(sizes, labels=labels, autopct='%1.1f%%', startangle=90)\n",
    "plt.title('Goals Conceded in last 5 Years')\n",
    "plt.axis('equal')  # Equal aspect ratio ensures that pie is drawn as a circle.\n",
    "\n",
    "# Show the pie chart\n",
    "plt.show()"
   ]
  },
  {
   "cell_type": "code",
   "execution_count": 49,
   "metadata": {},
   "outputs": [
    {
     "data": {
      "text/html": [
       "<div>\n",
       "<style scoped>\n",
       "    .dataframe tbody tr th:only-of-type {\n",
       "        vertical-align: middle;\n",
       "    }\n",
       "\n",
       "    .dataframe tbody tr th {\n",
       "        vertical-align: top;\n",
       "    }\n",
       "\n",
       "    .dataframe thead th {\n",
       "        text-align: right;\n",
       "    }\n",
       "</style>\n",
       "<table border=\"1\" class=\"dataframe\">\n",
       "  <thead>\n",
       "    <tr style=\"text-align: right;\">\n",
       "      <th></th>\n",
       "      <th>Home_team_score</th>\n",
       "      <th>Home_team_name</th>\n",
       "      <th>Away_team_score</th>\n",
       "      <th>Away_team_name</th>\n",
       "      <th>Season</th>\n",
       "      <th>Winner</th>\n",
       "    </tr>\n",
       "  </thead>\n",
       "  <tbody>\n",
       "    <tr>\n",
       "      <th>0</th>\n",
       "      <td>2</td>\n",
       "      <td>West Ham United</td>\n",
       "      <td>2</td>\n",
       "      <td>Arsenal</td>\n",
       "      <td>2022/23</td>\n",
       "      <td>Draw</td>\n",
       "    </tr>\n",
       "    <tr>\n",
       "      <th>2</th>\n",
       "      <td>0</td>\n",
       "      <td>Southampton</td>\n",
       "      <td>2</td>\n",
       "      <td>Crystal Palace</td>\n",
       "      <td>2022/23</td>\n",
       "      <td>Crystal Palace</td>\n",
       "    </tr>\n",
       "    <tr>\n",
       "      <th>4</th>\n",
       "      <td>3</td>\n",
       "      <td>Manchester City</td>\n",
       "      <td>1</td>\n",
       "      <td>Leicester City</td>\n",
       "      <td>2022/23</td>\n",
       "      <td>Manchester City</td>\n",
       "    </tr>\n",
       "    <tr>\n",
       "      <th>8</th>\n",
       "      <td>1</td>\n",
       "      <td>Wolverhampton Wanderers</td>\n",
       "      <td>0</td>\n",
       "      <td>Chelsea</td>\n",
       "      <td>2022/23</td>\n",
       "      <td>Wolverhampton Wanderers</td>\n",
       "    </tr>\n",
       "    <tr>\n",
       "      <th>10</th>\n",
       "      <td>1</td>\n",
       "      <td>Southampton</td>\n",
       "      <td>4</td>\n",
       "      <td>Manchester City</td>\n",
       "      <td>2022/23</td>\n",
       "      <td>Manchester City</td>\n",
       "    </tr>\n",
       "  </tbody>\n",
       "</table>\n",
       "</div>"
      ],
      "text/plain": [
       "    Home_team_score           Home_team_name  Away_team_score   \n",
       "0                 2          West Ham United                2  \\\n",
       "2                 0              Southampton                2   \n",
       "4                 3          Manchester City                1   \n",
       "8                 1  Wolverhampton Wanderers                0   \n",
       "10                1              Southampton                4   \n",
       "\n",
       "     Away_team_name   Season                   Winner  \n",
       "0           Arsenal  2022/23                     Draw  \n",
       "2    Crystal Palace  2022/23           Crystal Palace  \n",
       "4    Leicester City  2022/23          Manchester City  \n",
       "8           Chelsea  2022/23  Wolverhampton Wanderers  \n",
       "10  Manchester City  2022/23          Manchester City  "
      ]
     },
     "execution_count": 49,
     "metadata": {},
     "output_type": "execute_result"
    }
   ],
   "source": [
    "df.head()"
   ]
  },
  {
   "cell_type": "markdown",
   "metadata": {},
   "source": [
    "Home"
   ]
  },
  {
   "cell_type": "code",
   "execution_count": 198,
   "metadata": {},
   "outputs": [
    {
     "data": {
      "text/html": [
       "<div>\n",
       "<style scoped>\n",
       "    .dataframe tbody tr th:only-of-type {\n",
       "        vertical-align: middle;\n",
       "    }\n",
       "\n",
       "    .dataframe tbody tr th {\n",
       "        vertical-align: top;\n",
       "    }\n",
       "\n",
       "    .dataframe thead th {\n",
       "        text-align: right;\n",
       "    }\n",
       "</style>\n",
       "<table border=\"1\" class=\"dataframe\">\n",
       "  <thead>\n",
       "    <tr style=\"text-align: right;\">\n",
       "      <th></th>\n",
       "      <th>Unnamed: 0</th>\n",
       "      <th>Team</th>\n",
       "      <th>Pl</th>\n",
       "      <th>W</th>\n",
       "      <th>D</th>\n",
       "      <th>L</th>\n",
       "      <th>F</th>\n",
       "      <th>A</th>\n",
       "      <th>GD</th>\n",
       "      <th>Pts</th>\n",
       "    </tr>\n",
       "  </thead>\n",
       "  <tbody>\n",
       "    <tr>\n",
       "      <th>0</th>\n",
       "      <td>0</td>\n",
       "      <td>Manchester City</td>\n",
       "      <td>38</td>\n",
       "      <td>32</td>\n",
       "      <td>2</td>\n",
       "      <td>4</td>\n",
       "      <td>95</td>\n",
       "      <td>23</td>\n",
       "      <td>72</td>\n",
       "      <td>98</td>\n",
       "    </tr>\n",
       "    <tr>\n",
       "      <th>1</th>\n",
       "      <td>1</td>\n",
       "      <td>Liverpool</td>\n",
       "      <td>38</td>\n",
       "      <td>30</td>\n",
       "      <td>7</td>\n",
       "      <td>1</td>\n",
       "      <td>89</td>\n",
       "      <td>22</td>\n",
       "      <td>67</td>\n",
       "      <td>97</td>\n",
       "    </tr>\n",
       "    <tr>\n",
       "      <th>2</th>\n",
       "      <td>2</td>\n",
       "      <td>Chelsea</td>\n",
       "      <td>38</td>\n",
       "      <td>21</td>\n",
       "      <td>9</td>\n",
       "      <td>8</td>\n",
       "      <td>63</td>\n",
       "      <td>39</td>\n",
       "      <td>24</td>\n",
       "      <td>72</td>\n",
       "    </tr>\n",
       "    <tr>\n",
       "      <th>3</th>\n",
       "      <td>3</td>\n",
       "      <td>Tottenham Hotspur</td>\n",
       "      <td>38</td>\n",
       "      <td>23</td>\n",
       "      <td>2</td>\n",
       "      <td>13</td>\n",
       "      <td>67</td>\n",
       "      <td>39</td>\n",
       "      <td>28</td>\n",
       "      <td>71</td>\n",
       "    </tr>\n",
       "    <tr>\n",
       "      <th>4</th>\n",
       "      <td>4</td>\n",
       "      <td>Arsenal</td>\n",
       "      <td>38</td>\n",
       "      <td>21</td>\n",
       "      <td>7</td>\n",
       "      <td>10</td>\n",
       "      <td>73</td>\n",
       "      <td>51</td>\n",
       "      <td>22</td>\n",
       "      <td>70</td>\n",
       "    </tr>\n",
       "  </tbody>\n",
       "</table>\n",
       "</div>"
      ],
      "text/plain": [
       "   Unnamed: 0               Team  Pl   W  D   L   F   A  GD  Pts\n",
       "0           0    Manchester City  38  32  2   4  95  23  72   98\n",
       "1           1          Liverpool  38  30  7   1  89  22  67   97\n",
       "2           2            Chelsea  38  21  9   8  63  39  24   72\n",
       "3           3  Tottenham Hotspur  38  23  2  13  67  39  28   71\n",
       "4           4            Arsenal  38  21  7  10  73  51  22   70"
      ]
     },
     "execution_count": 198,
     "metadata": {},
     "output_type": "execute_result"
    }
   ],
   "source": [
    "df_2018.head()"
   ]
  },
  {
   "cell_type": "markdown",
   "metadata": {},
   "source": [
    "Goals at home"
   ]
  },
  {
   "cell_type": "code",
   "execution_count": 51,
   "metadata": {},
   "outputs": [
    {
     "data": {
      "text/html": [
       "<div>\n",
       "<style scoped>\n",
       "    .dataframe tbody tr th:only-of-type {\n",
       "        vertical-align: middle;\n",
       "    }\n",
       "\n",
       "    .dataframe tbody tr th {\n",
       "        vertical-align: top;\n",
       "    }\n",
       "\n",
       "    .dataframe thead th {\n",
       "        text-align: right;\n",
       "    }\n",
       "</style>\n",
       "<table border=\"1\" class=\"dataframe\">\n",
       "  <thead>\n",
       "    <tr style=\"text-align: right;\">\n",
       "      <th></th>\n",
       "      <th>Team</th>\n",
       "      <th>Goals</th>\n",
       "      <th>Shots pg</th>\n",
       "      <th>Discipline</th>\n",
       "      <th>Possession%</th>\n",
       "      <th>Pass%</th>\n",
       "      <th>Unnamed: 6</th>\n",
       "      <th>Unnamed: 7</th>\n",
       "    </tr>\n",
       "  </thead>\n",
       "  <tbody>\n",
       "    <tr>\n",
       "      <th>0</th>\n",
       "      <td>1. Manchester City</td>\n",
       "      <td>95</td>\n",
       "      <td>18.0</td>\n",
       "      <td>441</td>\n",
       "      <td>64.0</td>\n",
       "      <td>89.0</td>\n",
       "      <td>NaN</td>\n",
       "      <td>NaN</td>\n",
       "    </tr>\n",
       "    <tr>\n",
       "      <th>1</th>\n",
       "      <td>2. Liverpool</td>\n",
       "      <td>89</td>\n",
       "      <td>15.1</td>\n",
       "      <td>372</td>\n",
       "      <td>58.8</td>\n",
       "      <td>84.4</td>\n",
       "      <td>NaN</td>\n",
       "      <td>NaN</td>\n",
       "    </tr>\n",
       "    <tr>\n",
       "      <th>2</th>\n",
       "      <td>3. Chelsea</td>\n",
       "      <td>63</td>\n",
       "      <td>16.0</td>\n",
       "      <td>490</td>\n",
       "      <td>59.9</td>\n",
       "      <td>87.6</td>\n",
       "      <td>NaN</td>\n",
       "      <td>NaN</td>\n",
       "    </tr>\n",
       "    <tr>\n",
       "      <th>3</th>\n",
       "      <td>4. Tottenham</td>\n",
       "      <td>67</td>\n",
       "      <td>14.1</td>\n",
       "      <td>563</td>\n",
       "      <td>56.7</td>\n",
       "      <td>83.2</td>\n",
       "      <td>NaN</td>\n",
       "      <td>NaN</td>\n",
       "    </tr>\n",
       "    <tr>\n",
       "      <th>4</th>\n",
       "      <td>5. Arsenal</td>\n",
       "      <td>73</td>\n",
       "      <td>12.3</td>\n",
       "      <td>722</td>\n",
       "      <td>56.1</td>\n",
       "      <td>83.3</td>\n",
       "      <td>NaN</td>\n",
       "      <td>NaN</td>\n",
       "    </tr>\n",
       "  </tbody>\n",
       "</table>\n",
       "</div>"
      ],
      "text/plain": [
       "                 Team  Goals  Shots pg  Discipline  Possession%  Pass%   \n",
       "0  1. Manchester City     95      18.0         441         64.0   89.0  \\\n",
       "1        2. Liverpool     89      15.1         372         58.8   84.4   \n",
       "2          3. Chelsea     63      16.0         490         59.9   87.6   \n",
       "3        4. Tottenham     67      14.1         563         56.7   83.2   \n",
       "4          5. Arsenal     73      12.3         722         56.1   83.3   \n",
       "\n",
       "   Unnamed: 6  Unnamed: 7  \n",
       "0         NaN         NaN  \n",
       "1         NaN         NaN  \n",
       "2         NaN         NaN  \n",
       "3         NaN         NaN  \n",
       "4         NaN         NaN  "
      ]
     },
     "execution_count": 51,
     "metadata": {},
     "output_type": "execute_result"
    }
   ],
   "source": [
    "df_team_stats_2018=pd.read_csv(r'D:\\beutiful\\team_stats_2018-19.csv')\n",
    "df_team_stats_2018.head()"
   ]
  },
  {
   "cell_type": "code",
   "execution_count": 55,
   "metadata": {},
   "outputs": [
    {
     "data": {
      "text/plain": [
       "0        1. Manchester City\n",
       "1              2. Liverpool\n",
       "2                3. Chelsea\n",
       "3              4. Tottenham\n",
       "4                5. Arsenal\n",
       "5              6. Leicester\n",
       "6         7. Crystal Palace\n",
       "7               8. West Ham\n",
       "8                9. Everton\n",
       "9                10. Wolves\n",
       "10            11. Newcastle\n",
       "11    12. Manchester United\n",
       "12              13. Burnley\n",
       "13          14. Southampton\n",
       "14              15. Watford\n",
       "15          16. Bournemouth\n",
       "16              17. Cardiff\n",
       "17             18. Brighton\n",
       "18               19. Fulham\n",
       "19         20. Huddersfield\n",
       "Name: Team, dtype: object"
      ]
     },
     "execution_count": 55,
     "metadata": {},
     "output_type": "execute_result"
    }
   ],
   "source": [
    "df_team_stats_2018['Team']"
   ]
  },
  {
   "cell_type": "code",
   "execution_count": 60,
   "metadata": {},
   "outputs": [],
   "source": [
    "def tranform(text):\n",
    "    return text.split('. ')[1]"
   ]
  },
  {
   "cell_type": "code",
   "execution_count": 61,
   "metadata": {},
   "outputs": [],
   "source": [
    "df_team_stats_2018['Team']=df_team_stats_2018['Team'].apply(tranform)"
   ]
  },
  {
   "cell_type": "code",
   "execution_count": 62,
   "metadata": {},
   "outputs": [
    {
     "data": {
      "text/html": [
       "<div>\n",
       "<style scoped>\n",
       "    .dataframe tbody tr th:only-of-type {\n",
       "        vertical-align: middle;\n",
       "    }\n",
       "\n",
       "    .dataframe tbody tr th {\n",
       "        vertical-align: top;\n",
       "    }\n",
       "\n",
       "    .dataframe thead th {\n",
       "        text-align: right;\n",
       "    }\n",
       "</style>\n",
       "<table border=\"1\" class=\"dataframe\">\n",
       "  <thead>\n",
       "    <tr style=\"text-align: right;\">\n",
       "      <th></th>\n",
       "      <th>Team</th>\n",
       "      <th>Goals</th>\n",
       "      <th>Shots pg</th>\n",
       "      <th>Discipline</th>\n",
       "      <th>Possession%</th>\n",
       "      <th>Pass%</th>\n",
       "      <th>Unnamed: 6</th>\n",
       "      <th>Unnamed: 7</th>\n",
       "    </tr>\n",
       "  </thead>\n",
       "  <tbody>\n",
       "    <tr>\n",
       "      <th>0</th>\n",
       "      <td>Manchester City</td>\n",
       "      <td>95</td>\n",
       "      <td>18.0</td>\n",
       "      <td>441</td>\n",
       "      <td>64.0</td>\n",
       "      <td>89.0</td>\n",
       "      <td>NaN</td>\n",
       "      <td>NaN</td>\n",
       "    </tr>\n",
       "    <tr>\n",
       "      <th>1</th>\n",
       "      <td>Liverpool</td>\n",
       "      <td>89</td>\n",
       "      <td>15.1</td>\n",
       "      <td>372</td>\n",
       "      <td>58.8</td>\n",
       "      <td>84.4</td>\n",
       "      <td>NaN</td>\n",
       "      <td>NaN</td>\n",
       "    </tr>\n",
       "    <tr>\n",
       "      <th>2</th>\n",
       "      <td>Chelsea</td>\n",
       "      <td>63</td>\n",
       "      <td>16.0</td>\n",
       "      <td>490</td>\n",
       "      <td>59.9</td>\n",
       "      <td>87.6</td>\n",
       "      <td>NaN</td>\n",
       "      <td>NaN</td>\n",
       "    </tr>\n",
       "    <tr>\n",
       "      <th>3</th>\n",
       "      <td>Tottenham</td>\n",
       "      <td>67</td>\n",
       "      <td>14.1</td>\n",
       "      <td>563</td>\n",
       "      <td>56.7</td>\n",
       "      <td>83.2</td>\n",
       "      <td>NaN</td>\n",
       "      <td>NaN</td>\n",
       "    </tr>\n",
       "    <tr>\n",
       "      <th>4</th>\n",
       "      <td>Arsenal</td>\n",
       "      <td>73</td>\n",
       "      <td>12.3</td>\n",
       "      <td>722</td>\n",
       "      <td>56.1</td>\n",
       "      <td>83.3</td>\n",
       "      <td>NaN</td>\n",
       "      <td>NaN</td>\n",
       "    </tr>\n",
       "  </tbody>\n",
       "</table>\n",
       "</div>"
      ],
      "text/plain": [
       "              Team  Goals  Shots pg  Discipline  Possession%  Pass%   \n",
       "0  Manchester City     95      18.0         441         64.0   89.0  \\\n",
       "1        Liverpool     89      15.1         372         58.8   84.4   \n",
       "2          Chelsea     63      16.0         490         59.9   87.6   \n",
       "3        Tottenham     67      14.1         563         56.7   83.2   \n",
       "4          Arsenal     73      12.3         722         56.1   83.3   \n",
       "\n",
       "   Unnamed: 6  Unnamed: 7  \n",
       "0         NaN         NaN  \n",
       "1         NaN         NaN  \n",
       "2         NaN         NaN  \n",
       "3         NaN         NaN  \n",
       "4         NaN         NaN  "
      ]
     },
     "execution_count": 62,
     "metadata": {},
     "output_type": "execute_result"
    }
   ],
   "source": [
    "df_team_stats_2018.head()"
   ]
  },
  {
   "cell_type": "code",
   "execution_count": 64,
   "metadata": {},
   "outputs": [],
   "source": [
    "df_team_stats_2018.drop(columns=['Unnamed: 6','Unnamed: 7'],inplace=True)"
   ]
  },
  {
   "cell_type": "code",
   "execution_count": 69,
   "metadata": {},
   "outputs": [
    {
     "data": {
      "text/html": [
       "<div>\n",
       "<style scoped>\n",
       "    .dataframe tbody tr th:only-of-type {\n",
       "        vertical-align: middle;\n",
       "    }\n",
       "\n",
       "    .dataframe tbody tr th {\n",
       "        vertical-align: top;\n",
       "    }\n",
       "\n",
       "    .dataframe thead th {\n",
       "        text-align: right;\n",
       "    }\n",
       "</style>\n",
       "<table border=\"1\" class=\"dataframe\">\n",
       "  <thead>\n",
       "    <tr style=\"text-align: right;\">\n",
       "      <th></th>\n",
       "      <th>Team</th>\n",
       "      <th>Goals</th>\n",
       "      <th>Shots pg</th>\n",
       "      <th>Discipline</th>\n",
       "      <th>Possession%</th>\n",
       "      <th>Pass%</th>\n",
       "    </tr>\n",
       "  </thead>\n",
       "  <tbody>\n",
       "    <tr>\n",
       "      <th>0</th>\n",
       "      <td>Manchester City</td>\n",
       "      <td>95</td>\n",
       "      <td>18.0</td>\n",
       "      <td>441</td>\n",
       "      <td>64.0</td>\n",
       "      <td>89.0</td>\n",
       "    </tr>\n",
       "    <tr>\n",
       "      <th>1</th>\n",
       "      <td>Liverpool</td>\n",
       "      <td>89</td>\n",
       "      <td>15.1</td>\n",
       "      <td>372</td>\n",
       "      <td>58.8</td>\n",
       "      <td>84.4</td>\n",
       "    </tr>\n",
       "    <tr>\n",
       "      <th>2</th>\n",
       "      <td>Chelsea</td>\n",
       "      <td>63</td>\n",
       "      <td>16.0</td>\n",
       "      <td>490</td>\n",
       "      <td>59.9</td>\n",
       "      <td>87.6</td>\n",
       "    </tr>\n",
       "    <tr>\n",
       "      <th>3</th>\n",
       "      <td>Tottenham Hotspur</td>\n",
       "      <td>67</td>\n",
       "      <td>14.1</td>\n",
       "      <td>563</td>\n",
       "      <td>56.7</td>\n",
       "      <td>83.2</td>\n",
       "    </tr>\n",
       "    <tr>\n",
       "      <th>4</th>\n",
       "      <td>Arsenal</td>\n",
       "      <td>73</td>\n",
       "      <td>12.3</td>\n",
       "      <td>722</td>\n",
       "      <td>56.1</td>\n",
       "      <td>83.3</td>\n",
       "    </tr>\n",
       "  </tbody>\n",
       "</table>\n",
       "</div>"
      ],
      "text/plain": [
       "                Team  Goals  Shots pg  Discipline  Possession%  Pass%\n",
       "0    Manchester City     95      18.0         441         64.0   89.0\n",
       "1          Liverpool     89      15.1         372         58.8   84.4\n",
       "2            Chelsea     63      16.0         490         59.9   87.6\n",
       "3  Tottenham Hotspur     67      14.1         563         56.7   83.2\n",
       "4            Arsenal     73      12.3         722         56.1   83.3"
      ]
     },
     "execution_count": 69,
     "metadata": {},
     "output_type": "execute_result"
    }
   ],
   "source": [
    "df_team_stats_2018.head()"
   ]
  },
  {
   "cell_type": "code",
   "execution_count": 68,
   "metadata": {},
   "outputs": [
    {
     "data": {
      "text/plain": [
       "0              Manchester City\n",
       "1                    Liverpool\n",
       "2                      Chelsea\n",
       "3            Tottenham Hotspur\n",
       "4                      Arsenal\n",
       "5               Leicester City\n",
       "6               Crystal Palace\n",
       "7              West Ham United\n",
       "8                      Everton\n",
       "9      Wolverhampton Wanderers\n",
       "10            Newcastle United\n",
       "11           Manchester United\n",
       "12                     Burnley\n",
       "13                 Southampton\n",
       "14                     Watford\n",
       "15                 Bournemouth\n",
       "16                     Cardiff\n",
       "17    Brighton and Hove Albion\n",
       "18                      Fulham\n",
       "19                Huddersfield\n",
       "Name: Team, dtype: object"
      ]
     },
     "execution_count": 68,
     "metadata": {},
     "output_type": "execute_result"
    }
   ],
   "source": [
    "df_team_stats_2018['Team']"
   ]
  },
  {
   "cell_type": "code",
   "execution_count": 67,
   "metadata": {},
   "outputs": [],
   "source": [
    "df_team_stats_2018['Team']=df_team_stats_2018['Team'].replace('Tottenham','Tottenham Hotspur')\n",
    "df_team_stats_2018['Team']=df_team_stats_2018['Team'].replace('Leicester','Leicester City')\n",
    "df_team_stats_2018['Team']=df_team_stats_2018['Team'].replace('West Ham','West Ham United')\n",
    "df_team_stats_2018['Team']=df_team_stats_2018['Team'].replace('Brighton','Brighton and Hove Albion')\n",
    "df_team_stats_2018['Team']=df_team_stats_2018['Team'].replace('Newcastle','Newcastle United')\n",
    "df_team_stats_2018['Team']=df_team_stats_2018['Team'].replace('Wolves','Wolverhampton Wanderers')\n",
    "\n"
   ]
  },
  {
   "cell_type": "code",
   "execution_count": null,
   "metadata": {},
   "outputs": [],
   "source": []
  },
  {
   "cell_type": "code",
   "execution_count": 75,
   "metadata": {},
   "outputs": [],
   "source": [
    "df_team_stats_2019=pd.read_csv(r'D:\\beutiful\\team_stats_2019-20.csv')\n",
    "df_team_stats_2020=pd.read_csv(r'D:\\beutiful\\team_stats_2020-21.csv')\n",
    "df_team_stats_2021=pd.read_csv(r'D:\\beutiful\\team_stats_2021-22.csv')\n",
    "df_team_stats_2022=pd.read_csv(r'D:\\beutiful\\team_stats_2022-23.csv')\n"
   ]
  },
  {
   "cell_type": "code",
   "execution_count": 76,
   "metadata": {},
   "outputs": [],
   "source": [
    "df_team_stats_2019['Team']=df_team_stats_2019['Team'].apply(tranform)\n",
    "df_team_stats_2020['Team']=df_team_stats_2020['Team'].apply(tranform)\n",
    "df_team_stats_2021['Team']=df_team_stats_2021['Team'].apply(tranform)\n",
    "df_team_stats_2022['Team']=df_team_stats_2022['Team'].apply(tranform)"
   ]
  },
  {
   "cell_type": "code",
   "execution_count": 78,
   "metadata": {},
   "outputs": [],
   "source": [
    "df_team_stats_2019['Team']=df_team_stats_2019['Team'].replace('Tottenham','Tottenham Hotspur')\n",
    "df_team_stats_2019['Team']=df_team_stats_2019['Team'].replace('Leicester','Leicester City')\n",
    "df_team_stats_2018['Team']=df_team_stats_2018['Team'].replace('West Ham','West Ham United')\n",
    "df_team_stats_2019['Team']=df_team_stats_2019['Team'].replace('Brighton','Brighton and Hove Albion')\n",
    "df_team_stats_2019['Team']=df_team_stats_2019['Team'].replace('Newcastle','Newcastle United')\n",
    "df_team_stats_2019['Team']=df_team_stats_2019['Team'].replace('Wolves','Wolverhampton Wanderers')\n",
    "\n",
    "df_team_stats_2020['Team']=df_team_stats_2020['Team'].replace('Tottenham','Tottenham Hotspur')\n",
    "df_team_stats_2020['Team']=df_team_stats_2020['Team'].replace('Leicester','Leicester City')\n",
    "df_team_stats_2020['Team']=df_team_stats_2020['Team'].replace('West Ham','West Ham United')\n",
    "df_team_stats_2020['Team']=df_team_stats_2020['Team'].replace('Brighton','Brighton and Hove Albion')\n",
    "df_team_stats_2020['Team']=df_team_stats_2020['Team'].replace('Newcastle','Newcastle United')\n",
    "df_team_stats_2020['Team']=df_team_stats_2020['Team'].replace('Wolves','Wolverhampton Wanderers')\n",
    "\n",
    "df_team_stats_2021['Team']=df_team_stats_2021['Team'].replace('Tottenham','Tottenham Hotspur')\n",
    "df_team_stats_2021['Team']=df_team_stats_2021['Team'].replace('Leicester','Leicester City')\n",
    "df_team_stats_2021['Team']=df_team_stats_2021['Team'].replace('West Ham','West Ham United')\n",
    "df_team_stats_2021['Team']=df_team_stats_2021['Team'].replace('Brighton','Brighton and Hove Albion')\n",
    "df_team_stats_2021['Team']=df_team_stats_2021['Team'].replace('Newcastle','Newcastle United')\n",
    "df_team_stats_2021['Team']=df_team_stats_2021['Team'].replace('Wolves','Wolverhampton Wanderers')\n",
    "\n",
    "df_team_stats_2022['Team']=df_team_stats_2022['Team'].replace('Tottenham','Tottenham Hotspur')\n",
    "df_team_stats_2022['Team']=df_team_stats_2022['Team'].replace('Leicester','Leicester City')\n",
    "df_team_stats_2022['Team']=df_team_stats_2022['Team'].replace('West Ham','West Ham United')\n",
    "df_team_stats_2022['Team']=df_team_stats_2022['Team'].replace('Brighton','Brighton and Hove Albion')\n",
    "df_team_stats_2022['Team']=df_team_stats_2022['Team'].replace('Newcastle','Newcastle United')\n",
    "df_team_stats_2022['Team']=df_team_stats_2022['Team'].replace('Wolves','Wolverhampton Wanderers')"
   ]
  },
  {
   "cell_type": "code",
   "execution_count": 79,
   "metadata": {},
   "outputs": [
    {
     "data": {
      "text/html": [
       "<div>\n",
       "<style scoped>\n",
       "    .dataframe tbody tr th:only-of-type {\n",
       "        vertical-align: middle;\n",
       "    }\n",
       "\n",
       "    .dataframe tbody tr th {\n",
       "        vertical-align: top;\n",
       "    }\n",
       "\n",
       "    .dataframe thead th {\n",
       "        text-align: right;\n",
       "    }\n",
       "</style>\n",
       "<table border=\"1\" class=\"dataframe\">\n",
       "  <thead>\n",
       "    <tr style=\"text-align: right;\">\n",
       "      <th></th>\n",
       "      <th>Team</th>\n",
       "      <th>Goals</th>\n",
       "      <th>Shots pg</th>\n",
       "      <th>Discipline</th>\n",
       "      <th>Possession%</th>\n",
       "      <th>Pass%</th>\n",
       "    </tr>\n",
       "  </thead>\n",
       "  <tbody>\n",
       "    <tr>\n",
       "      <th>0</th>\n",
       "      <td>Manchester City</td>\n",
       "      <td>95</td>\n",
       "      <td>18.0</td>\n",
       "      <td>441</td>\n",
       "      <td>64.0</td>\n",
       "      <td>89.0</td>\n",
       "    </tr>\n",
       "    <tr>\n",
       "      <th>1</th>\n",
       "      <td>Liverpool</td>\n",
       "      <td>89</td>\n",
       "      <td>15.1</td>\n",
       "      <td>372</td>\n",
       "      <td>58.8</td>\n",
       "      <td>84.4</td>\n",
       "    </tr>\n",
       "    <tr>\n",
       "      <th>2</th>\n",
       "      <td>Chelsea</td>\n",
       "      <td>63</td>\n",
       "      <td>16.0</td>\n",
       "      <td>490</td>\n",
       "      <td>59.9</td>\n",
       "      <td>87.6</td>\n",
       "    </tr>\n",
       "    <tr>\n",
       "      <th>3</th>\n",
       "      <td>Tottenham Hotspur</td>\n",
       "      <td>67</td>\n",
       "      <td>14.1</td>\n",
       "      <td>563</td>\n",
       "      <td>56.7</td>\n",
       "      <td>83.2</td>\n",
       "    </tr>\n",
       "    <tr>\n",
       "      <th>4</th>\n",
       "      <td>Arsenal</td>\n",
       "      <td>73</td>\n",
       "      <td>12.3</td>\n",
       "      <td>722</td>\n",
       "      <td>56.1</td>\n",
       "      <td>83.3</td>\n",
       "    </tr>\n",
       "  </tbody>\n",
       "</table>\n",
       "</div>"
      ],
      "text/plain": [
       "                Team  Goals  Shots pg  Discipline  Possession%  Pass%\n",
       "0    Manchester City     95      18.0         441         64.0   89.0\n",
       "1          Liverpool     89      15.1         372         58.8   84.4\n",
       "2            Chelsea     63      16.0         490         59.9   87.6\n",
       "3  Tottenham Hotspur     67      14.1         563         56.7   83.2\n",
       "4            Arsenal     73      12.3         722         56.1   83.3"
      ]
     },
     "execution_count": 79,
     "metadata": {},
     "output_type": "execute_result"
    }
   ],
   "source": [
    "df_team_stats_2018.head()"
   ]
  },
  {
   "cell_type": "code",
   "execution_count": 82,
   "metadata": {},
   "outputs": [],
   "source": [
    "shot_pg_2018=df_team_stats_2018[df_team_stats_2018['Team']=='Manchester City']['Shots pg'].values[0]\n",
    "shot_pg_2019=df_team_stats_2019[df_team_stats_2019['Team']=='Manchester City']['Shots pg'].values[0]\n",
    "shot_pg_2020=df_team_stats_2020[df_team_stats_2020['Team']=='Manchester City']['Shots pg'].values[0]\n",
    "shot_pg_2021=df_team_stats_2021[df_team_stats_2021['Team']=='Manchester City']['Shots pg'].values[0]\n",
    "shot_pg_2022=df_team_stats_2022[df_team_stats_2022['Team']=='Manchester City']['Shots pg'].values[0]"
   ]
  },
  {
   "cell_type": "code",
   "execution_count": 176,
   "metadata": {},
   "outputs": [
    {
     "data": {
      "text/plain": [
       "Text(0.5, 1.0, 'Shots per Season')"
      ]
     },
     "execution_count": 176,
     "metadata": {},
     "output_type": "execute_result"
    },
    {
     "data": {
      "image/png": "[encoded data removed]",
      "text/plain": [
       "<Figure size 640x480 with 1 Axes>"
      ]
     },
     "metadata": {},
     "output_type": "display_data"
    }
   ],
   "source": [
    "values=[shot_pg_2018,shot_pg_2019,shot_pg_2020,shot_pg_2021,shot_pg_2022]\n",
    "labels = ['2018', '2019', '2020','2021','2022']\n",
    "ax=sns.barplot(x=labels,y=values)\n",
    "for i in ax.containers:\n",
    "    ax.bar_label(i,)\n",
    "plt.xlabel('Season')\n",
    "plt.ylabel('Shots per game')\n",
    "plt.title('Shots per Season')"
   ]
  },
  {
   "cell_type": "code",
   "execution_count": 89,
   "metadata": {},
   "outputs": [],
   "source": [
    "possession_pg_2018=df_team_stats_2018[df_team_stats_2018['Team']=='Manchester City']['Possession%'].values[0]\n",
    "possession_pg_2019=df_team_stats_2019[df_team_stats_2019['Team']=='Manchester City']['Possession%'].values[0]\n",
    "possession_pg_2020=df_team_stats_2020[df_team_stats_2020['Team']=='Manchester City']['Possession%'].values[0]\n",
    "possession_pg_2021=df_team_stats_2021[df_team_stats_2021['Team']=='Manchester City']['Possession%'].values[0]\n",
    "possession_pg_2022=df_team_stats_2022[df_team_stats_2022['Team']=='Manchester City']['Possession%'].values[0]"
   ]
  },
  {
   "cell_type": "code",
   "execution_count": 94,
   "metadata": {},
   "outputs": [
    {
     "data": {
      "text/plain": [
       "Text(0.5, 1.0, 'Possession % per Season')"
      ]
     },
     "execution_count": 94,
     "metadata": {},
     "output_type": "execute_result"
    },
    {
     "data": {
      "image/png": "[encoded data removed]",
      "text/plain": [
       "<Figure size 640x480 with 1 Axes>"
      ]
     },
     "metadata": {},
     "output_type": "display_data"
    }
   ],
   "source": [
    "values=[possession_pg_2018,possession_pg_2019,possession_pg_2020,possession_pg_2021,possession_pg_2022]\n",
    "labels = ['2018', '2019', '2020','2021','2022']\n",
    "ax=sns.barplot(x=labels,y=values)\n",
    "for i in ax.containers:\n",
    "    ax.bar_label(i,)\n",
    "plt.xlabel('Season')\n",
    "plt.ylabel('Possession %')\n",
    "plt.title('Possession % per Season')"
   ]
  },
  {
   "cell_type": "code",
   "execution_count": 91,
   "metadata": {},
   "outputs": [],
   "source": [
    "pass_pg_2018=df_team_stats_2018[df_team_stats_2018['Team']=='Manchester City']['Pass%'].values[0]\n",
    "pass_pg_2019=df_team_stats_2019[df_team_stats_2019['Team']=='Manchester City']['Pass%'].values[0]\n",
    "pass_pg_2020=df_team_stats_2020[df_team_stats_2020['Team']=='Manchester City']['Pass%'].values[0]\n",
    "pass_pg_2021=df_team_stats_2021[df_team_stats_2021['Team']=='Manchester City']['Pass%'].values[0]\n",
    "pass_pg_2022=df_team_stats_2022[df_team_stats_2022['Team']=='Manchester City']['Pass%'].values[0]"
   ]
  },
  {
   "cell_type": "code",
   "execution_count": 93,
   "metadata": {},
   "outputs": [
    {
     "data": {
      "text/plain": [
       "Text(0.5, 1.0, 'Pass % per Season')"
      ]
     },
     "execution_count": 93,
     "metadata": {},
     "output_type": "execute_result"
    },
    {
     "data": {
      "image/png": "[encoded data removed]",
      "text/plain": [
       "<Figure size 640x480 with 1 Axes>"
      ]
     },
     "metadata": {},
     "output_type": "display_data"
    }
   ],
   "source": [
    "values=[pass_pg_2018,pass_pg_2019,pass_pg_2020,pass_pg_2021,pass_pg_2022]\n",
    "labels = ['2018', '2019', '2020','2021','2022']\n",
    "ax=sns.barplot(x=labels,y=values)\n",
    "for i in ax.containers:\n",
    "    ax.bar_label(i,)\n",
    "plt.xlabel('Season')\n",
    "plt.ylabel('Pass %')\n",
    "plt.title('Pass % per Season')"
   ]
  },
  {
   "cell_type": "code",
   "execution_count": 98,
   "metadata": {},
   "outputs": [
    {
     "data": {
      "text/html": [
       "<div>\n",
       "<style scoped>\n",
       "    .dataframe tbody tr th:only-of-type {\n",
       "        vertical-align: middle;\n",
       "    }\n",
       "\n",
       "    .dataframe tbody tr th {\n",
       "        vertical-align: top;\n",
       "    }\n",
       "\n",
       "    .dataframe thead th {\n",
       "        text-align: right;\n",
       "    }\n",
       "</style>\n",
       "<table border=\"1\" class=\"dataframe\">\n",
       "  <thead>\n",
       "    <tr style=\"text-align: right;\">\n",
       "      <th></th>\n",
       "      <th>Home_team_score</th>\n",
       "      <th>Home_team_name</th>\n",
       "      <th>Away_team_score</th>\n",
       "      <th>Away_team_name</th>\n",
       "      <th>Season</th>\n",
       "      <th>Winner</th>\n",
       "    </tr>\n",
       "  </thead>\n",
       "  <tbody>\n",
       "    <tr>\n",
       "      <th>0</th>\n",
       "      <td>2</td>\n",
       "      <td>West Ham United</td>\n",
       "      <td>2</td>\n",
       "      <td>Arsenal</td>\n",
       "      <td>2022/23</td>\n",
       "      <td>Draw</td>\n",
       "    </tr>\n",
       "    <tr>\n",
       "      <th>2</th>\n",
       "      <td>0</td>\n",
       "      <td>Southampton</td>\n",
       "      <td>2</td>\n",
       "      <td>Crystal Palace</td>\n",
       "      <td>2022/23</td>\n",
       "      <td>Crystal Palace</td>\n",
       "    </tr>\n",
       "    <tr>\n",
       "      <th>4</th>\n",
       "      <td>3</td>\n",
       "      <td>Manchester City</td>\n",
       "      <td>1</td>\n",
       "      <td>Leicester City</td>\n",
       "      <td>2022/23</td>\n",
       "      <td>Manchester City</td>\n",
       "    </tr>\n",
       "    <tr>\n",
       "      <th>8</th>\n",
       "      <td>1</td>\n",
       "      <td>Wolverhampton Wanderers</td>\n",
       "      <td>0</td>\n",
       "      <td>Chelsea</td>\n",
       "      <td>2022/23</td>\n",
       "      <td>Wolverhampton Wanderers</td>\n",
       "    </tr>\n",
       "    <tr>\n",
       "      <th>10</th>\n",
       "      <td>1</td>\n",
       "      <td>Southampton</td>\n",
       "      <td>4</td>\n",
       "      <td>Manchester City</td>\n",
       "      <td>2022/23</td>\n",
       "      <td>Manchester City</td>\n",
       "    </tr>\n",
       "  </tbody>\n",
       "</table>\n",
       "</div>"
      ],
      "text/plain": [
       "    Home_team_score           Home_team_name  Away_team_score   \n",
       "0                 2          West Ham United                2  \\\n",
       "2                 0              Southampton                2   \n",
       "4                 3          Manchester City                1   \n",
       "8                 1  Wolverhampton Wanderers                0   \n",
       "10                1              Southampton                4   \n",
       "\n",
       "     Away_team_name   Season                   Winner  \n",
       "0           Arsenal  2022/23                     Draw  \n",
       "2    Crystal Palace  2022/23           Crystal Palace  \n",
       "4    Leicester City  2022/23          Manchester City  \n",
       "8           Chelsea  2022/23  Wolverhampton Wanderers  \n",
       "10  Manchester City  2022/23          Manchester City  "
      ]
     },
     "execution_count": 98,
     "metadata": {},
     "output_type": "execute_result"
    }
   ],
   "source": [
    "df.head()"
   ]
  },
  {
   "cell_type": "markdown",
   "metadata": {},
   "source": [
    "Most Matches won against which team in last 5 years"
   ]
  },
  {
   "cell_type": "code",
   "execution_count": 146,
   "metadata": {},
   "outputs": [],
   "source": [
    "data = df[(df['Away_team_name'] == 'Manchester City') | (df['Home_team_name'] == 'Manchester City')]\n",
    "new = data[data['Winner'] == 'Manchester City']\n",
    "\n",
    "d = {}\n",
    "for i in common_teams:\n",
    "    if i!='Manchester City':\n",
    "        me= new[(new['Home_team_name'] == i) | (new['Away_team_name'] == i)].shape[0]\n",
    "        d[i]= me\n",
    "\n",
    "    "
   ]
  },
  {
   "cell_type": "code",
   "execution_count": 147,
   "metadata": {},
   "outputs": [
    {
     "data": {
      "text/plain": [
       "['Everton', 'Arsenal', 'West Ham United']"
      ]
     },
     "execution_count": 147,
     "metadata": {},
     "output_type": "execute_result"
    }
   ],
   "source": [
    "top_scorers = sorted(d.items(), key=lambda x: x[1], reverse=True)[:3]\n",
    "\n",
    "\n",
    "# Extract only the names from the result\n",
    "top_scorer_names = [name for name, _ in top_scorers]\n",
    "top_scorer_names"
   ]
  },
  {
   "cell_type": "markdown",
   "metadata": {},
   "source": [
    "Most Home matches won against which Team "
   ]
  },
  {
   "cell_type": "code",
   "execution_count": 148,
   "metadata": {},
   "outputs": [],
   "source": [
    "data = df[ df['Home_team_name'] == 'Manchester City']\n",
    "new = data[data['Winner'] == 'Manchester City']\n",
    "\n",
    "d = {}\n",
    "for i in common_teams:\n",
    "    if i!='Manchester City':\n",
    "        me= new[new['Away_team_name'] == i].shape[0]\n",
    "        d[i]= me\n"
   ]
  },
  {
   "cell_type": "code",
   "execution_count": 149,
   "metadata": {},
   "outputs": [
    {
     "data": {
      "text/plain": [
       "['Everton', 'West Ham United', 'Southampton']"
      ]
     },
     "execution_count": 149,
     "metadata": {},
     "output_type": "execute_result"
    }
   ],
   "source": [
    "top_scorers = sorted(d.items(), key=lambda x: x[1], reverse=True)[:3]\n",
    "\n",
    "\n",
    "# Extract only the names from the result\n",
    "top_scorer_names = [name for name, _ in top_scorers]\n",
    "top_scorer_names"
   ]
  },
  {
   "cell_type": "markdown",
   "metadata": {},
   "source": [
    "Most Away matches won against which Team "
   ]
  },
  {
   "cell_type": "code",
   "execution_count": 163,
   "metadata": {},
   "outputs": [],
   "source": [
    "data = df[ df['Away_team_name'] == 'Manchester City']\n",
    "new = data[data['Winner'] == 'Manchester City']\n",
    "\n",
    "d = {}\n",
    "for i in common_teams:\n",
    "    if i!='Manchester City':\n",
    "        me= new[new['Home_team_name'] == i].shape[0]\n",
    "        d[i]= me"
   ]
  },
  {
   "cell_type": "code",
   "execution_count": 164,
   "metadata": {},
   "outputs": [
    {
     "data": {
      "text/plain": [
       "['Arsenal', 'Everton', 'Manchester United']"
      ]
     },
     "execution_count": 164,
     "metadata": {},
     "output_type": "execute_result"
    }
   ],
   "source": [
    "top_scorers = sorted(d.items(), key=lambda x: x[1], reverse=True)[:3]\n",
    "\n",
    "\n",
    "# Extract only the names from the result\n",
    "top_scorer_names = [name for name, _ in top_scorers]\n",
    "top_scorer_names"
   ]
  },
  {
   "cell_type": "markdown",
   "metadata": {},
   "source": [
    "Most Matches Lost against which team in last 5 years"
   ]
  },
  {
   "cell_type": "code",
   "execution_count": 165,
   "metadata": {},
   "outputs": [],
   "source": [
    "data = df[(df['Away_team_name'] == 'Manchester City') | (df['Home_team_name'] == 'Manchester City')]\n",
    "new = data[(data['Winner'] != 'Manchester City') & (data['Winner'] != 'Draw')]\n",
    "\n",
    "d = {}\n",
    "for i in common_teams:\n",
    "    if i!='Manchester City':\n",
    "        me= new[(new['Home_team_name'] == i) | (new['Away_team_name'] == i)].shape[0]\n",
    "        d[i]= me\n"
   ]
  },
  {
   "cell_type": "code",
   "execution_count": 166,
   "metadata": {},
   "outputs": [
    {
     "data": {
      "text/plain": [
       "['Tottenham Hotspur', 'Chelsea', 'Manchester United']"
      ]
     },
     "execution_count": 166,
     "metadata": {},
     "output_type": "execute_result"
    }
   ],
   "source": [
    "top_scorers = sorted(d.items(), key=lambda x: x[1], reverse=True)[:3]\n",
    "\n",
    "\n",
    "# Extract only the names from the result\n",
    "top_scorer_names = [name for name, _ in top_scorers]\n",
    "top_scorer_names"
   ]
  },
  {
   "cell_type": "markdown",
   "metadata": {},
   "source": [
    "Most Home matches Lost against which Team "
   ]
  },
  {
   "cell_type": "code",
   "execution_count": 170,
   "metadata": {},
   "outputs": [],
   "source": [
    "data = df[df['Home_team_name'] == 'Manchester City']\n",
    "new = data[(data['Winner'] != 'Manchester City') & (data['Winner'] != 'Draw')]\n",
    "\n",
    "d = {}\n",
    "for i in common_teams:\n",
    "    if i!='Manchester City':\n",
    "        me= new[new['Away_team_name'] == i].shape[0]\n",
    "        d[i]= me"
   ]
  },
  {
   "cell_type": "code",
   "execution_count": 171,
   "metadata": {},
   "outputs": [
    {
     "data": {
      "text/plain": [
       "['Manchester United', 'Chelsea', 'Crystal Palace']"
      ]
     },
     "execution_count": 171,
     "metadata": {},
     "output_type": "execute_result"
    }
   ],
   "source": [
    "top_scorers = sorted(d.items(), key=lambda x: x[1], reverse=True)[:3]\n",
    "\n",
    "\n",
    "# Extract only the names from the result\n",
    "top_scorer_names = [name for name, _ in top_scorers]\n",
    "top_scorer_names"
   ]
  },
  {
   "cell_type": "markdown",
   "metadata": {},
   "source": [
    "Most Away matches Lost against which Team "
   ]
  },
  {
   "cell_type": "code",
   "execution_count": 172,
   "metadata": {},
   "outputs": [],
   "source": [
    "data = df[df['Away_team_name'] == 'Manchester City']\n",
    "new = data[(data['Winner'] != 'Manchester City') & (data['Winner'] != 'Draw')]\n",
    "\n",
    "d = {}\n",
    "for i in common_teams:\n",
    "    if i!='Manchester City':\n",
    "        me= new[new['Home_team_name'] == i].shape[0]\n",
    "        d[i]= me"
   ]
  },
  {
   "cell_type": "code",
   "execution_count": 174,
   "metadata": {},
   "outputs": [
    {
     "data": {
      "text/plain": [
       "['Tottenham Hotspur', 'Southampton', 'Chelsea']"
      ]
     },
     "execution_count": 174,
     "metadata": {},
     "output_type": "execute_result"
    }
   ],
   "source": [
    "top_scorers = sorted(d.items(), key=lambda x: x[1], reverse=True)[:3]\n",
    "\n",
    "\n",
    "# Extract only the names from the result\n",
    "top_scorer_names = [name for name, _ in top_scorers]\n",
    "top_scorer_names"
   ]
  },
  {
   "cell_type": "markdown",
   "metadata": {},
   "source": [
    "Player Stats"
   ]
  },
  {
   "cell_type": "code",
   "execution_count": 193,
   "metadata": {},
   "outputs": [
    {
     "data": {
      "text/html": [
       "<div>\n",
       "<style scoped>\n",
       "    .dataframe tbody tr th:only-of-type {\n",
       "        vertical-align: middle;\n",
       "    }\n",
       "\n",
       "    .dataframe tbody tr th {\n",
       "        vertical-align: top;\n",
       "    }\n",
       "\n",
       "    .dataframe thead th {\n",
       "        text-align: right;\n",
       "    }\n",
       "</style>\n",
       "<table border=\"1\" class=\"dataframe\">\n",
       "  <thead>\n",
       "    <tr style=\"text-align: right;\">\n",
       "      <th></th>\n",
       "      <th>Unnamed: 0</th>\n",
       "      <th>Player</th>\n",
       "      <th>Country</th>\n",
       "      <th>Team</th>\n",
       "      <th>goal</th>\n",
       "      <th>penalty</th>\n",
       "    </tr>\n",
       "  </thead>\n",
       "  <tbody>\n",
       "    <tr>\n",
       "      <th>0</th>\n",
       "      <td>0</td>\n",
       "      <td>Pierre-Emerick Aubameyang</td>\n",
       "      <td>Gabon</td>\n",
       "      <td>Arsenal FC</td>\n",
       "      <td>22</td>\n",
       "      <td>4</td>\n",
       "    </tr>\n",
       "    <tr>\n",
       "      <th>1</th>\n",
       "      <td>1</td>\n",
       "      <td>Sadio Mané</td>\n",
       "      <td>Senegal</td>\n",
       "      <td>Liverpool FC</td>\n",
       "      <td>22</td>\n",
       "      <td>0</td>\n",
       "    </tr>\n",
       "    <tr>\n",
       "      <th>2</th>\n",
       "      <td>2</td>\n",
       "      <td>Mo Salah</td>\n",
       "      <td>Egypt</td>\n",
       "      <td>Liverpool FC</td>\n",
       "      <td>22</td>\n",
       "      <td>3</td>\n",
       "    </tr>\n",
       "    <tr>\n",
       "      <th>3</th>\n",
       "      <td>3</td>\n",
       "      <td>Sergio Agüero</td>\n",
       "      <td>Argentina</td>\n",
       "      <td>Manchester City</td>\n",
       "      <td>21</td>\n",
       "      <td>2</td>\n",
       "    </tr>\n",
       "    <tr>\n",
       "      <th>4</th>\n",
       "      <td>4</td>\n",
       "      <td>Jamie Vardy</td>\n",
       "      <td>England</td>\n",
       "      <td>Leicester City</td>\n",
       "      <td>18</td>\n",
       "      <td>4</td>\n",
       "    </tr>\n",
       "  </tbody>\n",
       "</table>\n",
       "</div>"
      ],
      "text/plain": [
       "   Unnamed: 0                     Player    Country              Team  goal   \n",
       "0           0  Pierre-Emerick Aubameyang      Gabon       Arsenal FC     22  \\\n",
       "1           1                 Sadio Mané    Senegal     Liverpool FC     22   \n",
       "2           2                   Mo Salah      Egypt     Liverpool FC     22   \n",
       "3           3              Sergio Agüero  Argentina  Manchester City     21   \n",
       "4           4                Jamie Vardy    England   Leicester City     18   \n",
       "\n",
       "   penalty  \n",
       "0        4  \n",
       "1        0  \n",
       "2        3  \n",
       "3        2  \n",
       "4        4  "
      ]
     },
     "execution_count": 193,
     "metadata": {},
     "output_type": "execute_result"
    }
   ],
   "source": [
    "player_df_2018=pd.read_csv(r'D:\\beutiful\\Player_2018-19.csv')\n",
    "player_df_2018.head()"
   ]
  },
  {
   "cell_type": "code",
   "execution_count": 194,
   "metadata": {},
   "outputs": [],
   "source": [
    "player_df_2018.drop(columns=['Unnamed: 0'],inplace=True)"
   ]
  },
  {
   "cell_type": "code",
   "execution_count": 195,
   "metadata": {},
   "outputs": [],
   "source": [
    "player_df_2018.drop(columns=['penalty'],inplace=True)"
   ]
  },
  {
   "cell_type": "code",
   "execution_count": 196,
   "metadata": {},
   "outputs": [
    {
     "data": {
      "text/plain": [
       "array(['Arsenal FC ', 'Liverpool FC ', 'Manchester City ',\n",
       "       'Leicester City ', 'Tottenham Hotspur ', 'Chelsea FC ',\n",
       "       'AFC Bournemouth ', 'Wolverhampton Wanderers ',\n",
       "       'Brighton & Hove Albion ', 'Manchester United ', 'Everton FC ',\n",
       "       'Newcastle United ', 'Burnley FC ', 'Crystal Palace ',\n",
       "       'Fulham FC ', 'West Ham United ', 'Watford FC ', 'Southampton FC ',\n",
       "       'Cardiff City ', 'Huddersfield Town '], dtype=object)"
      ]
     },
     "execution_count": 196,
     "metadata": {},
     "output_type": "execute_result"
    }
   ],
   "source": [
    "player_df_2018['Team'].unique()"
   ]
  },
  {
   "cell_type": "code",
   "execution_count": 197,
   "metadata": {},
   "outputs": [],
   "source": [
    "player_df_2018['Team']=player_df_2018['Team'].replace('Arsenal FC ','Arsenal')\n",
    "player_df_2018['Team']=player_df_2018['Team'].replace('Liverpool FC ','Liverpool')\n",
    "player_df_2018['Team']=player_df_2018['Team'].replace('Manchester City ','Manchester City')\n",
    "player_df_2018['Team']=player_df_2018['Team'].replace('Leicester City ','Leicester City')\n",
    "player_df_2018['Team']=player_df_2018['Team'].replace('Tottenham Hotspur ','Tottenham Hotspur')\n",
    "player_df_2018['Team']=player_df_2018['Team'].replace('Wolverhampton Wanderers ','Wolverhampton Wanderers')\n",
    "player_df_2018['Team']=player_df_2018['Team'].replace('Brighton & Hove Albion ','Brighton and Hove Albion')\n",
    "player_df_2018['Team']=player_df_2018['Team'].replace('Manchester United ','Manchester United')\n",
    "player_df_2018['Team']=player_df_2018['Team'].replace('Everton FC ','Everton')\n",
    "player_df_2018['Team']=player_df_2018['Team'].replace('Newcastle United ','Newcastle United')\n",
    "player_df_2018['Team']=player_df_2018['Team'].replace('Crystal Palace ','Crystal Palace')\n",
    "player_df_2018['Team']=player_df_2018['Team'].replace('West Ham United ','West Ham United')\n",
    "player_df_2018['Team']=player_df_2018['Team'].replace('Southampton FC ','Southampton')"
   ]
  },
  {
   "cell_type": "code",
   "execution_count": 205,
   "metadata": {},
   "outputs": [
    {
     "data": {
      "text/html": [
       "<div>\n",
       "<style scoped>\n",
       "    .dataframe tbody tr th:only-of-type {\n",
       "        vertical-align: middle;\n",
       "    }\n",
       "\n",
       "    .dataframe tbody tr th {\n",
       "        vertical-align: top;\n",
       "    }\n",
       "\n",
       "    .dataframe thead th {\n",
       "        text-align: right;\n",
       "    }\n",
       "</style>\n",
       "<table border=\"1\" class=\"dataframe\">\n",
       "  <thead>\n",
       "    <tr style=\"text-align: right;\">\n",
       "      <th></th>\n",
       "      <th>Player</th>\n",
       "      <th>Country</th>\n",
       "      <th>Team</th>\n",
       "      <th>goal</th>\n",
       "    </tr>\n",
       "  </thead>\n",
       "  <tbody>\n",
       "    <tr>\n",
       "      <th>3</th>\n",
       "      <td>Sergio Agüero</td>\n",
       "      <td>Argentina</td>\n",
       "      <td>Manchester City</td>\n",
       "      <td>21</td>\n",
       "    </tr>\n",
       "    <tr>\n",
       "      <th>6</th>\n",
       "      <td>Raheem Sterling</td>\n",
       "      <td>England</td>\n",
       "      <td>Manchester City</td>\n",
       "      <td>17</td>\n",
       "    </tr>\n",
       "    <tr>\n",
       "      <th>29</th>\n",
       "      <td>Leroy Sané</td>\n",
       "      <td>Germany</td>\n",
       "      <td>Manchester City</td>\n",
       "      <td>10</td>\n",
       "    </tr>\n",
       "  </tbody>\n",
       "</table>\n",
       "</div>"
      ],
      "text/plain": [
       "             Player    Country             Team  goal\n",
       "3     Sergio Agüero  Argentina  Manchester City    21\n",
       "6   Raheem Sterling    England  Manchester City    17\n",
       "29       Leroy Sané    Germany  Manchester City    10"
      ]
     },
     "execution_count": 205,
     "metadata": {},
     "output_type": "execute_result"
    }
   ],
   "source": [
    "data=player_df_2018[player_df_2018['Team']=='Manchester City'][:3]\n",
    "data"
   ]
  },
  {
   "cell_type": "code",
   "execution_count": 206,
   "metadata": {},
   "outputs": [
    {
     "data": {
      "text/html": [
       "<div>\n",
       "<style scoped>\n",
       "    .dataframe tbody tr th:only-of-type {\n",
       "        vertical-align: middle;\n",
       "    }\n",
       "\n",
       "    .dataframe tbody tr th {\n",
       "        vertical-align: top;\n",
       "    }\n",
       "\n",
       "    .dataframe thead th {\n",
       "        text-align: right;\n",
       "    }\n",
       "</style>\n",
       "<table border=\"1\" class=\"dataframe\">\n",
       "  <thead>\n",
       "    <tr style=\"text-align: right;\">\n",
       "      <th></th>\n",
       "      <th>Unnamed: 0</th>\n",
       "      <th>Player</th>\n",
       "      <th>Country</th>\n",
       "      <th>Team</th>\n",
       "      <th>goal</th>\n",
       "      <th>penalty</th>\n",
       "    </tr>\n",
       "  </thead>\n",
       "  <tbody>\n",
       "    <tr>\n",
       "      <th>0</th>\n",
       "      <td>0</td>\n",
       "      <td>Jamie Vardy</td>\n",
       "      <td>England</td>\n",
       "      <td>Leicester City</td>\n",
       "      <td>23</td>\n",
       "      <td>4</td>\n",
       "    </tr>\n",
       "    <tr>\n",
       "      <th>1</th>\n",
       "      <td>1</td>\n",
       "      <td>Pierre-Emerick Aubameyang</td>\n",
       "      <td>Gabon</td>\n",
       "      <td>Arsenal FC</td>\n",
       "      <td>22</td>\n",
       "      <td>2</td>\n",
       "    </tr>\n",
       "    <tr>\n",
       "      <th>2</th>\n",
       "      <td>2</td>\n",
       "      <td>Danny Ings</td>\n",
       "      <td>England</td>\n",
       "      <td>Southampton FC</td>\n",
       "      <td>22</td>\n",
       "      <td>1</td>\n",
       "    </tr>\n",
       "    <tr>\n",
       "      <th>3</th>\n",
       "      <td>3</td>\n",
       "      <td>Raheem Sterling</td>\n",
       "      <td>England</td>\n",
       "      <td>Manchester City</td>\n",
       "      <td>20</td>\n",
       "      <td>0</td>\n",
       "    </tr>\n",
       "    <tr>\n",
       "      <th>4</th>\n",
       "      <td>4</td>\n",
       "      <td>Mo Salah</td>\n",
       "      <td>Egypt</td>\n",
       "      <td>Liverpool FC</td>\n",
       "      <td>19</td>\n",
       "      <td>3</td>\n",
       "    </tr>\n",
       "  </tbody>\n",
       "</table>\n",
       "</div>"
      ],
      "text/plain": [
       "   Unnamed: 0                     Player  Country              Team  goal   \n",
       "0           0                Jamie Vardy  England   Leicester City     23  \\\n",
       "1           1  Pierre-Emerick Aubameyang    Gabon       Arsenal FC     22   \n",
       "2           2                 Danny Ings  England   Southampton FC     22   \n",
       "3           3            Raheem Sterling  England  Manchester City     20   \n",
       "4           4                   Mo Salah    Egypt     Liverpool FC     19   \n",
       "\n",
       "   penalty  \n",
       "0        4  \n",
       "1        2  \n",
       "2        1  \n",
       "3        0  \n",
       "4        3  "
      ]
     },
     "execution_count": 206,
     "metadata": {},
     "output_type": "execute_result"
    }
   ],
   "source": [
    "player_df_2019=pd.read_csv(r'D:\\beutiful\\Player_2019-20.csv')\n",
    "player_df_2019.head()"
   ]
  },
  {
   "cell_type": "code",
   "execution_count": 207,
   "metadata": {},
   "outputs": [],
   "source": [
    "player_df_2019.drop(columns=['Unnamed: 0'],inplace=True)\n",
    "player_df_2019.drop(columns=['penalty'],inplace=True)"
   ]
  },
  {
   "cell_type": "code",
   "execution_count": 210,
   "metadata": {},
   "outputs": [],
   "source": [
    "player_df_2019['Team']=player_df_2019['Team'].replace('Arsenal FC ','Arsenal')\n",
    "player_df_2019['Team']=player_df_2019['Team'].replace('Liverpool FC ','Liverpool')\n",
    "player_df_2019['Team']=player_df_2019['Team'].replace('Manchester City ','Manchester City')\n",
    "player_df_2019['Team']=player_df_2019['Team'].replace('Leicester City ','Leicester City')\n",
    "player_df_2019['Team']=player_df_2019['Team'].replace('Tottenham Hotspur ','Tottenham Hotspur')\n",
    "player_df_2019['Team']=player_df_2019['Team'].replace('Wolverhampton Wanderers ','Wolverhampton Wanderers')\n",
    "player_df_2019['Team']=player_df_2019['Team'].replace('Brighton & Hove Albion ','Brighton and Hove Albion')\n",
    "player_df_2019['Team']=player_df_2019['Team'].replace('Manchester United ','Manchester United')\n",
    "player_df_2019['Team']=player_df_2019['Team'].replace('Everton FC ','Everton')\n",
    "player_df_2019['Team']=player_df_2019['Team'].replace('Newcastle United ','Newcastle United')\n",
    "player_df_2019['Team']=player_df_2019['Team'].replace('Crystal Palace ','Crystal Palace')\n",
    "player_df_2019['Team']=player_df_2019['Team'].replace('West Ham United ','West Ham United')\n",
    "player_df_2019['Team']=player_df_2019['Team'].replace('Southampton FC ','Southampton')"
   ]
  },
  {
   "cell_type": "code",
   "execution_count": 212,
   "metadata": {},
   "outputs": [
    {
     "data": {
      "text/html": [
       "<div>\n",
       "<style scoped>\n",
       "    .dataframe tbody tr th:only-of-type {\n",
       "        vertical-align: middle;\n",
       "    }\n",
       "\n",
       "    .dataframe tbody tr th {\n",
       "        vertical-align: top;\n",
       "    }\n",
       "\n",
       "    .dataframe thead th {\n",
       "        text-align: right;\n",
       "    }\n",
       "</style>\n",
       "<table border=\"1\" class=\"dataframe\">\n",
       "  <thead>\n",
       "    <tr style=\"text-align: right;\">\n",
       "      <th></th>\n",
       "      <th>Player</th>\n",
       "      <th>Country</th>\n",
       "      <th>Team</th>\n",
       "      <th>goal</th>\n",
       "    </tr>\n",
       "  </thead>\n",
       "  <tbody>\n",
       "    <tr>\n",
       "      <th>3</th>\n",
       "      <td>Raheem Sterling</td>\n",
       "      <td>England</td>\n",
       "      <td>Manchester City</td>\n",
       "      <td>20</td>\n",
       "    </tr>\n",
       "    <tr>\n",
       "      <th>10</th>\n",
       "      <td>Sergio Agüero</td>\n",
       "      <td>Argentina</td>\n",
       "      <td>Manchester City</td>\n",
       "      <td>16</td>\n",
       "    </tr>\n",
       "    <tr>\n",
       "      <th>12</th>\n",
       "      <td>Gabriel Jesus</td>\n",
       "      <td>Brazil</td>\n",
       "      <td>Manchester City</td>\n",
       "      <td>14</td>\n",
       "    </tr>\n",
       "  </tbody>\n",
       "</table>\n",
       "</div>"
      ],
      "text/plain": [
       "             Player    Country             Team  goal\n",
       "3   Raheem Sterling    England  Manchester City    20\n",
       "10    Sergio Agüero  Argentina  Manchester City    16\n",
       "12    Gabriel Jesus     Brazil  Manchester City    14"
      ]
     },
     "execution_count": 212,
     "metadata": {},
     "output_type": "execute_result"
    }
   ],
   "source": [
    "data=player_df_2019[player_df_2019['Team']=='Manchester City'][:3]\n",
    "data"
   ]
  },
  {
   "cell_type": "code",
   "execution_count": 213,
   "metadata": {},
   "outputs": [
    {
     "data": {
      "text/html": [
       "<div>\n",
       "<style scoped>\n",
       "    .dataframe tbody tr th:only-of-type {\n",
       "        vertical-align: middle;\n",
       "    }\n",
       "\n",
       "    .dataframe tbody tr th {\n",
       "        vertical-align: top;\n",
       "    }\n",
       "\n",
       "    .dataframe thead th {\n",
       "        text-align: right;\n",
       "    }\n",
       "</style>\n",
       "<table border=\"1\" class=\"dataframe\">\n",
       "  <thead>\n",
       "    <tr style=\"text-align: right;\">\n",
       "      <th></th>\n",
       "      <th>Unnamed: 0</th>\n",
       "      <th>Player</th>\n",
       "      <th>Country</th>\n",
       "      <th>Team</th>\n",
       "      <th>goal</th>\n",
       "      <th>penalty</th>\n",
       "    </tr>\n",
       "  </thead>\n",
       "  <tbody>\n",
       "    <tr>\n",
       "      <th>0</th>\n",
       "      <td>0</td>\n",
       "      <td>Harry Kane</td>\n",
       "      <td>England</td>\n",
       "      <td>Tottenham Hotspur</td>\n",
       "      <td>23</td>\n",
       "      <td>4</td>\n",
       "    </tr>\n",
       "    <tr>\n",
       "      <th>1</th>\n",
       "      <td>1</td>\n",
       "      <td>Mo Salah</td>\n",
       "      <td>Egypt</td>\n",
       "      <td>Liverpool FC</td>\n",
       "      <td>22</td>\n",
       "      <td>6</td>\n",
       "    </tr>\n",
       "    <tr>\n",
       "      <th>2</th>\n",
       "      <td>2</td>\n",
       "      <td>Bruno Fernandes</td>\n",
       "      <td>Portugal</td>\n",
       "      <td>Manchester United</td>\n",
       "      <td>18</td>\n",
       "      <td>9</td>\n",
       "    </tr>\n",
       "    <tr>\n",
       "      <th>3</th>\n",
       "      <td>3</td>\n",
       "      <td>Patrick Bamford</td>\n",
       "      <td>England</td>\n",
       "      <td>Leeds United</td>\n",
       "      <td>17</td>\n",
       "      <td>2</td>\n",
       "    </tr>\n",
       "    <tr>\n",
       "      <th>4</th>\n",
       "      <td>4</td>\n",
       "      <td>Heung-min Son</td>\n",
       "      <td>South Korea</td>\n",
       "      <td>Tottenham Hotspur</td>\n",
       "      <td>17</td>\n",
       "      <td>1</td>\n",
       "    </tr>\n",
       "  </tbody>\n",
       "</table>\n",
       "</div>"
      ],
      "text/plain": [
       "   Unnamed: 0            Player      Country                Team  goal   \n",
       "0           0        Harry Kane      England  Tottenham Hotspur     23  \\\n",
       "1           1          Mo Salah        Egypt       Liverpool FC     22   \n",
       "2           2   Bruno Fernandes     Portugal  Manchester United     18   \n",
       "3           3   Patrick Bamford      England       Leeds United     17   \n",
       "4           4     Heung-min Son  South Korea  Tottenham Hotspur     17   \n",
       "\n",
       "   penalty  \n",
       "0        4  \n",
       "1        6  \n",
       "2        9  \n",
       "3        2  \n",
       "4        1  "
      ]
     },
     "execution_count": 213,
     "metadata": {},
     "output_type": "execute_result"
    }
   ],
   "source": [
    "player_df_2020=pd.read_csv(r'D:\\beutiful\\Player_2020-21.csv')\n",
    "player_df_2020.head()"
   ]
  },
  {
   "cell_type": "code",
   "execution_count": 218,
   "metadata": {},
   "outputs": [],
   "source": [
    "player_df_2020.drop(columns=['Unnamed: 0'],inplace=True)\n",
    "player_df_2020.drop(columns=['penalty'],inplace=True)"
   ]
  },
  {
   "cell_type": "code",
   "execution_count": 221,
   "metadata": {},
   "outputs": [],
   "source": [
    "player_df_2020['Team']=player_df_2020['Team'].replace('Arsenal FC ','Arsenal')\n",
    "player_df_2020['Team']=player_df_2020['Team'].replace('Liverpool FC ','Liverpool')\n",
    "player_df_2020['Team']=player_df_2020['Team'].replace('Manchester City ','Manchester City')\n",
    "player_df_2020['Team']=player_df_2020['Team'].replace('Leicester City ','Leicester City')\n",
    "player_df_2020['Team']=player_df_2020['Team'].replace('Tottenham Hotspur ','Tottenham Hotspur')\n",
    "player_df_2020['Team']=player_df_2020['Team'].replace('Wolverhampton Wanderers ','Wolverhampton Wanderers')\n",
    "player_df_2020['Team']=player_df_2020['Team'].replace('Brighton & Hove Albion ','Brighton and Hove Albion')\n",
    "player_df_2020['Team']=player_df_2020['Team'].replace('Manchester United ','Manchester United')\n",
    "player_df_2020['Team']=player_df_2020['Team'].replace('Everton FC ','Everton')\n",
    "player_df_2020['Team']=player_df_2020['Team'].replace('Newcastle United ','Newcastle United')\n",
    "player_df_2020['Team']=player_df_2020['Team'].replace('Crystal Palace ','Crystal Palace')\n",
    "player_df_2020['Team']=player_df_2020['Team'].replace('West Ham United ','West Ham United')\n",
    "player_df_2020['Team']=player_df_2020['Team'].replace('Southampton FC ','Southampton')"
   ]
  },
  {
   "cell_type": "code",
   "execution_count": 222,
   "metadata": {},
   "outputs": [
    {
     "data": {
      "text/html": [
       "<div>\n",
       "<style scoped>\n",
       "    .dataframe tbody tr th:only-of-type {\n",
       "        vertical-align: middle;\n",
       "    }\n",
       "\n",
       "    .dataframe tbody tr th {\n",
       "        vertical-align: top;\n",
       "    }\n",
       "\n",
       "    .dataframe thead th {\n",
       "        text-align: right;\n",
       "    }\n",
       "</style>\n",
       "<table border=\"1\" class=\"dataframe\">\n",
       "  <thead>\n",
       "    <tr style=\"text-align: right;\">\n",
       "      <th></th>\n",
       "      <th>Player</th>\n",
       "      <th>Country</th>\n",
       "      <th>Team</th>\n",
       "      <th>goal</th>\n",
       "    </tr>\n",
       "  </thead>\n",
       "  <tbody>\n",
       "    <tr>\n",
       "      <th>8</th>\n",
       "      <td>İlkay Gündoğan</td>\n",
       "      <td>Germany</td>\n",
       "      <td>Manchester City</td>\n",
       "      <td>13</td>\n",
       "    </tr>\n",
       "    <tr>\n",
       "      <th>26</th>\n",
       "      <td>Raheem Sterling</td>\n",
       "      <td>England</td>\n",
       "      <td>Manchester City</td>\n",
       "      <td>10</td>\n",
       "    </tr>\n",
       "    <tr>\n",
       "      <th>30</th>\n",
       "      <td>Phil Foden</td>\n",
       "      <td>England</td>\n",
       "      <td>Manchester City</td>\n",
       "      <td>9</td>\n",
       "    </tr>\n",
       "  </tbody>\n",
       "</table>\n",
       "</div>"
      ],
      "text/plain": [
       "             Player  Country             Team  goal\n",
       "8    İlkay Gündoğan  Germany  Manchester City    13\n",
       "26  Raheem Sterling  England  Manchester City    10\n",
       "30       Phil Foden  England  Manchester City     9"
      ]
     },
     "execution_count": 222,
     "metadata": {},
     "output_type": "execute_result"
    }
   ],
   "source": [
    "data=player_df_2020[player_df_2020['Team']=='Manchester City'][:3]\n",
    "data"
   ]
  },
  {
   "cell_type": "code",
   "execution_count": 223,
   "metadata": {},
   "outputs": [
    {
     "data": {
      "text/html": [
       "<div>\n",
       "<style scoped>\n",
       "    .dataframe tbody tr th:only-of-type {\n",
       "        vertical-align: middle;\n",
       "    }\n",
       "\n",
       "    .dataframe tbody tr th {\n",
       "        vertical-align: top;\n",
       "    }\n",
       "\n",
       "    .dataframe thead th {\n",
       "        text-align: right;\n",
       "    }\n",
       "</style>\n",
       "<table border=\"1\" class=\"dataframe\">\n",
       "  <thead>\n",
       "    <tr style=\"text-align: right;\">\n",
       "      <th></th>\n",
       "      <th>Unnamed: 0</th>\n",
       "      <th>Player</th>\n",
       "      <th>Country</th>\n",
       "      <th>Team</th>\n",
       "      <th>goal</th>\n",
       "      <th>penalty</th>\n",
       "    </tr>\n",
       "  </thead>\n",
       "  <tbody>\n",
       "    <tr>\n",
       "      <th>0</th>\n",
       "      <td>0</td>\n",
       "      <td>Mo Salah</td>\n",
       "      <td>Egypt</td>\n",
       "      <td>Liverpool FC</td>\n",
       "      <td>23</td>\n",
       "      <td>5</td>\n",
       "    </tr>\n",
       "    <tr>\n",
       "      <th>1</th>\n",
       "      <td>1</td>\n",
       "      <td>Heung-min Son</td>\n",
       "      <td>South Korea</td>\n",
       "      <td>Tottenham Hotspur</td>\n",
       "      <td>23</td>\n",
       "      <td>0</td>\n",
       "    </tr>\n",
       "    <tr>\n",
       "      <th>2</th>\n",
       "      <td>2</td>\n",
       "      <td>Cristiano Ronaldo</td>\n",
       "      <td>Portugal</td>\n",
       "      <td>Manchester United</td>\n",
       "      <td>18</td>\n",
       "      <td>3</td>\n",
       "    </tr>\n",
       "    <tr>\n",
       "      <th>3</th>\n",
       "      <td>3</td>\n",
       "      <td>Harry Kane</td>\n",
       "      <td>England</td>\n",
       "      <td>Tottenham Hotspur</td>\n",
       "      <td>17</td>\n",
       "      <td>4</td>\n",
       "    </tr>\n",
       "    <tr>\n",
       "      <th>4</th>\n",
       "      <td>4</td>\n",
       "      <td>Sadio Mané</td>\n",
       "      <td>Senegal</td>\n",
       "      <td>Liverpool FC</td>\n",
       "      <td>16</td>\n",
       "      <td>0</td>\n",
       "    </tr>\n",
       "  </tbody>\n",
       "</table>\n",
       "</div>"
      ],
      "text/plain": [
       "   Unnamed: 0              Player      Country                Team  goal   \n",
       "0           0            Mo Salah        Egypt       Liverpool FC     23  \\\n",
       "1           1       Heung-min Son  South Korea  Tottenham Hotspur     23   \n",
       "2           2   Cristiano Ronaldo     Portugal  Manchester United     18   \n",
       "3           3          Harry Kane      England  Tottenham Hotspur     17   \n",
       "4           4          Sadio Mané      Senegal       Liverpool FC     16   \n",
       "\n",
       "   penalty  \n",
       "0        5  \n",
       "1        0  \n",
       "2        3  \n",
       "3        4  \n",
       "4        0  "
      ]
     },
     "execution_count": 223,
     "metadata": {},
     "output_type": "execute_result"
    }
   ],
   "source": [
    "player_df_2021=pd.read_csv(r'D:\\beutiful\\Player_2021-22.csv')\n",
    "player_df_2021.head()"
   ]
  },
  {
   "cell_type": "code",
   "execution_count": 224,
   "metadata": {},
   "outputs": [],
   "source": [
    "player_df_2021.drop(columns=['Unnamed: 0'],inplace=True)\n",
    "player_df_2021.drop(columns=['penalty'],inplace=True)"
   ]
  },
  {
   "cell_type": "code",
   "execution_count": 225,
   "metadata": {},
   "outputs": [],
   "source": [
    "player_df_2021['Team']=player_df_2021['Team'].replace('Arsenal FC ','Arsenal')\n",
    "player_df_2021['Team']=player_df_2021['Team'].replace('Liverpool FC ','Liverpool')\n",
    "player_df_2021['Team']=player_df_2021['Team'].replace('Manchester City ','Manchester City')\n",
    "player_df_2021['Team']=player_df_2021['Team'].replace('Leicester City ','Leicester City')\n",
    "player_df_2021['Team']=player_df_2021['Team'].replace('Tottenham Hotspur ','Tottenham Hotspur')\n",
    "player_df_2021['Team']=player_df_2021['Team'].replace('Wolverhampton Wanderers ','Wolverhampton Wanderers')\n",
    "player_df_2021['Team']=player_df_2021['Team'].replace('Brighton & Hove Albion ','Brighton and Hove Albion')\n",
    "player_df_2021['Team']=player_df_2021['Team'].replace('Manchester United ','Manchester United')\n",
    "player_df_2021['Team']=player_df_2021['Team'].replace('Everton FC ','Everton')\n",
    "player_df_2021['Team']=player_df_2021['Team'].replace('Newcastle United ','Newcastle United')\n",
    "player_df_2021['Team']=player_df_2021['Team'].replace('Crystal Palace ','Crystal Palace')\n",
    "player_df_2021['Team']=player_df_2021['Team'].replace('West Ham United ','West Ham United')\n",
    "player_df_2021['Team']=player_df_2021['Team'].replace('Southampton FC ','Southampton')"
   ]
  },
  {
   "cell_type": "code",
   "execution_count": 226,
   "metadata": {},
   "outputs": [
    {
     "data": {
      "text/html": [
       "<div>\n",
       "<style scoped>\n",
       "    .dataframe tbody tr th:only-of-type {\n",
       "        vertical-align: middle;\n",
       "    }\n",
       "\n",
       "    .dataframe tbody tr th {\n",
       "        vertical-align: top;\n",
       "    }\n",
       "\n",
       "    .dataframe thead th {\n",
       "        text-align: right;\n",
       "    }\n",
       "</style>\n",
       "<table border=\"1\" class=\"dataframe\">\n",
       "  <thead>\n",
       "    <tr style=\"text-align: right;\">\n",
       "      <th></th>\n",
       "      <th>Player</th>\n",
       "      <th>Country</th>\n",
       "      <th>Team</th>\n",
       "      <th>goal</th>\n",
       "    </tr>\n",
       "  </thead>\n",
       "  <tbody>\n",
       "    <tr>\n",
       "      <th>5</th>\n",
       "      <td>Kevin De Bruyne</td>\n",
       "      <td>Belgium</td>\n",
       "      <td>Manchester City</td>\n",
       "      <td>15</td>\n",
       "    </tr>\n",
       "    <tr>\n",
       "      <th>9</th>\n",
       "      <td>Raheem Sterling</td>\n",
       "      <td>England</td>\n",
       "      <td>Manchester City</td>\n",
       "      <td>13</td>\n",
       "    </tr>\n",
       "    <tr>\n",
       "      <th>13</th>\n",
       "      <td>Riyad Mahrez</td>\n",
       "      <td>Algeria</td>\n",
       "      <td>Manchester City</td>\n",
       "      <td>11</td>\n",
       "    </tr>\n",
       "  </tbody>\n",
       "</table>\n",
       "</div>"
      ],
      "text/plain": [
       "             Player  Country             Team  goal\n",
       "5   Kevin De Bruyne  Belgium  Manchester City    15\n",
       "9   Raheem Sterling  England  Manchester City    13\n",
       "13     Riyad Mahrez  Algeria  Manchester City    11"
      ]
     },
     "execution_count": 226,
     "metadata": {},
     "output_type": "execute_result"
    }
   ],
   "source": [
    "data=player_df_2021[player_df_2021['Team']=='Manchester City'][:3]\n",
    "data"
   ]
  },
  {
   "cell_type": "code",
   "execution_count": 228,
   "metadata": {},
   "outputs": [
    {
     "data": {
      "text/html": [
       "<div>\n",
       "<style scoped>\n",
       "    .dataframe tbody tr th:only-of-type {\n",
       "        vertical-align: middle;\n",
       "    }\n",
       "\n",
       "    .dataframe tbody tr th {\n",
       "        vertical-align: top;\n",
       "    }\n",
       "\n",
       "    .dataframe thead th {\n",
       "        text-align: right;\n",
       "    }\n",
       "</style>\n",
       "<table border=\"1\" class=\"dataframe\">\n",
       "  <thead>\n",
       "    <tr style=\"text-align: right;\">\n",
       "      <th></th>\n",
       "      <th>Unnamed: 0</th>\n",
       "      <th>Player</th>\n",
       "      <th>Country</th>\n",
       "      <th>Team</th>\n",
       "      <th>goal</th>\n",
       "      <th>penalty</th>\n",
       "    </tr>\n",
       "  </thead>\n",
       "  <tbody>\n",
       "    <tr>\n",
       "      <th>0</th>\n",
       "      <td>0</td>\n",
       "      <td>Erling Haaland</td>\n",
       "      <td>Norway</td>\n",
       "      <td>Manchester City</td>\n",
       "      <td>36</td>\n",
       "      <td>7</td>\n",
       "    </tr>\n",
       "    <tr>\n",
       "      <th>1</th>\n",
       "      <td>1</td>\n",
       "      <td>Harry Kane</td>\n",
       "      <td>England</td>\n",
       "      <td>Tottenham Hotspur</td>\n",
       "      <td>30</td>\n",
       "      <td>5</td>\n",
       "    </tr>\n",
       "    <tr>\n",
       "      <th>2</th>\n",
       "      <td>2</td>\n",
       "      <td>Ivan Toney</td>\n",
       "      <td>England</td>\n",
       "      <td>Brentford FC</td>\n",
       "      <td>20</td>\n",
       "      <td>6</td>\n",
       "    </tr>\n",
       "    <tr>\n",
       "      <th>3</th>\n",
       "      <td>3</td>\n",
       "      <td>Mo Salah</td>\n",
       "      <td>Egypt</td>\n",
       "      <td>Liverpool FC</td>\n",
       "      <td>19</td>\n",
       "      <td>2</td>\n",
       "    </tr>\n",
       "    <tr>\n",
       "      <th>4</th>\n",
       "      <td>4</td>\n",
       "      <td>Callum Wilson</td>\n",
       "      <td>England</td>\n",
       "      <td>Newcastle United</td>\n",
       "      <td>18</td>\n",
       "      <td>3</td>\n",
       "    </tr>\n",
       "  </tbody>\n",
       "</table>\n",
       "</div>"
      ],
      "text/plain": [
       "   Unnamed: 0          Player  Country                Team  goal  penalty\n",
       "0           0  Erling Haaland   Norway    Manchester City     36        7\n",
       "1           1      Harry Kane  England  Tottenham Hotspur     30        5\n",
       "2           2      Ivan Toney  England       Brentford FC     20        6\n",
       "3           3        Mo Salah    Egypt       Liverpool FC     19        2\n",
       "4           4   Callum Wilson  England   Newcastle United     18        3"
      ]
     },
     "execution_count": 228,
     "metadata": {},
     "output_type": "execute_result"
    }
   ],
   "source": [
    "player_df_2022=pd.read_csv(r'D:\\beutiful\\Player_2022-23.csv')\n",
    "player_df_2022.head()"
   ]
  },
  {
   "cell_type": "code",
   "execution_count": 229,
   "metadata": {},
   "outputs": [],
   "source": [
    "player_df_2022.drop(columns=['Unnamed: 0'],inplace=True)\n",
    "player_df_2022.drop(columns=['penalty'],inplace=True)"
   ]
  },
  {
   "cell_type": "code",
   "execution_count": 230,
   "metadata": {},
   "outputs": [],
   "source": [
    "player_df_2022['Team']=player_df_2022['Team'].replace('Arsenal FC ','Arsenal')\n",
    "player_df_2022['Team']=player_df_2022['Team'].replace('Liverpool FC ','Liverpool')\n",
    "player_df_2022['Team']=player_df_2022['Team'].replace('Manchester City ','Manchester City')\n",
    "player_df_2022['Team']=player_df_2022['Team'].replace('Leicester City ','Leicester City')\n",
    "player_df_2022['Team']=player_df_2022['Team'].replace('Tottenham Hotspur ','Tottenham Hotspur')\n",
    "player_df_2022['Team']=player_df_2022['Team'].replace('Wolverhampton Wanderers ','Wolverhampton Wanderers')\n",
    "player_df_2022['Team']=player_df_2022['Team'].replace('Brighton & Hove Albion ','Brighton and Hove Albion')\n",
    "player_df_2022['Team']=player_df_2022['Team'].replace('Manchester United ','Manchester United')\n",
    "player_df_2022['Team']=player_df_2022['Team'].replace('Everton FC ','Everton')\n",
    "player_df_2022['Team']=player_df_2022['Team'].replace('Newcastle United ','Newcastle United')\n",
    "player_df_2022['Team']=player_df_2022['Team'].replace('Crystal Palace ','Crystal Palace')\n",
    "player_df_2022['Team']=player_df_2022['Team'].replace('West Ham United ','West Ham United')\n",
    "player_df_2022['Team']=player_df_2022['Team'].replace('Southampton FC ','Southampton')"
   ]
  },
  {
   "cell_type": "code",
   "execution_count": 231,
   "metadata": {},
   "outputs": [
    {
     "data": {
      "text/html": [
       "<div>\n",
       "<style scoped>\n",
       "    .dataframe tbody tr th:only-of-type {\n",
       "        vertical-align: middle;\n",
       "    }\n",
       "\n",
       "    .dataframe tbody tr th {\n",
       "        vertical-align: top;\n",
       "    }\n",
       "\n",
       "    .dataframe thead th {\n",
       "        text-align: right;\n",
       "    }\n",
       "</style>\n",
       "<table border=\"1\" class=\"dataframe\">\n",
       "  <thead>\n",
       "    <tr style=\"text-align: right;\">\n",
       "      <th></th>\n",
       "      <th>Player</th>\n",
       "      <th>Country</th>\n",
       "      <th>Team</th>\n",
       "      <th>goal</th>\n",
       "    </tr>\n",
       "  </thead>\n",
       "  <tbody>\n",
       "    <tr>\n",
       "      <th>0</th>\n",
       "      <td>Erling Haaland</td>\n",
       "      <td>Norway</td>\n",
       "      <td>Manchester City</td>\n",
       "      <td>36</td>\n",
       "    </tr>\n",
       "    <tr>\n",
       "      <th>14</th>\n",
       "      <td>Phil Foden</td>\n",
       "      <td>England</td>\n",
       "      <td>Manchester City</td>\n",
       "      <td>11</td>\n",
       "    </tr>\n",
       "    <tr>\n",
       "      <th>23</th>\n",
       "      <td>Julián Álvarez</td>\n",
       "      <td>Argentina</td>\n",
       "      <td>Manchester City</td>\n",
       "      <td>9</td>\n",
       "    </tr>\n",
       "  </tbody>\n",
       "</table>\n",
       "</div>"
      ],
      "text/plain": [
       "            Player    Country             Team  goal\n",
       "0   Erling Haaland     Norway  Manchester City    36\n",
       "14      Phil Foden    England  Manchester City    11\n",
       "23  Julián Álvarez  Argentina  Manchester City     9"
      ]
     },
     "execution_count": 231,
     "metadata": {},
     "output_type": "execute_result"
    }
   ],
   "source": [
    "data=player_df_2022[player_df_2022['Team']=='Manchester City'][:3]\n",
    "data"
   ]
  },
  {
   "cell_type": "markdown",
   "metadata": {},
   "source": [
    "Most Goals Scored in last 5 Years"
   ]
  },
  {
   "cell_type": "code",
   "execution_count": 320,
   "metadata": {},
   "outputs": [],
   "source": [
    "merged_df = pd.merge(player_df_2018, player_df_2019, on='Player', how='outer', suffixes=('_df1', '_df2'))\n",
    "\n",
    "# Replace NaN with 0 in 'marks' columns\n",
    "merged_df['goal_df1'].fillna(0, inplace=True)\n",
    "merged_df['goal_df2'].fillna(0, inplace=True)\n",
    "\n",
    "# Create a new column representing the sum of marks from both dataframes\n",
    "merged_df['total_goal'] = merged_df['goal_df1'] + merged_df['goal_df2']\n",
    "\n"
   ]
  },
  {
   "cell_type": "code",
   "execution_count": 321,
   "metadata": {},
   "outputs": [
    {
     "data": {
      "text/html": [
       "<div>\n",
       "<style scoped>\n",
       "    .dataframe tbody tr th:only-of-type {\n",
       "        vertical-align: middle;\n",
       "    }\n",
       "\n",
       "    .dataframe tbody tr th {\n",
       "        vertical-align: top;\n",
       "    }\n",
       "\n",
       "    .dataframe thead th {\n",
       "        text-align: right;\n",
       "    }\n",
       "</style>\n",
       "<table border=\"1\" class=\"dataframe\">\n",
       "  <thead>\n",
       "    <tr style=\"text-align: right;\">\n",
       "      <th></th>\n",
       "      <th>Player</th>\n",
       "      <th>Country_df1</th>\n",
       "      <th>Team_df1</th>\n",
       "      <th>goal_df1</th>\n",
       "      <th>Country_df2</th>\n",
       "      <th>Team_df2</th>\n",
       "      <th>goal_df2</th>\n",
       "      <th>total_goal</th>\n",
       "    </tr>\n",
       "  </thead>\n",
       "  <tbody>\n",
       "    <tr>\n",
       "      <th>7</th>\n",
       "      <td>Eden Hazard</td>\n",
       "      <td>Belgium</td>\n",
       "      <td>Chelsea FC</td>\n",
       "      <td>16.0</td>\n",
       "      <td>NaN</td>\n",
       "      <td>NaN</td>\n",
       "      <td>0.0</td>\n",
       "      <td>16.0</td>\n",
       "    </tr>\n",
       "    <tr>\n",
       "      <th>18</th>\n",
       "      <td>Romelu Lukaku</td>\n",
       "      <td>Belgium</td>\n",
       "      <td>Manchester United</td>\n",
       "      <td>12.0</td>\n",
       "      <td>NaN</td>\n",
       "      <td>NaN</td>\n",
       "      <td>0.0</td>\n",
       "      <td>12.0</td>\n",
       "    </tr>\n",
       "    <tr>\n",
       "      <th>22</th>\n",
       "      <td>Aleksandar Mitrović</td>\n",
       "      <td>Serbia</td>\n",
       "      <td>Fulham FC</td>\n",
       "      <td>11.0</td>\n",
       "      <td>NaN</td>\n",
       "      <td>NaN</td>\n",
       "      <td>0.0</td>\n",
       "      <td>11.0</td>\n",
       "    </tr>\n",
       "    <tr>\n",
       "      <th>23</th>\n",
       "      <td>Salomón Rondón</td>\n",
       "      <td>Venezuela</td>\n",
       "      <td>Newcastle United</td>\n",
       "      <td>11.0</td>\n",
       "      <td>NaN</td>\n",
       "      <td>NaN</td>\n",
       "      <td>0.0</td>\n",
       "      <td>11.0</td>\n",
       "    </tr>\n",
       "    <tr>\n",
       "      <th>24</th>\n",
       "      <td>Marko Arnautović</td>\n",
       "      <td>Austria</td>\n",
       "      <td>West Ham United</td>\n",
       "      <td>10.0</td>\n",
       "      <td>NaN</td>\n",
       "      <td>NaN</td>\n",
       "      <td>0.0</td>\n",
       "      <td>10.0</td>\n",
       "    </tr>\n",
       "    <tr>\n",
       "      <th>...</th>\n",
       "      <td>...</td>\n",
       "      <td>...</td>\n",
       "      <td>...</td>\n",
       "      <td>...</td>\n",
       "      <td>...</td>\n",
       "      <td>...</td>\n",
       "      <td>...</td>\n",
       "      <td>...</td>\n",
       "    </tr>\n",
       "    <tr>\n",
       "      <th>369</th>\n",
       "      <td>Jannik Vestergaard</td>\n",
       "      <td>NaN</td>\n",
       "      <td>NaN</td>\n",
       "      <td>0.0</td>\n",
       "      <td>Denmark</td>\n",
       "      <td>Southampton</td>\n",
       "      <td>1.0</td>\n",
       "      <td>1.0</td>\n",
       "    </tr>\n",
       "    <tr>\n",
       "      <th>370</th>\n",
       "      <td>Mario Vrančić</td>\n",
       "      <td>NaN</td>\n",
       "      <td>NaN</td>\n",
       "      <td>0.0</td>\n",
       "      <td>Bosnia-Herzegovina</td>\n",
       "      <td>Norwich City</td>\n",
       "      <td>1.0</td>\n",
       "      <td>1.0</td>\n",
       "    </tr>\n",
       "    <tr>\n",
       "      <th>371</th>\n",
       "      <td>Connor Wickham</td>\n",
       "      <td>NaN</td>\n",
       "      <td>NaN</td>\n",
       "      <td>0.0</td>\n",
       "      <td>England</td>\n",
       "      <td>Crystal Palace</td>\n",
       "      <td>1.0</td>\n",
       "      <td>1.0</td>\n",
       "    </tr>\n",
       "    <tr>\n",
       "      <th>372</th>\n",
       "      <td>Brandon Williams</td>\n",
       "      <td>NaN</td>\n",
       "      <td>NaN</td>\n",
       "      <td>0.0</td>\n",
       "      <td>England</td>\n",
       "      <td>Manchester United</td>\n",
       "      <td>1.0</td>\n",
       "      <td>1.0</td>\n",
       "    </tr>\n",
       "    <tr>\n",
       "      <th>373</th>\n",
       "      <td>Joe Willock</td>\n",
       "      <td>NaN</td>\n",
       "      <td>NaN</td>\n",
       "      <td>0.0</td>\n",
       "      <td>England</td>\n",
       "      <td>Arsenal</td>\n",
       "      <td>1.0</td>\n",
       "      <td>1.0</td>\n",
       "    </tr>\n",
       "  </tbody>\n",
       "</table>\n",
       "<p>219 rows × 8 columns</p>\n",
       "</div>"
      ],
      "text/plain": [
       "                  Player Country_df1           Team_df1  goal_df1   \n",
       "7            Eden Hazard     Belgium        Chelsea FC       16.0  \\\n",
       "18         Romelu Lukaku     Belgium  Manchester United      12.0   \n",
       "22   Aleksandar Mitrović      Serbia         Fulham FC       11.0   \n",
       "23        Salomón Rondón   Venezuela   Newcastle United      11.0   \n",
       "24      Marko Arnautović     Austria    West Ham United      10.0   \n",
       "..                   ...         ...                ...       ...   \n",
       "369   Jannik Vestergaard         NaN                NaN       0.0   \n",
       "370        Mario Vrančić         NaN                NaN       0.0   \n",
       "371       Connor Wickham         NaN                NaN       0.0   \n",
       "372     Brandon Williams         NaN                NaN       0.0   \n",
       "373          Joe Willock         NaN                NaN       0.0   \n",
       "\n",
       "            Country_df2           Team_df2  goal_df2  total_goal  \n",
       "7                   NaN                NaN       0.0        16.0  \n",
       "18                  NaN                NaN       0.0        12.0  \n",
       "22                  NaN                NaN       0.0        11.0  \n",
       "23                  NaN                NaN       0.0        11.0  \n",
       "24                  NaN                NaN       0.0        10.0  \n",
       "..                  ...                ...       ...         ...  \n",
       "369             Denmark        Southampton       1.0         1.0  \n",
       "370  Bosnia-Herzegovina      Norwich City        1.0         1.0  \n",
       "371             England     Crystal Palace       1.0         1.0  \n",
       "372             England  Manchester United       1.0         1.0  \n",
       "373             England            Arsenal       1.0         1.0  \n",
       "\n",
       "[219 rows x 8 columns]"
      ]
     },
     "execution_count": 321,
     "metadata": {},
     "output_type": "execute_result"
    }
   ],
   "source": [
    "merged_df[merged_df.isnull().any(axis=1)]"
   ]
  },
  {
   "cell_type": "code",
   "execution_count": 322,
   "metadata": {},
   "outputs": [],
   "source": [
    "merged_df['Country_df2'].fillna(merged_df['Country_df1'],inplace=True)"
   ]
  },
  {
   "cell_type": "code",
   "execution_count": 325,
   "metadata": {},
   "outputs": [],
   "source": [
    "merged_df['Team_df2'].fillna(merged_df['Team_df1'],inplace=True)"
   ]
  },
  {
   "cell_type": "code",
   "execution_count": 326,
   "metadata": {},
   "outputs": [
    {
     "data": {
      "text/plain": [
       "Player           0\n",
       "Country_df1    107\n",
       "Team_df1       107\n",
       "goal_df1         0\n",
       "Country_df2      0\n",
       "Team_df2         0\n",
       "goal_df2         0\n",
       "total_goal       0\n",
       "dtype: int64"
      ]
     },
     "execution_count": 326,
     "metadata": {},
     "output_type": "execute_result"
    }
   ],
   "source": [
    "merged_df.isnull().sum()"
   ]
  },
  {
   "cell_type": "code",
   "execution_count": 330,
   "metadata": {},
   "outputs": [],
   "source": [
    "merged_df.drop(columns=['Country_df1','Team_df1','goal_df1','goal_df2'],axis=1,inplace=True)\n",
    "merged_df.rename(columns={'Country_df2':'Country','Team_df2':'Team','total_goal':'goal'},inplace=True)"
   ]
  },
  {
   "cell_type": "code",
   "execution_count": 331,
   "metadata": {},
   "outputs": [
    {
     "data": {
      "text/html": [
       "<div>\n",
       "<style scoped>\n",
       "    .dataframe tbody tr th:only-of-type {\n",
       "        vertical-align: middle;\n",
       "    }\n",
       "\n",
       "    .dataframe tbody tr th {\n",
       "        vertical-align: top;\n",
       "    }\n",
       "\n",
       "    .dataframe thead th {\n",
       "        text-align: right;\n",
       "    }\n",
       "</style>\n",
       "<table border=\"1\" class=\"dataframe\">\n",
       "  <thead>\n",
       "    <tr style=\"text-align: right;\">\n",
       "      <th></th>\n",
       "      <th>Player</th>\n",
       "      <th>Country</th>\n",
       "      <th>Team</th>\n",
       "      <th>goal</th>\n",
       "    </tr>\n",
       "  </thead>\n",
       "  <tbody>\n",
       "    <tr>\n",
       "      <th>0</th>\n",
       "      <td>Pierre-Emerick Aubameyang</td>\n",
       "      <td>Gabon</td>\n",
       "      <td>Arsenal</td>\n",
       "      <td>44.0</td>\n",
       "    </tr>\n",
       "    <tr>\n",
       "      <th>1</th>\n",
       "      <td>Sadio Mané</td>\n",
       "      <td>Senegal</td>\n",
       "      <td>Liverpool</td>\n",
       "      <td>40.0</td>\n",
       "    </tr>\n",
       "    <tr>\n",
       "      <th>2</th>\n",
       "      <td>Mo Salah</td>\n",
       "      <td>Egypt</td>\n",
       "      <td>Liverpool</td>\n",
       "      <td>41.0</td>\n",
       "    </tr>\n",
       "    <tr>\n",
       "      <th>3</th>\n",
       "      <td>Sergio Agüero</td>\n",
       "      <td>Argentina</td>\n",
       "      <td>Manchester City</td>\n",
       "      <td>37.0</td>\n",
       "    </tr>\n",
       "    <tr>\n",
       "      <th>4</th>\n",
       "      <td>Jamie Vardy</td>\n",
       "      <td>England</td>\n",
       "      <td>Leicester City</td>\n",
       "      <td>41.0</td>\n",
       "    </tr>\n",
       "  </tbody>\n",
       "</table>\n",
       "</div>"
      ],
      "text/plain": [
       "                      Player    Country             Team  goal\n",
       "0  Pierre-Emerick Aubameyang      Gabon          Arsenal  44.0\n",
       "1                 Sadio Mané    Senegal        Liverpool  40.0\n",
       "2                   Mo Salah      Egypt        Liverpool  41.0\n",
       "3              Sergio Agüero  Argentina  Manchester City  37.0\n",
       "4                Jamie Vardy    England   Leicester City  41.0"
      ]
     },
     "execution_count": 331,
     "metadata": {},
     "output_type": "execute_result"
    }
   ],
   "source": [
    "merged_df.head()"
   ]
  },
  {
   "cell_type": "code",
   "execution_count": 332,
   "metadata": {},
   "outputs": [
    {
     "data": {
      "text/html": [
       "<div>\n",
       "<style scoped>\n",
       "    .dataframe tbody tr th:only-of-type {\n",
       "        vertical-align: middle;\n",
       "    }\n",
       "\n",
       "    .dataframe tbody tr th {\n",
       "        vertical-align: top;\n",
       "    }\n",
       "\n",
       "    .dataframe thead th {\n",
       "        text-align: right;\n",
       "    }\n",
       "</style>\n",
       "<table border=\"1\" class=\"dataframe\">\n",
       "  <thead>\n",
       "    <tr style=\"text-align: right;\">\n",
       "      <th></th>\n",
       "      <th>Player</th>\n",
       "      <th>Country</th>\n",
       "      <th>Team</th>\n",
       "      <th>goal</th>\n",
       "    </tr>\n",
       "  </thead>\n",
       "  <tbody>\n",
       "    <tr>\n",
       "      <th>239</th>\n",
       "      <td>Davy Pröpper</td>\n",
       "      <td>Netherlands</td>\n",
       "      <td>Brighton and Hove Albion</td>\n",
       "      <td>2.0</td>\n",
       "    </tr>\n",
       "  </tbody>\n",
       "</table>\n",
       "</div>"
      ],
      "text/plain": [
       "           Player      Country                      Team  goal\n",
       "239  Davy Pröpper  Netherlands  Brighton and Hove Albion   2.0"
      ]
     },
     "execution_count": 332,
     "metadata": {},
     "output_type": "execute_result"
    }
   ],
   "source": [
    "merged_df.sample()"
   ]
  },
  {
   "cell_type": "code",
   "execution_count": 283,
   "metadata": {},
   "outputs": [
    {
     "data": {
      "text/plain": [
       "(374, 4)"
      ]
     },
     "execution_count": 283,
     "metadata": {},
     "output_type": "execute_result"
    }
   ],
   "source": [
    "merged_df.shape"
   ]
  },
  {
   "cell_type": "code",
   "execution_count": 333,
   "metadata": {},
   "outputs": [],
   "source": [
    "merged_df = pd.merge(merged_df, player_df_2020, on='Player', how='outer', suffixes=('_df1', '_df2'))\n",
    "\n",
    "# Replace NaN with 0 in 'marks' columns\n",
    "merged_df['goal_df1'].fillna(0, inplace=True)\n",
    "merged_df['goal_df2'].fillna(0, inplace=True)\n",
    "\n",
    "# Create a new column representing the sum of marks from both dataframes\n",
    "merged_df['total_goal'] = merged_df['goal_df1'] + merged_df['goal_df2']\n"
   ]
  },
  {
   "cell_type": "code",
   "execution_count": 334,
   "metadata": {},
   "outputs": [],
   "source": [
    "merged_df['Country_df2'].fillna(merged_df['Country_df1'],inplace=True)\n",
    "merged_df['Team_df2'].fillna(merged_df['Team_df1'],inplace=True)"
   ]
  },
  {
   "cell_type": "code",
   "execution_count": 335,
   "metadata": {},
   "outputs": [],
   "source": [
    "merged_df.drop(columns=['Country_df1','Team_df1','goal_df1','goal_df2'],axis=1,inplace=True)\n",
    "merged_df.rename(columns={'Country_df2':'Country','Team_df2':'Team','total_goal':'goal'},inplace=True)"
   ]
  },
  {
   "cell_type": "code",
   "execution_count": 337,
   "metadata": {},
   "outputs": [],
   "source": [
    "merged_df = pd.merge(merged_df, player_df_2021, on='Player', how='outer', suffixes=('_df1', '_df2'))\n",
    "\n",
    "# Replace NaN with 0 in 'marks' columns\n",
    "merged_df['goal_df1'].fillna(0, inplace=True)\n",
    "merged_df['goal_df2'].fillna(0, inplace=True)\n",
    "\n",
    "# Create a new column representing the sum of marks from both dataframes\n",
    "merged_df['total_goal'] = merged_df['goal_df1'] + merged_df['goal_df2']\n"
   ]
  },
  {
   "cell_type": "code",
   "execution_count": 338,
   "metadata": {},
   "outputs": [],
   "source": [
    "merged_df['Country_df2'].fillna(merged_df['Country_df1'],inplace=True)\n",
    "merged_df['Team_df2'].fillna(merged_df['Team_df1'],inplace=True)"
   ]
  },
  {
   "cell_type": "code",
   "execution_count": 339,
   "metadata": {},
   "outputs": [],
   "source": [
    "merged_df.drop(columns=['Country_df1','Team_df1','goal_df1','goal_df2'],axis=1,inplace=True)\n",
    "merged_df.rename(columns={'Country_df2':'Country','Team_df2':'Team','total_goal':'goal'},inplace=True)"
   ]
  },
  {
   "cell_type": "code",
   "execution_count": 340,
   "metadata": {},
   "outputs": [
    {
     "data": {
      "text/plain": [
       "Player     0\n",
       "Country    0\n",
       "Team       0\n",
       "goal       0\n",
       "dtype: int64"
      ]
     },
     "execution_count": 340,
     "metadata": {},
     "output_type": "execute_result"
    }
   ],
   "source": [
    "merged_df.isnull().sum()"
   ]
  },
  {
   "cell_type": "code",
   "execution_count": 342,
   "metadata": {},
   "outputs": [],
   "source": [
    "merged_df = pd.merge(merged_df, player_df_2022, on='Player', how='outer', suffixes=('_df1', '_df2'))\n",
    "\n",
    "# Replace NaN with 0 in 'marks' columns\n",
    "merged_df['goal_df1'].fillna(0, inplace=True)\n",
    "merged_df['goal_df2'].fillna(0, inplace=True)\n",
    "\n",
    "# Create a new column representing the sum of marks from both dataframes\n",
    "merged_df['total_goal'] = merged_df['goal_df1'] + merged_df['goal_df2']"
   ]
  },
  {
   "cell_type": "code",
   "execution_count": 343,
   "metadata": {},
   "outputs": [],
   "source": [
    "merged_df['Country_df2'].fillna(merged_df['Country_df1'],inplace=True)\n",
    "merged_df['Team_df2'].fillna(merged_df['Team_df1'],inplace=True)\n",
    "\n",
    "merged_df.drop(columns=['Country_df1','Team_df1','goal_df1','goal_df2'],axis=1,inplace=True)\n",
    "merged_df.rename(columns={'Country_df2':'Country','Team_df2':'Team','total_goal':'goal'},inplace=True)"
   ]
  },
  {
   "cell_type": "code",
   "execution_count": 347,
   "metadata": {},
   "outputs": [],
   "source": [
    "merged_df=merged_df.sort_values(by='goal',ascending=False)"
   ]
  },
  {
   "cell_type": "code",
   "execution_count": 443,
   "metadata": {},
   "outputs": [
    {
     "data": {
      "text/html": [
       "<div>\n",
       "<style scoped>\n",
       "    .dataframe tbody tr th:only-of-type {\n",
       "        vertical-align: middle;\n",
       "    }\n",
       "\n",
       "    .dataframe tbody tr th {\n",
       "        vertical-align: top;\n",
       "    }\n",
       "\n",
       "    .dataframe thead th {\n",
       "        text-align: right;\n",
       "    }\n",
       "</style>\n",
       "<table border=\"1\" class=\"dataframe\">\n",
       "  <thead>\n",
       "    <tr style=\"text-align: right;\">\n",
       "      <th></th>\n",
       "      <th>Player</th>\n",
       "      <th>Country</th>\n",
       "      <th>Team</th>\n",
       "      <th>goal</th>\n",
       "    </tr>\n",
       "  </thead>\n",
       "  <tbody>\n",
       "    <tr>\n",
       "      <th>2</th>\n",
       "      <td>Mo Salah</td>\n",
       "      <td>Egypt</td>\n",
       "      <td>Liverpool</td>\n",
       "      <td>105.0</td>\n",
       "    </tr>\n",
       "    <tr>\n",
       "      <th>5</th>\n",
       "      <td>Harry Kane</td>\n",
       "      <td>England</td>\n",
       "      <td>Tottenham Hotspur</td>\n",
       "      <td>105.0</td>\n",
       "    </tr>\n",
       "    <tr>\n",
       "      <th>4</th>\n",
       "      <td>Jamie Vardy</td>\n",
       "      <td>England</td>\n",
       "      <td>Leicester City</td>\n",
       "      <td>74.0</td>\n",
       "    </tr>\n",
       "    <tr>\n",
       "      <th>21</th>\n",
       "      <td>Heung-min Son</td>\n",
       "      <td>South Korea</td>\n",
       "      <td>Tottenham Hotspur</td>\n",
       "      <td>73.0</td>\n",
       "    </tr>\n",
       "    <tr>\n",
       "      <th>1</th>\n",
       "      <td>Sadio Mané</td>\n",
       "      <td>Senegal</td>\n",
       "      <td>Liverpool</td>\n",
       "      <td>67.0</td>\n",
       "    </tr>\n",
       "    <tr>\n",
       "      <th>...</th>\n",
       "      <td>...</td>\n",
       "      <td>...</td>\n",
       "      <td>...</td>\n",
       "      <td>...</td>\n",
       "    </tr>\n",
       "    <tr>\n",
       "      <th>241</th>\n",
       "      <td>Alexis Sánchez</td>\n",
       "      <td>Chile</td>\n",
       "      <td>Manchester United</td>\n",
       "      <td>1.0</td>\n",
       "    </tr>\n",
       "    <tr>\n",
       "      <th>510</th>\n",
       "      <td>Cucurella</td>\n",
       "      <td>Spain</td>\n",
       "      <td>Brighton and Hove Albion</td>\n",
       "      <td>1.0</td>\n",
       "    </tr>\n",
       "    <tr>\n",
       "      <th>233</th>\n",
       "      <td>Nacho Monreal</td>\n",
       "      <td>Spain</td>\n",
       "      <td>Arsenal</td>\n",
       "      <td>1.0</td>\n",
       "    </tr>\n",
       "    <tr>\n",
       "      <th>513</th>\n",
       "      <td>Kieran Dowell</td>\n",
       "      <td>England</td>\n",
       "      <td>Norwich City</td>\n",
       "      <td>1.0</td>\n",
       "    </tr>\n",
       "    <tr>\n",
       "      <th>625</th>\n",
       "      <td>Oleksandr Zinchenko</td>\n",
       "      <td>Ukraine</td>\n",
       "      <td>Arsenal</td>\n",
       "      <td>1.0</td>\n",
       "    </tr>\n",
       "  </tbody>\n",
       "</table>\n",
       "<p>626 rows × 4 columns</p>\n",
       "</div>"
      ],
      "text/plain": [
       "                  Player      Country                      Team   goal\n",
       "2               Mo Salah        Egypt                 Liverpool  105.0\n",
       "5             Harry Kane      England         Tottenham Hotspur  105.0\n",
       "4            Jamie Vardy      England            Leicester City   74.0\n",
       "21         Heung-min Son  South Korea         Tottenham Hotspur   73.0\n",
       "1             Sadio Mané      Senegal                 Liverpool   67.0\n",
       "..                   ...          ...                       ...    ...\n",
       "241       Alexis Sánchez        Chile         Manchester United    1.0\n",
       "510            Cucurella        Spain  Brighton and Hove Albion    1.0\n",
       "233        Nacho Monreal        Spain                   Arsenal    1.0\n",
       "513        Kieran Dowell      England             Norwich City     1.0\n",
       "625  Oleksandr Zinchenko      Ukraine                   Arsenal    1.0\n",
       "\n",
       "[626 rows x 4 columns]"
      ]
     },
     "execution_count": 443,
     "metadata": {},
     "output_type": "execute_result"
    }
   ],
   "source": [
    "merged_df"
   ]
  },
  {
   "cell_type": "code",
   "execution_count": 349,
   "metadata": {},
   "outputs": [
    {
     "data": {
      "text/html": [
       "<div>\n",
       "<style scoped>\n",
       "    .dataframe tbody tr th:only-of-type {\n",
       "        vertical-align: middle;\n",
       "    }\n",
       "\n",
       "    .dataframe tbody tr th {\n",
       "        vertical-align: top;\n",
       "    }\n",
       "\n",
       "    .dataframe thead th {\n",
       "        text-align: right;\n",
       "    }\n",
       "</style>\n",
       "<table border=\"1\" class=\"dataframe\">\n",
       "  <thead>\n",
       "    <tr style=\"text-align: right;\">\n",
       "      <th></th>\n",
       "      <th>Player</th>\n",
       "      <th>Country</th>\n",
       "      <th>Team</th>\n",
       "      <th>goal</th>\n",
       "    </tr>\n",
       "  </thead>\n",
       "  <tbody>\n",
       "    <tr>\n",
       "      <th>45</th>\n",
       "      <td>Riyad Mahrez</td>\n",
       "      <td>Algeria</td>\n",
       "      <td>Manchester City</td>\n",
       "      <td>43.0</td>\n",
       "    </tr>\n",
       "    <tr>\n",
       "      <th>131</th>\n",
       "      <td>Kevin De Bruyne</td>\n",
       "      <td>Belgium</td>\n",
       "      <td>Manchester City</td>\n",
       "      <td>43.0</td>\n",
       "    </tr>\n",
       "    <tr>\n",
       "      <th>3</th>\n",
       "      <td>Sergio Agüero</td>\n",
       "      <td>Argentina</td>\n",
       "      <td>Manchester City</td>\n",
       "      <td>41.0</td>\n",
       "    </tr>\n",
       "  </tbody>\n",
       "</table>\n",
       "</div>"
      ],
      "text/plain": [
       "              Player    Country             Team  goal\n",
       "45      Riyad Mahrez    Algeria  Manchester City  43.0\n",
       "131  Kevin De Bruyne    Belgium  Manchester City  43.0\n",
       "3      Sergio Agüero  Argentina  Manchester City  41.0"
      ]
     },
     "execution_count": 349,
     "metadata": {},
     "output_type": "execute_result"
    }
   ],
   "source": [
    "merged_df[merged_df['Team']=='Manchester City'][:3]"
   ]
  },
  {
   "cell_type": "markdown",
   "metadata": {},
   "source": [
    "Player Assist"
   ]
  },
  {
   "cell_type": "code",
   "execution_count": 350,
   "metadata": {},
   "outputs": [
    {
     "data": {
      "text/html": [
       "<div>\n",
       "<style scoped>\n",
       "    .dataframe tbody tr th:only-of-type {\n",
       "        vertical-align: middle;\n",
       "    }\n",
       "\n",
       "    .dataframe tbody tr th {\n",
       "        vertical-align: top;\n",
       "    }\n",
       "\n",
       "    .dataframe thead th {\n",
       "        text-align: right;\n",
       "    }\n",
       "</style>\n",
       "<table border=\"1\" class=\"dataframe\">\n",
       "  <thead>\n",
       "    <tr style=\"text-align: right;\">\n",
       "      <th></th>\n",
       "      <th>Unnamed: 0</th>\n",
       "      <th>Player</th>\n",
       "      <th>Country</th>\n",
       "      <th>Team</th>\n",
       "      <th>Assists</th>\n",
       "    </tr>\n",
       "  </thead>\n",
       "  <tbody>\n",
       "    <tr>\n",
       "      <th>0</th>\n",
       "      <td>0</td>\n",
       "      <td>Eden Hazard</td>\n",
       "      <td>Belgium</td>\n",
       "      <td>Chelsea FC</td>\n",
       "      <td>15</td>\n",
       "    </tr>\n",
       "    <tr>\n",
       "      <th>1</th>\n",
       "      <td>1</td>\n",
       "      <td>Ryan Fraser</td>\n",
       "      <td>Scotland</td>\n",
       "      <td>AFC Bournemouth</td>\n",
       "      <td>14</td>\n",
       "    </tr>\n",
       "    <tr>\n",
       "      <th>2</th>\n",
       "      <td>2</td>\n",
       "      <td>Trent Alexander-Arnold</td>\n",
       "      <td>England</td>\n",
       "      <td>Liverpool FC</td>\n",
       "      <td>12</td>\n",
       "    </tr>\n",
       "    <tr>\n",
       "      <th>3</th>\n",
       "      <td>3</td>\n",
       "      <td>Christian Eriksen</td>\n",
       "      <td>Denmark</td>\n",
       "      <td>Tottenham Hotspur</td>\n",
       "      <td>12</td>\n",
       "    </tr>\n",
       "    <tr>\n",
       "      <th>4</th>\n",
       "      <td>4</td>\n",
       "      <td>Andy Robertson</td>\n",
       "      <td>Scotland</td>\n",
       "      <td>Liverpool FC</td>\n",
       "      <td>11</td>\n",
       "    </tr>\n",
       "  </tbody>\n",
       "</table>\n",
       "</div>"
      ],
      "text/plain": [
       "   Unnamed: 0                  Player   Country                Team  Assists\n",
       "0           0             Eden Hazard   Belgium         Chelsea FC        15\n",
       "1           1             Ryan Fraser  Scotland    AFC Bournemouth        14\n",
       "2           2  Trent Alexander-Arnold   England       Liverpool FC        12\n",
       "3           3       Christian Eriksen   Denmark  Tottenham Hotspur        12\n",
       "4           4          Andy Robertson  Scotland       Liverpool FC        11"
      ]
     },
     "execution_count": 350,
     "metadata": {},
     "output_type": "execute_result"
    }
   ],
   "source": [
    "player_assist_df_2018=pd.read_csv(r'Player_Assist_2018-19.csv')\n",
    "player_assist_df_2018.head()"
   ]
  },
  {
   "cell_type": "code",
   "execution_count": 351,
   "metadata": {},
   "outputs": [],
   "source": [
    "player_assist_df_2018['Team']=player_assist_df_2018['Team'].replace('Arsenal FC ','Arsenal')\n",
    "player_assist_df_2018['Team']=player_assist_df_2018['Team'].replace('Liverpool FC ','Liverpool')\n",
    "player_assist_df_2018['Team']=player_assist_df_2018['Team'].replace('Manchester City ','Manchester City')\n",
    "player_assist_df_2018['Team']=player_assist_df_2018['Team'].replace('Leicester City ','Leicester City')\n",
    "player_assist_df_2018['Team']=player_assist_df_2018['Team'].replace('Tottenham Hotspur ','Tottenham Hotspur')\n",
    "player_assist_df_2018['Team']=player_assist_df_2018['Team'].replace('Wolverhampton Wanderers ','Wolverhampton Wanderers')\n",
    "player_assist_df_2018['Team']=player_assist_df_2018['Team'].replace('Brighton & Hove Albion ','Brighton and Hove Albion')\n",
    "player_assist_df_2018['Team']=player_assist_df_2018['Team'].replace('Manchester United ','Manchester United')\n",
    "player_assist_df_2018['Team']=player_assist_df_2018['Team'].replace('Everton FC ','Everton')\n",
    "player_assist_df_2018['Team']=player_assist_df_2018['Team'].replace('Newcastle United ','Newcastle United')\n",
    "player_assist_df_2018['Team']=player_assist_df_2018['Team'].replace('Crystal Palace ','Crystal Palace')\n",
    "player_assist_df_2018['Team']=player_assist_df_2018['Team'].replace('West Ham United ','West Ham United')\n",
    "player_assist_df_2018['Team']=player_assist_df_2018['Team'].replace('Southampton FC ','Southampton')"
   ]
  },
  {
   "cell_type": "code",
   "execution_count": 352,
   "metadata": {},
   "outputs": [
    {
     "data": {
      "text/html": [
       "<div>\n",
       "<style scoped>\n",
       "    .dataframe tbody tr th:only-of-type {\n",
       "        vertical-align: middle;\n",
       "    }\n",
       "\n",
       "    .dataframe tbody tr th {\n",
       "        vertical-align: top;\n",
       "    }\n",
       "\n",
       "    .dataframe thead th {\n",
       "        text-align: right;\n",
       "    }\n",
       "</style>\n",
       "<table border=\"1\" class=\"dataframe\">\n",
       "  <thead>\n",
       "    <tr style=\"text-align: right;\">\n",
       "      <th></th>\n",
       "      <th>Unnamed: 0</th>\n",
       "      <th>Player</th>\n",
       "      <th>Country</th>\n",
       "      <th>Team</th>\n",
       "      <th>Assists</th>\n",
       "    </tr>\n",
       "  </thead>\n",
       "  <tbody>\n",
       "    <tr>\n",
       "      <th>0</th>\n",
       "      <td>0</td>\n",
       "      <td>Kevin De Bruyne</td>\n",
       "      <td>Belgium</td>\n",
       "      <td>Manchester City</td>\n",
       "      <td>20</td>\n",
       "    </tr>\n",
       "    <tr>\n",
       "      <th>1</th>\n",
       "      <td>1</td>\n",
       "      <td>Trent Alexander-Arnold</td>\n",
       "      <td>England</td>\n",
       "      <td>Liverpool FC</td>\n",
       "      <td>13</td>\n",
       "    </tr>\n",
       "    <tr>\n",
       "      <th>2</th>\n",
       "      <td>2</td>\n",
       "      <td>Andy Robertson</td>\n",
       "      <td>Scotland</td>\n",
       "      <td>Liverpool FC</td>\n",
       "      <td>12</td>\n",
       "    </tr>\n",
       "    <tr>\n",
       "      <th>3</th>\n",
       "      <td>3</td>\n",
       "      <td>David Silva</td>\n",
       "      <td>Spain</td>\n",
       "      <td>Manchester City</td>\n",
       "      <td>10</td>\n",
       "    </tr>\n",
       "    <tr>\n",
       "      <th>4</th>\n",
       "      <td>4</td>\n",
       "      <td>Mo Salah</td>\n",
       "      <td>Egypt</td>\n",
       "      <td>Liverpool FC</td>\n",
       "      <td>10</td>\n",
       "    </tr>\n",
       "  </tbody>\n",
       "</table>\n",
       "</div>"
      ],
      "text/plain": [
       "   Unnamed: 0                  Player   Country              Team  Assists\n",
       "0           0         Kevin De Bruyne   Belgium  Manchester City        20\n",
       "1           1  Trent Alexander-Arnold   England     Liverpool FC        13\n",
       "2           2          Andy Robertson  Scotland     Liverpool FC        12\n",
       "3           3             David Silva     Spain  Manchester City        10\n",
       "4           4                Mo Salah     Egypt     Liverpool FC        10"
      ]
     },
     "execution_count": 352,
     "metadata": {},
     "output_type": "execute_result"
    }
   ],
   "source": [
    "player_assist_df_2019=pd.read_csv(r'Player_Assist_2019-20.csv')\n",
    "player_assist_df_2019.head()"
   ]
  },
  {
   "cell_type": "code",
   "execution_count": 353,
   "metadata": {},
   "outputs": [],
   "source": [
    "player_assist_df_2019['Team']=player_assist_df_2019['Team'].replace('Arsenal FC ','Arsenal')\n",
    "player_assist_df_2019['Team']=player_assist_df_2019['Team'].replace('Liverpool FC ','Liverpool')\n",
    "player_assist_df_2019['Team']=player_assist_df_2019['Team'].replace('Manchester City ','Manchester City')\n",
    "player_assist_df_2019['Team']=player_assist_df_2019['Team'].replace('Leicester City ','Leicester City')\n",
    "player_assist_df_2019['Team']=player_assist_df_2019['Team'].replace('Tottenham Hotspur ','Tottenham Hotspur')\n",
    "player_assist_df_2019['Team']=player_assist_df_2019['Team'].replace('Wolverhampton Wanderers ','Wolverhampton Wanderers')\n",
    "player_assist_df_2019['Team']=player_assist_df_2019['Team'].replace('Brighton & Hove Albion ','Brighton and Hove Albion')\n",
    "player_assist_df_2019['Team']=player_assist_df_2019['Team'].replace('Manchester United ','Manchester United')\n",
    "player_assist_df_2019['Team']=player_assist_df_2019['Team'].replace('Everton FC ','Everton')\n",
    "player_assist_df_2019['Team']=player_assist_df_2019['Team'].replace('Newcastle United ','Newcastle United')\n",
    "player_assist_df_2019['Team']=player_assist_df_2019['Team'].replace('Crystal Palace ','Crystal Palace')\n",
    "player_assist_df_2019['Team']=player_assist_df_2019['Team'].replace('West Ham United ','West Ham United')\n",
    "player_assist_df_2019['Team']=player_assist_df_2019['Team'].replace('Southampton FC ','Southampton')"
   ]
  },
  {
   "cell_type": "code",
   "execution_count": 354,
   "metadata": {},
   "outputs": [
    {
     "data": {
      "text/html": [
       "<div>\n",
       "<style scoped>\n",
       "    .dataframe tbody tr th:only-of-type {\n",
       "        vertical-align: middle;\n",
       "    }\n",
       "\n",
       "    .dataframe tbody tr th {\n",
       "        vertical-align: top;\n",
       "    }\n",
       "\n",
       "    .dataframe thead th {\n",
       "        text-align: right;\n",
       "    }\n",
       "</style>\n",
       "<table border=\"1\" class=\"dataframe\">\n",
       "  <thead>\n",
       "    <tr style=\"text-align: right;\">\n",
       "      <th></th>\n",
       "      <th>Unnamed: 0</th>\n",
       "      <th>Player</th>\n",
       "      <th>Country</th>\n",
       "      <th>Team</th>\n",
       "      <th>Assists</th>\n",
       "    </tr>\n",
       "  </thead>\n",
       "  <tbody>\n",
       "    <tr>\n",
       "      <th>0</th>\n",
       "      <td>0</td>\n",
       "      <td>Harry Kane</td>\n",
       "      <td>England</td>\n",
       "      <td>Tottenham Hotspur</td>\n",
       "      <td>14</td>\n",
       "    </tr>\n",
       "    <tr>\n",
       "      <th>1</th>\n",
       "      <td>1</td>\n",
       "      <td>Bruno Fernandes</td>\n",
       "      <td>Portugal</td>\n",
       "      <td>Manchester United</td>\n",
       "      <td>12</td>\n",
       "    </tr>\n",
       "    <tr>\n",
       "      <th>2</th>\n",
       "      <td>2</td>\n",
       "      <td>Kevin De Bruyne</td>\n",
       "      <td>Belgium</td>\n",
       "      <td>Manchester City</td>\n",
       "      <td>12</td>\n",
       "    </tr>\n",
       "    <tr>\n",
       "      <th>3</th>\n",
       "      <td>3</td>\n",
       "      <td>Jack Grealish</td>\n",
       "      <td>England</td>\n",
       "      <td>Aston Villa</td>\n",
       "      <td>10</td>\n",
       "    </tr>\n",
       "    <tr>\n",
       "      <th>4</th>\n",
       "      <td>4</td>\n",
       "      <td>Heung-min Son</td>\n",
       "      <td>South Korea</td>\n",
       "      <td>Tottenham Hotspur</td>\n",
       "      <td>10</td>\n",
       "    </tr>\n",
       "  </tbody>\n",
       "</table>\n",
       "</div>"
      ],
      "text/plain": [
       "   Unnamed: 0            Player      Country                Team  Assists\n",
       "0           0        Harry Kane      England  Tottenham Hotspur        14\n",
       "1           1   Bruno Fernandes     Portugal  Manchester United        12\n",
       "2           2   Kevin De Bruyne      Belgium    Manchester City        12\n",
       "3           3     Jack Grealish      England        Aston Villa        10\n",
       "4           4     Heung-min Son  South Korea  Tottenham Hotspur        10"
      ]
     },
     "execution_count": 354,
     "metadata": {},
     "output_type": "execute_result"
    }
   ],
   "source": [
    "player_assist_df_2020=pd.read_csv(r'Player_Assist_2020-21.csv')\n",
    "player_assist_df_2020.head()"
   ]
  },
  {
   "cell_type": "code",
   "execution_count": 355,
   "metadata": {},
   "outputs": [],
   "source": [
    "player_assist_df_2020['Team']=player_assist_df_2020['Team'].replace('Arsenal FC ','Arsenal')\n",
    "player_assist_df_2020['Team']=player_assist_df_2020['Team'].replace('Liverpool FC ','Liverpool')\n",
    "player_assist_df_2020['Team']=player_assist_df_2020['Team'].replace('Manchester City ','Manchester City')\n",
    "player_assist_df_2020['Team']=player_assist_df_2020['Team'].replace('Leicester City ','Leicester City')\n",
    "player_assist_df_2020['Team']=player_assist_df_2020['Team'].replace('Tottenham Hotspur ','Tottenham Hotspur')\n",
    "player_assist_df_2020['Team']=player_assist_df_2020['Team'].replace('Wolverhampton Wanderers ','Wolverhampton Wanderers')\n",
    "player_assist_df_2020['Team']=player_assist_df_2020['Team'].replace('Brighton & Hove Albion ','Brighton and Hove Albion')\n",
    "player_assist_df_2020['Team']=player_assist_df_2020['Team'].replace('Manchester United ','Manchester United')\n",
    "player_assist_df_2020['Team']=player_assist_df_2020['Team'].replace('Everton FC ','Everton')\n",
    "player_assist_df_2020['Team']=player_assist_df_2020['Team'].replace('Newcastle United ','Newcastle United')\n",
    "player_assist_df_2020['Team']=player_assist_df_2020['Team'].replace('Crystal Palace ','Crystal Palace')\n",
    "player_assist_df_2020['Team']=player_assist_df_2020['Team'].replace('West Ham United ','West Ham United')\n",
    "player_assist_df_2020['Team']=player_assist_df_2020['Team'].replace('Southampton FC ','Southampton')"
   ]
  },
  {
   "cell_type": "code",
   "execution_count": 356,
   "metadata": {},
   "outputs": [
    {
     "data": {
      "text/html": [
       "<div>\n",
       "<style scoped>\n",
       "    .dataframe tbody tr th:only-of-type {\n",
       "        vertical-align: middle;\n",
       "    }\n",
       "\n",
       "    .dataframe tbody tr th {\n",
       "        vertical-align: top;\n",
       "    }\n",
       "\n",
       "    .dataframe thead th {\n",
       "        text-align: right;\n",
       "    }\n",
       "</style>\n",
       "<table border=\"1\" class=\"dataframe\">\n",
       "  <thead>\n",
       "    <tr style=\"text-align: right;\">\n",
       "      <th></th>\n",
       "      <th>Unnamed: 0</th>\n",
       "      <th>Player</th>\n",
       "      <th>Country</th>\n",
       "      <th>Team</th>\n",
       "      <th>Assists</th>\n",
       "    </tr>\n",
       "  </thead>\n",
       "  <tbody>\n",
       "    <tr>\n",
       "      <th>0</th>\n",
       "      <td>0</td>\n",
       "      <td>Mo Salah</td>\n",
       "      <td>Egypt</td>\n",
       "      <td>Liverpool FC</td>\n",
       "      <td>13</td>\n",
       "    </tr>\n",
       "    <tr>\n",
       "      <th>1</th>\n",
       "      <td>1</td>\n",
       "      <td>Trent Alexander-Arnold</td>\n",
       "      <td>England</td>\n",
       "      <td>Liverpool FC</td>\n",
       "      <td>12</td>\n",
       "    </tr>\n",
       "    <tr>\n",
       "      <th>2</th>\n",
       "      <td>2</td>\n",
       "      <td>Harvey Barnes</td>\n",
       "      <td>England</td>\n",
       "      <td>Leicester City</td>\n",
       "      <td>10</td>\n",
       "    </tr>\n",
       "    <tr>\n",
       "      <th>3</th>\n",
       "      <td>3</td>\n",
       "      <td>Jarrod Bowen</td>\n",
       "      <td>England</td>\n",
       "      <td>West Ham United</td>\n",
       "      <td>10</td>\n",
       "    </tr>\n",
       "    <tr>\n",
       "      <th>4</th>\n",
       "      <td>4</td>\n",
       "      <td>Mason Mount</td>\n",
       "      <td>England</td>\n",
       "      <td>Chelsea FC</td>\n",
       "      <td>10</td>\n",
       "    </tr>\n",
       "  </tbody>\n",
       "</table>\n",
       "</div>"
      ],
      "text/plain": [
       "   Unnamed: 0                  Player  Country              Team  Assists\n",
       "0           0                Mo Salah    Egypt     Liverpool FC        13\n",
       "1           1  Trent Alexander-Arnold  England     Liverpool FC        12\n",
       "2           2           Harvey Barnes  England   Leicester City        10\n",
       "3           3            Jarrod Bowen  England  West Ham United        10\n",
       "4           4             Mason Mount  England       Chelsea FC        10"
      ]
     },
     "execution_count": 356,
     "metadata": {},
     "output_type": "execute_result"
    }
   ],
   "source": [
    "player_assist_df_2021=pd.read_csv(r'Player_Assist_2021-22.csv')\n",
    "player_assist_df_2021.head()"
   ]
  },
  {
   "cell_type": "code",
   "execution_count": 357,
   "metadata": {},
   "outputs": [],
   "source": [
    "player_assist_df_2021['Team']=player_assist_df_2021['Team'].replace('Arsenal FC ','Arsenal')\n",
    "player_assist_df_2021['Team']=player_assist_df_2021['Team'].replace('Liverpool FC ','Liverpool')\n",
    "player_assist_df_2021['Team']=player_assist_df_2021['Team'].replace('Manchester City ','Manchester City')\n",
    "player_assist_df_2021['Team']=player_assist_df_2021['Team'].replace('Leicester City ','Leicester City')\n",
    "player_assist_df_2021['Team']=player_assist_df_2021['Team'].replace('Tottenham Hotspur ','Tottenham Hotspur')\n",
    "player_assist_df_2021['Team']=player_assist_df_2021['Team'].replace('Wolverhampton Wanderers ','Wolverhampton Wanderers')\n",
    "player_assist_df_2021['Team']=player_assist_df_2021['Team'].replace('Brighton & Hove Albion ','Brighton and Hove Albion')\n",
    "player_assist_df_2021['Team']=player_assist_df_2021['Team'].replace('Manchester United ','Manchester United')\n",
    "player_assist_df_2021['Team']=player_assist_df_2021['Team'].replace('Everton FC ','Everton')\n",
    "player_assist_df_2021['Team']=player_assist_df_2021['Team'].replace('Newcastle United ','Newcastle United')\n",
    "player_assist_df_2021['Team']=player_assist_df_2021['Team'].replace('Crystal Palace ','Crystal Palace')\n",
    "player_assist_df_2021['Team']=player_assist_df_2021['Team'].replace('West Ham United ','West Ham United')\n",
    "player_assist_df_2021['Team']=player_assist_df_2021['Team'].replace('Southampton FC ','Southampton')"
   ]
  },
  {
   "cell_type": "code",
   "execution_count": 358,
   "metadata": {},
   "outputs": [
    {
     "data": {
      "text/html": [
       "<div>\n",
       "<style scoped>\n",
       "    .dataframe tbody tr th:only-of-type {\n",
       "        vertical-align: middle;\n",
       "    }\n",
       "\n",
       "    .dataframe tbody tr th {\n",
       "        vertical-align: top;\n",
       "    }\n",
       "\n",
       "    .dataframe thead th {\n",
       "        text-align: right;\n",
       "    }\n",
       "</style>\n",
       "<table border=\"1\" class=\"dataframe\">\n",
       "  <thead>\n",
       "    <tr style=\"text-align: right;\">\n",
       "      <th></th>\n",
       "      <th>Unnamed: 0</th>\n",
       "      <th>Player</th>\n",
       "      <th>Country</th>\n",
       "      <th>Team</th>\n",
       "      <th>Assists</th>\n",
       "    </tr>\n",
       "  </thead>\n",
       "  <tbody>\n",
       "    <tr>\n",
       "      <th>0</th>\n",
       "      <td>0</td>\n",
       "      <td>Kevin De Bruyne</td>\n",
       "      <td>Belgium</td>\n",
       "      <td>Manchester City</td>\n",
       "      <td>16</td>\n",
       "    </tr>\n",
       "    <tr>\n",
       "      <th>1</th>\n",
       "      <td>1</td>\n",
       "      <td>Mo Salah</td>\n",
       "      <td>Egypt</td>\n",
       "      <td>Liverpool FC</td>\n",
       "      <td>12</td>\n",
       "    </tr>\n",
       "    <tr>\n",
       "      <th>2</th>\n",
       "      <td>2</td>\n",
       "      <td>Leandro Trossard</td>\n",
       "      <td>Belgium</td>\n",
       "      <td>Arsenal FC Brighton &amp; Hove Albion</td>\n",
       "      <td>12</td>\n",
       "    </tr>\n",
       "    <tr>\n",
       "      <th>3</th>\n",
       "      <td>3</td>\n",
       "      <td>Michael Olise</td>\n",
       "      <td>France</td>\n",
       "      <td>Crystal Palace</td>\n",
       "      <td>11</td>\n",
       "    </tr>\n",
       "    <tr>\n",
       "      <th>4</th>\n",
       "      <td>4</td>\n",
       "      <td>Bukayo Saka</td>\n",
       "      <td>England</td>\n",
       "      <td>Arsenal FC</td>\n",
       "      <td>11</td>\n",
       "    </tr>\n",
       "  </tbody>\n",
       "</table>\n",
       "</div>"
      ],
      "text/plain": [
       "   Unnamed: 0            Player  Country                                Team   \n",
       "0           0   Kevin De Bruyne  Belgium                    Manchester City   \\\n",
       "1           1          Mo Salah    Egypt                       Liverpool FC    \n",
       "2           2  Leandro Trossard  Belgium  Arsenal FC Brighton & Hove Albion    \n",
       "3           3     Michael Olise   France                     Crystal Palace    \n",
       "4           4       Bukayo Saka  England                         Arsenal FC    \n",
       "\n",
       "   Assists  \n",
       "0       16  \n",
       "1       12  \n",
       "2       12  \n",
       "3       11  \n",
       "4       11  "
      ]
     },
     "execution_count": 358,
     "metadata": {},
     "output_type": "execute_result"
    }
   ],
   "source": [
    "player_assist_df_2022=pd.read_csv(r'Player_Assist_2022-23.csv')\n",
    "player_assist_df_2022.head()"
   ]
  },
  {
   "cell_type": "code",
   "execution_count": 359,
   "metadata": {},
   "outputs": [],
   "source": [
    "player_assist_df_2022['Team']=player_assist_df_2022['Team'].replace('Arsenal FC ','Arsenal')\n",
    "player_assist_df_2022['Team']=player_assist_df_2022['Team'].replace('Liverpool FC ','Liverpool')\n",
    "player_assist_df_2022['Team']=player_assist_df_2022['Team'].replace('Manchester City ','Manchester City')\n",
    "player_assist_df_2022['Team']=player_assist_df_2022['Team'].replace('Leicester City ','Leicester City')\n",
    "player_assist_df_2022['Team']=player_assist_df_2022['Team'].replace('Tottenham Hotspur ','Tottenham Hotspur')\n",
    "player_assist_df_2022['Team']=player_assist_df_2022['Team'].replace('Wolverhampton Wanderers ','Wolverhampton Wanderers')\n",
    "player_assist_df_2022['Team']=player_assist_df_2022['Team'].replace('Brighton & Hove Albion ','Brighton and Hove Albion')\n",
    "player_assist_df_2022['Team']=player_assist_df_2022['Team'].replace('Manchester United ','Manchester United')\n",
    "player_assist_df_2022['Team']=player_assist_df_2022['Team'].replace('Everton FC ','Everton')\n",
    "player_assist_df_2022['Team']=player_assist_df_2022['Team'].replace('Newcastle United ','Newcastle United')\n",
    "player_assist_df_2022['Team']=player_assist_df_2022['Team'].replace('Crystal Palace ','Crystal Palace')\n",
    "player_assist_df_2022['Team']=player_assist_df_2022['Team'].replace('West Ham United ','West Ham United')\n",
    "player_assist_df_2022['Team']=player_assist_df_2022['Team'].replace('Southampton FC ','Southampton')"
   ]
  },
  {
   "cell_type": "code",
   "execution_count": 360,
   "metadata": {},
   "outputs": [],
   "source": [
    "player_assist_df_2022.drop(columns=['Unnamed: 0'],inplace=True)\n",
    "player_assist_df_2021.drop(columns=['Unnamed: 0'],inplace=True)\n",
    "player_assist_df_2020.drop(columns=['Unnamed: 0'],inplace=True)\n",
    "player_assist_df_2019.drop(columns=['Unnamed: 0'],inplace=True)\n",
    "player_assist_df_2018.drop(columns=['Unnamed: 0'],inplace=True)"
   ]
  },
  {
   "cell_type": "code",
   "execution_count": 362,
   "metadata": {},
   "outputs": [
    {
     "data": {
      "text/html": [
       "<div>\n",
       "<style scoped>\n",
       "    .dataframe tbody tr th:only-of-type {\n",
       "        vertical-align: middle;\n",
       "    }\n",
       "\n",
       "    .dataframe tbody tr th {\n",
       "        vertical-align: top;\n",
       "    }\n",
       "\n",
       "    .dataframe thead th {\n",
       "        text-align: right;\n",
       "    }\n",
       "</style>\n",
       "<table border=\"1\" class=\"dataframe\">\n",
       "  <thead>\n",
       "    <tr style=\"text-align: right;\">\n",
       "      <th></th>\n",
       "      <th>Player</th>\n",
       "      <th>Country</th>\n",
       "      <th>Team</th>\n",
       "      <th>Assists</th>\n",
       "    </tr>\n",
       "  </thead>\n",
       "  <tbody>\n",
       "    <tr>\n",
       "      <th>5</th>\n",
       "      <td>Leroy Sané</td>\n",
       "      <td>Germany</td>\n",
       "      <td>Manchester City</td>\n",
       "      <td>10</td>\n",
       "    </tr>\n",
       "    <tr>\n",
       "      <th>7</th>\n",
       "      <td>Raheem Sterling</td>\n",
       "      <td>England</td>\n",
       "      <td>Manchester City</td>\n",
       "      <td>9</td>\n",
       "    </tr>\n",
       "    <tr>\n",
       "      <th>9</th>\n",
       "      <td>Sergio Agüero</td>\n",
       "      <td>Argentina</td>\n",
       "      <td>Manchester City</td>\n",
       "      <td>8</td>\n",
       "    </tr>\n",
       "  </tbody>\n",
       "</table>\n",
       "</div>"
      ],
      "text/plain": [
       "            Player    Country             Team  Assists\n",
       "5       Leroy Sané    Germany  Manchester City       10\n",
       "7  Raheem Sterling    England  Manchester City        9\n",
       "9    Sergio Agüero  Argentina  Manchester City        8"
      ]
     },
     "execution_count": 362,
     "metadata": {},
     "output_type": "execute_result"
    }
   ],
   "source": [
    "player_assist_df_2018[player_assist_df_2018['Team']=='Manchester City'][0:3]"
   ]
  },
  {
   "cell_type": "code",
   "execution_count": 363,
   "metadata": {},
   "outputs": [
    {
     "data": {
      "text/html": [
       "<div>\n",
       "<style scoped>\n",
       "    .dataframe tbody tr th:only-of-type {\n",
       "        vertical-align: middle;\n",
       "    }\n",
       "\n",
       "    .dataframe tbody tr th {\n",
       "        vertical-align: top;\n",
       "    }\n",
       "\n",
       "    .dataframe thead th {\n",
       "        text-align: right;\n",
       "    }\n",
       "</style>\n",
       "<table border=\"1\" class=\"dataframe\">\n",
       "  <thead>\n",
       "    <tr style=\"text-align: right;\">\n",
       "      <th></th>\n",
       "      <th>Player</th>\n",
       "      <th>Country</th>\n",
       "      <th>Team</th>\n",
       "      <th>Assists</th>\n",
       "    </tr>\n",
       "  </thead>\n",
       "  <tbody>\n",
       "    <tr>\n",
       "      <th>0</th>\n",
       "      <td>Kevin De Bruyne</td>\n",
       "      <td>Belgium</td>\n",
       "      <td>Manchester City</td>\n",
       "      <td>20</td>\n",
       "    </tr>\n",
       "    <tr>\n",
       "      <th>3</th>\n",
       "      <td>David Silva</td>\n",
       "      <td>Spain</td>\n",
       "      <td>Manchester City</td>\n",
       "      <td>10</td>\n",
       "    </tr>\n",
       "    <tr>\n",
       "      <th>7</th>\n",
       "      <td>Riyad Mahrez</td>\n",
       "      <td>Algeria</td>\n",
       "      <td>Manchester City</td>\n",
       "      <td>9</td>\n",
       "    </tr>\n",
       "  </tbody>\n",
       "</table>\n",
       "</div>"
      ],
      "text/plain": [
       "            Player  Country             Team  Assists\n",
       "0  Kevin De Bruyne  Belgium  Manchester City       20\n",
       "3      David Silva    Spain  Manchester City       10\n",
       "7     Riyad Mahrez  Algeria  Manchester City        9"
      ]
     },
     "execution_count": 363,
     "metadata": {},
     "output_type": "execute_result"
    }
   ],
   "source": [
    "player_assist_df_2019[player_assist_df_2019['Team']=='Manchester City'][0:3]"
   ]
  },
  {
   "cell_type": "code",
   "execution_count": 364,
   "metadata": {},
   "outputs": [
    {
     "data": {
      "text/html": [
       "<div>\n",
       "<style scoped>\n",
       "    .dataframe tbody tr th:only-of-type {\n",
       "        vertical-align: middle;\n",
       "    }\n",
       "\n",
       "    .dataframe tbody tr th {\n",
       "        vertical-align: top;\n",
       "    }\n",
       "\n",
       "    .dataframe thead th {\n",
       "        text-align: right;\n",
       "    }\n",
       "</style>\n",
       "<table border=\"1\" class=\"dataframe\">\n",
       "  <thead>\n",
       "    <tr style=\"text-align: right;\">\n",
       "      <th></th>\n",
       "      <th>Player</th>\n",
       "      <th>Country</th>\n",
       "      <th>Team</th>\n",
       "      <th>Assists</th>\n",
       "    </tr>\n",
       "  </thead>\n",
       "  <tbody>\n",
       "    <tr>\n",
       "      <th>2</th>\n",
       "      <td>Kevin De Bruyne</td>\n",
       "      <td>Belgium</td>\n",
       "      <td>Manchester City</td>\n",
       "      <td>12</td>\n",
       "    </tr>\n",
       "    <tr>\n",
       "      <th>19</th>\n",
       "      <td>Raheem Sterling</td>\n",
       "      <td>England</td>\n",
       "      <td>Manchester City</td>\n",
       "      <td>7</td>\n",
       "    </tr>\n",
       "    <tr>\n",
       "      <th>22</th>\n",
       "      <td>Bernardo Silva</td>\n",
       "      <td>Portugal</td>\n",
       "      <td>Manchester City</td>\n",
       "      <td>6</td>\n",
       "    </tr>\n",
       "  </tbody>\n",
       "</table>\n",
       "</div>"
      ],
      "text/plain": [
       "             Player   Country             Team  Assists\n",
       "2   Kevin De Bruyne   Belgium  Manchester City       12\n",
       "19  Raheem Sterling   England  Manchester City        7\n",
       "22   Bernardo Silva  Portugal  Manchester City        6"
      ]
     },
     "execution_count": 364,
     "metadata": {},
     "output_type": "execute_result"
    }
   ],
   "source": [
    "player_assist_df_2020[player_assist_df_2020['Team']=='Manchester City'][0:3]"
   ]
  },
  {
   "cell_type": "code",
   "execution_count": 365,
   "metadata": {},
   "outputs": [
    {
     "data": {
      "text/html": [
       "<div>\n",
       "<style scoped>\n",
       "    .dataframe tbody tr th:only-of-type {\n",
       "        vertical-align: middle;\n",
       "    }\n",
       "\n",
       "    .dataframe tbody tr th {\n",
       "        vertical-align: top;\n",
       "    }\n",
       "\n",
       "    .dataframe thead th {\n",
       "        text-align: right;\n",
       "    }\n",
       "</style>\n",
       "<table border=\"1\" class=\"dataframe\">\n",
       "  <thead>\n",
       "    <tr style=\"text-align: right;\">\n",
       "      <th></th>\n",
       "      <th>Player</th>\n",
       "      <th>Country</th>\n",
       "      <th>Team</th>\n",
       "      <th>Assists</th>\n",
       "    </tr>\n",
       "  </thead>\n",
       "  <tbody>\n",
       "    <tr>\n",
       "      <th>10</th>\n",
       "      <td>Kevin De Bruyne</td>\n",
       "      <td>Belgium</td>\n",
       "      <td>Manchester City</td>\n",
       "      <td>8</td>\n",
       "    </tr>\n",
       "    <tr>\n",
       "      <th>11</th>\n",
       "      <td>Gabriel Jesus</td>\n",
       "      <td>Brazil</td>\n",
       "      <td>Manchester City</td>\n",
       "      <td>8</td>\n",
       "    </tr>\n",
       "    <tr>\n",
       "      <th>14</th>\n",
       "      <td>João Cancelo</td>\n",
       "      <td>Portugal</td>\n",
       "      <td>Manchester City</td>\n",
       "      <td>7</td>\n",
       "    </tr>\n",
       "  </tbody>\n",
       "</table>\n",
       "</div>"
      ],
      "text/plain": [
       "             Player   Country             Team  Assists\n",
       "10  Kevin De Bruyne   Belgium  Manchester City        8\n",
       "11    Gabriel Jesus    Brazil  Manchester City        8\n",
       "14     João Cancelo  Portugal  Manchester City        7"
      ]
     },
     "execution_count": 365,
     "metadata": {},
     "output_type": "execute_result"
    }
   ],
   "source": [
    "player_assist_df_2021[player_assist_df_2021['Team']=='Manchester City'][0:3]"
   ]
  },
  {
   "cell_type": "code",
   "execution_count": 366,
   "metadata": {},
   "outputs": [
    {
     "data": {
      "text/html": [
       "<div>\n",
       "<style scoped>\n",
       "    .dataframe tbody tr th:only-of-type {\n",
       "        vertical-align: middle;\n",
       "    }\n",
       "\n",
       "    .dataframe tbody tr th {\n",
       "        vertical-align: top;\n",
       "    }\n",
       "\n",
       "    .dataframe thead th {\n",
       "        text-align: right;\n",
       "    }\n",
       "</style>\n",
       "<table border=\"1\" class=\"dataframe\">\n",
       "  <thead>\n",
       "    <tr style=\"text-align: right;\">\n",
       "      <th></th>\n",
       "      <th>Player</th>\n",
       "      <th>Country</th>\n",
       "      <th>Team</th>\n",
       "      <th>Assists</th>\n",
       "    </tr>\n",
       "  </thead>\n",
       "  <tbody>\n",
       "    <tr>\n",
       "      <th>0</th>\n",
       "      <td>Kevin De Bruyne</td>\n",
       "      <td>Belgium</td>\n",
       "      <td>Manchester City</td>\n",
       "      <td>16</td>\n",
       "    </tr>\n",
       "    <tr>\n",
       "      <th>5</th>\n",
       "      <td>Riyad Mahrez</td>\n",
       "      <td>Algeria</td>\n",
       "      <td>Manchester City</td>\n",
       "      <td>10</td>\n",
       "    </tr>\n",
       "    <tr>\n",
       "      <th>12</th>\n",
       "      <td>Erling Haaland</td>\n",
       "      <td>Norway</td>\n",
       "      <td>Manchester City</td>\n",
       "      <td>8</td>\n",
       "    </tr>\n",
       "  </tbody>\n",
       "</table>\n",
       "</div>"
      ],
      "text/plain": [
       "             Player  Country             Team  Assists\n",
       "0   Kevin De Bruyne  Belgium  Manchester City       16\n",
       "5      Riyad Mahrez  Algeria  Manchester City       10\n",
       "12   Erling Haaland   Norway  Manchester City        8"
      ]
     },
     "execution_count": 366,
     "metadata": {},
     "output_type": "execute_result"
    }
   ],
   "source": [
    "player_assist_df_2022[player_assist_df_2022['Team']=='Manchester City'][0:3]"
   ]
  },
  {
   "cell_type": "code",
   "execution_count": 432,
   "metadata": {},
   "outputs": [],
   "source": [
    "merged_assist_df = pd.merge(player_assist_df_2018, player_assist_df_2019, on='Player', how='outer', suffixes=('_df1', '_df2'))\n",
    "\n",
    "# Replace NaN with 0 in 'marks' columns\n",
    "merged_assist_df['Assists_df1'].fillna(0, inplace=True)\n",
    "merged_assist_df['Assists_df2'].fillna(0, inplace=True)\n",
    "\n",
    "# Create a new column representing the sum of marks from both dataframes\n",
    "merged_assist_df['total_Assist'] = merged_assist_df['Assists_df1'] + merged_assist_df['Assists_df2']\n"
   ]
  },
  {
   "cell_type": "code",
   "execution_count": 433,
   "metadata": {},
   "outputs": [],
   "source": [
    "merged_assist_df['Country_df2'].fillna(merged_assist_df['Country_df1'],inplace=True)\n",
    "merged_assist_df['Team_df2'].fillna(merged_assist_df['Team_df1'],inplace=True)"
   ]
  },
  {
   "cell_type": "code",
   "execution_count": 434,
   "metadata": {},
   "outputs": [],
   "source": [
    "merged_assist_df.drop(columns=['Country_df1','Team_df1','Assists_df1','Assists_df2'],axis=1,inplace=True)\n",
    "merged_assist_df.rename(columns={'Country_df2':'Country','Team_df2':'Team','total_Assist':'assist'},inplace=True)"
   ]
  },
  {
   "cell_type": "code",
   "execution_count": 435,
   "metadata": {},
   "outputs": [
    {
     "data": {
      "text/html": [
       "<div>\n",
       "<style scoped>\n",
       "    .dataframe tbody tr th:only-of-type {\n",
       "        vertical-align: middle;\n",
       "    }\n",
       "\n",
       "    .dataframe tbody tr th {\n",
       "        vertical-align: top;\n",
       "    }\n",
       "\n",
       "    .dataframe thead th {\n",
       "        text-align: right;\n",
       "    }\n",
       "</style>\n",
       "<table border=\"1\" class=\"dataframe\">\n",
       "  <thead>\n",
       "    <tr style=\"text-align: right;\">\n",
       "      <th></th>\n",
       "      <th>Player</th>\n",
       "      <th>Country</th>\n",
       "      <th>Team</th>\n",
       "      <th>assist</th>\n",
       "    </tr>\n",
       "  </thead>\n",
       "  <tbody>\n",
       "    <tr>\n",
       "      <th>0</th>\n",
       "      <td>Eden Hazard</td>\n",
       "      <td>Belgium</td>\n",
       "      <td>Chelsea FC</td>\n",
       "      <td>15.0</td>\n",
       "    </tr>\n",
       "    <tr>\n",
       "      <th>1</th>\n",
       "      <td>Ryan Fraser</td>\n",
       "      <td>Scotland</td>\n",
       "      <td>AFC Bournemouth</td>\n",
       "      <td>18.0</td>\n",
       "    </tr>\n",
       "    <tr>\n",
       "      <th>2</th>\n",
       "      <td>Trent Alexander-Arnold</td>\n",
       "      <td>England</td>\n",
       "      <td>Liverpool</td>\n",
       "      <td>25.0</td>\n",
       "    </tr>\n",
       "    <tr>\n",
       "      <th>3</th>\n",
       "      <td>Christian Eriksen</td>\n",
       "      <td>Denmark</td>\n",
       "      <td>Tottenham Hotspur</td>\n",
       "      <td>14.0</td>\n",
       "    </tr>\n",
       "    <tr>\n",
       "      <th>4</th>\n",
       "      <td>Andy Robertson</td>\n",
       "      <td>Scotland</td>\n",
       "      <td>Liverpool</td>\n",
       "      <td>23.0</td>\n",
       "    </tr>\n",
       "    <tr>\n",
       "      <th>...</th>\n",
       "      <td>...</td>\n",
       "      <td>...</td>\n",
       "      <td>...</td>\n",
       "      <td>...</td>\n",
       "    </tr>\n",
       "    <tr>\n",
       "      <th>381</th>\n",
       "      <td>Adam Webster</td>\n",
       "      <td>England</td>\n",
       "      <td>Brighton and Hove Albion</td>\n",
       "      <td>1.0</td>\n",
       "    </tr>\n",
       "    <tr>\n",
       "      <th>382</th>\n",
       "      <td>Wesley</td>\n",
       "      <td>Brazil</td>\n",
       "      <td>Aston Villa</td>\n",
       "      <td>1.0</td>\n",
       "    </tr>\n",
       "    <tr>\n",
       "      <th>383</th>\n",
       "      <td>Joe Willock</td>\n",
       "      <td>England</td>\n",
       "      <td>Arsenal</td>\n",
       "      <td>1.0</td>\n",
       "    </tr>\n",
       "    <tr>\n",
       "      <th>384</th>\n",
       "      <td>Andrey Yarmolenko</td>\n",
       "      <td>Ukraine</td>\n",
       "      <td>West Ham United</td>\n",
       "      <td>1.0</td>\n",
       "    </tr>\n",
       "    <tr>\n",
       "      <th>385</th>\n",
       "      <td>Christoph Zimmermann</td>\n",
       "      <td>Germany</td>\n",
       "      <td>Norwich City</td>\n",
       "      <td>1.0</td>\n",
       "    </tr>\n",
       "  </tbody>\n",
       "</table>\n",
       "<p>386 rows × 4 columns</p>\n",
       "</div>"
      ],
      "text/plain": [
       "                     Player   Country                      Team  assist\n",
       "0               Eden Hazard   Belgium               Chelsea FC     15.0\n",
       "1               Ryan Fraser  Scotland          AFC Bournemouth     18.0\n",
       "2    Trent Alexander-Arnold   England                 Liverpool    25.0\n",
       "3         Christian Eriksen   Denmark         Tottenham Hotspur    14.0\n",
       "4            Andy Robertson  Scotland                 Liverpool    23.0\n",
       "..                      ...       ...                       ...     ...\n",
       "381            Adam Webster   England  Brighton and Hove Albion     1.0\n",
       "382                  Wesley    Brazil              Aston Villa      1.0\n",
       "383             Joe Willock   England                   Arsenal     1.0\n",
       "384       Andrey Yarmolenko   Ukraine           West Ham United     1.0\n",
       "385    Christoph Zimmermann   Germany             Norwich City      1.0\n",
       "\n",
       "[386 rows x 4 columns]"
      ]
     },
     "execution_count": 435,
     "metadata": {},
     "output_type": "execute_result"
    }
   ],
   "source": [
    "merged_assist_df"
   ]
  },
  {
   "cell_type": "code",
   "execution_count": 436,
   "metadata": {},
   "outputs": [],
   "source": [
    "merged_assist_df = pd.merge(merged_assist_df, player_assist_df_2020, on='Player', how='outer', suffixes=('_df1', '_df2'))\n",
    "\n",
    "# Replace NaN with 0 in 'marks' columns\n",
    "merged_assist_df['assist'].fillna(0, inplace=True)\n",
    "merged_assist_df['Assists'].fillna(0, inplace=True)\n",
    "\n",
    "# Create a new column representing the sum of marks from both dataframes\n",
    "merged_assist_df['total_Assist'] = merged_assist_df['assist'] + merged_assist_df['Assists']\n",
    "\n",
    "merged_assist_df['Country_df2'].fillna(merged_assist_df['Country_df1'],inplace=True)\n",
    "merged_assist_df['Team_df2'].fillna(merged_assist_df['Team_df1'],inplace=True)\n",
    "\n",
    "merged_assist_df.drop(columns=['Country_df1','Team_df1','Assists','assist'],axis=1,inplace=True)\n",
    "merged_assist_df.rename(columns={'Country_df2':'Country','Team_df2':'Team','total_assist':'assist'},inplace=True)"
   ]
  },
  {
   "cell_type": "code",
   "execution_count": 437,
   "metadata": {},
   "outputs": [
    {
     "data": {
      "text/html": [
       "<div>\n",
       "<style scoped>\n",
       "    .dataframe tbody tr th:only-of-type {\n",
       "        vertical-align: middle;\n",
       "    }\n",
       "\n",
       "    .dataframe tbody tr th {\n",
       "        vertical-align: top;\n",
       "    }\n",
       "\n",
       "    .dataframe thead th {\n",
       "        text-align: right;\n",
       "    }\n",
       "</style>\n",
       "<table border=\"1\" class=\"dataframe\">\n",
       "  <thead>\n",
       "    <tr style=\"text-align: right;\">\n",
       "      <th></th>\n",
       "      <th>Player</th>\n",
       "      <th>Country</th>\n",
       "      <th>Team</th>\n",
       "      <th>total_Assist</th>\n",
       "    </tr>\n",
       "  </thead>\n",
       "  <tbody>\n",
       "    <tr>\n",
       "      <th>0</th>\n",
       "      <td>Eden Hazard</td>\n",
       "      <td>Belgium</td>\n",
       "      <td>Chelsea FC</td>\n",
       "      <td>15.0</td>\n",
       "    </tr>\n",
       "    <tr>\n",
       "      <th>1</th>\n",
       "      <td>Ryan Fraser</td>\n",
       "      <td>Scotland</td>\n",
       "      <td>Newcastle United</td>\n",
       "      <td>20.0</td>\n",
       "    </tr>\n",
       "    <tr>\n",
       "      <th>2</th>\n",
       "      <td>Trent Alexander-Arnold</td>\n",
       "      <td>England</td>\n",
       "      <td>Liverpool</td>\n",
       "      <td>32.0</td>\n",
       "    </tr>\n",
       "    <tr>\n",
       "      <th>3</th>\n",
       "      <td>Christian Eriksen</td>\n",
       "      <td>Denmark</td>\n",
       "      <td>Tottenham Hotspur</td>\n",
       "      <td>14.0</td>\n",
       "    </tr>\n",
       "    <tr>\n",
       "      <th>4</th>\n",
       "      <td>Andy Robertson</td>\n",
       "      <td>Scotland</td>\n",
       "      <td>Liverpool</td>\n",
       "      <td>30.0</td>\n",
       "    </tr>\n",
       "    <tr>\n",
       "      <th>...</th>\n",
       "      <td>...</td>\n",
       "      <td>...</td>\n",
       "      <td>...</td>\n",
       "      <td>...</td>\n",
       "    </tr>\n",
       "    <tr>\n",
       "      <th>463</th>\n",
       "      <td>Donny van de Beek</td>\n",
       "      <td>Netherlands</td>\n",
       "      <td>Manchester United</td>\n",
       "      <td>1.0</td>\n",
       "    </tr>\n",
       "    <tr>\n",
       "      <th>464</th>\n",
       "      <td>Joël Veltman</td>\n",
       "      <td>Netherlands</td>\n",
       "      <td>Brighton and Hove Albion</td>\n",
       "      <td>1.0</td>\n",
       "    </tr>\n",
       "    <tr>\n",
       "      <th>465</th>\n",
       "      <td>Vitinha</td>\n",
       "      <td>Portugal</td>\n",
       "      <td>Wolverhampton Wanderers</td>\n",
       "      <td>1.0</td>\n",
       "    </tr>\n",
       "    <tr>\n",
       "      <th>466</th>\n",
       "      <td>Joel Ward</td>\n",
       "      <td>England</td>\n",
       "      <td>Crystal Palace</td>\n",
       "      <td>1.0</td>\n",
       "    </tr>\n",
       "    <tr>\n",
       "      <th>467</th>\n",
       "      <td>Okay Yokuşlu</td>\n",
       "      <td>Turkey</td>\n",
       "      <td>West Bromwich Albion</td>\n",
       "      <td>1.0</td>\n",
       "    </tr>\n",
       "  </tbody>\n",
       "</table>\n",
       "<p>468 rows × 4 columns</p>\n",
       "</div>"
      ],
      "text/plain": [
       "                     Player      Country                      Team   \n",
       "0               Eden Hazard      Belgium               Chelsea FC   \\\n",
       "1               Ryan Fraser     Scotland          Newcastle United   \n",
       "2    Trent Alexander-Arnold      England                 Liverpool   \n",
       "3         Christian Eriksen      Denmark         Tottenham Hotspur   \n",
       "4            Andy Robertson     Scotland                 Liverpool   \n",
       "..                      ...          ...                       ...   \n",
       "463       Donny van de Beek  Netherlands         Manchester United   \n",
       "464            Joël Veltman  Netherlands  Brighton and Hove Albion   \n",
       "465                 Vitinha     Portugal   Wolverhampton Wanderers   \n",
       "466               Joel Ward      England            Crystal Palace   \n",
       "467            Okay Yokuşlu       Turkey     West Bromwich Albion    \n",
       "\n",
       "     total_Assist  \n",
       "0            15.0  \n",
       "1            20.0  \n",
       "2            32.0  \n",
       "3            14.0  \n",
       "4            30.0  \n",
       "..            ...  \n",
       "463           1.0  \n",
       "464           1.0  \n",
       "465           1.0  \n",
       "466           1.0  \n",
       "467           1.0  \n",
       "\n",
       "[468 rows x 4 columns]"
      ]
     },
     "execution_count": 437,
     "metadata": {},
     "output_type": "execute_result"
    }
   ],
   "source": [
    "merged_assist_df"
   ]
  },
  {
   "cell_type": "code",
   "execution_count": 438,
   "metadata": {},
   "outputs": [],
   "source": [
    "merged_assist_df = pd.merge(merged_assist_df, player_assist_df_2021, on='Player', how='outer', suffixes=('_df1', '_df2'))\n",
    "\n",
    "\n",
    "# Replace NaN with 0 in 'marks' columns\n",
    "merged_assist_df['total_Assist'].fillna(0, inplace=True)\n",
    "merged_assist_df['Assists'].fillna(0, inplace=True)\n",
    "\n",
    "# Create a new column representing the sum of marks from both dataframes\n",
    "merged_assist_df['total_assist'] = merged_assist_df['total_Assist'] + merged_assist_df['Assists']\n",
    "\n",
    "merged_assist_df['Country_df2'].fillna(merged_assist_df['Country_df1'],inplace=True)\n",
    "merged_assist_df['Team_df2'].fillna(merged_assist_df['Team_df1'],inplace=True)\n",
    "\n",
    "merged_assist_df.drop(columns=['Country_df1','Team_df1','Assists','total_Assist'],axis=1,inplace=True)\n",
    "merged_assist_df.rename(columns={'Country_df2':'Country','Team_df2':'Team','total_assist':'assist'},inplace=True)"
   ]
  },
  {
   "cell_type": "code",
   "execution_count": 439,
   "metadata": {},
   "outputs": [],
   "source": [
    "merged_assist_df = pd.merge(merged_assist_df, player_assist_df_2021, on='Player', how='outer', suffixes=('_df1', '_df2'))\n",
    "\n",
    "\n",
    "# Replace NaN with 0 in 'marks' columns\n",
    "merged_assist_df['assist'].fillna(0, inplace=True)\n",
    "merged_assist_df['Assists'].fillna(0, inplace=True)\n",
    "\n",
    "# Create a new column representing the sum of marks from both dataframes\n",
    "merged_assist_df['total_assist'] = merged_assist_df['assist'] + merged_assist_df['Assists']\n",
    "\n",
    "merged_assist_df['Country_df2'].fillna(merged_assist_df['Country_df1'],inplace=True)\n",
    "merged_assist_df['Team_df2'].fillna(merged_assist_df['Team_df1'],inplace=True)\n",
    "\n",
    "merged_assist_df.drop(columns=['Country_df1','Team_df1','Assists','assist'],axis=1,inplace=True)\n",
    "merged_assist_df.rename(columns={'Country_df2':'Country','Team_df2':'Team','total_assist':'assist'},inplace=True)\n"
   ]
  },
  {
   "cell_type": "code",
   "execution_count": 441,
   "metadata": {},
   "outputs": [],
   "source": [
    "merged_assist_df=merged_assist_df.sort_values(by='assist',ascending=False)"
   ]
  },
  {
   "cell_type": "code",
   "execution_count": 442,
   "metadata": {},
   "outputs": [
    {
     "data": {
      "text/html": [
       "<div>\n",
       "<style scoped>\n",
       "    .dataframe tbody tr th:only-of-type {\n",
       "        vertical-align: middle;\n",
       "    }\n",
       "\n",
       "    .dataframe tbody tr th {\n",
       "        vertical-align: top;\n",
       "    }\n",
       "\n",
       "    .dataframe thead th {\n",
       "        text-align: right;\n",
       "    }\n",
       "</style>\n",
       "<table border=\"1\" class=\"dataframe\">\n",
       "  <thead>\n",
       "    <tr style=\"text-align: right;\">\n",
       "      <th></th>\n",
       "      <th>Player</th>\n",
       "      <th>Country</th>\n",
       "      <th>Team</th>\n",
       "      <th>assist</th>\n",
       "    </tr>\n",
       "  </thead>\n",
       "  <tbody>\n",
       "    <tr>\n",
       "      <th>2</th>\n",
       "      <td>Trent Alexander-Arnold</td>\n",
       "      <td>England</td>\n",
       "      <td>Liverpool</td>\n",
       "      <td>56.0</td>\n",
       "    </tr>\n",
       "    <tr>\n",
       "      <th>4</th>\n",
       "      <td>Andy Robertson</td>\n",
       "      <td>Scotland</td>\n",
       "      <td>Liverpool</td>\n",
       "      <td>50.0</td>\n",
       "    </tr>\n",
       "    <tr>\n",
       "      <th>117</th>\n",
       "      <td>Kevin De Bruyne</td>\n",
       "      <td>Belgium</td>\n",
       "      <td>Manchester City</td>\n",
       "      <td>50.0</td>\n",
       "    </tr>\n",
       "    <tr>\n",
       "      <th>14</th>\n",
       "      <td>Mo Salah</td>\n",
       "      <td>Egypt</td>\n",
       "      <td>Liverpool</td>\n",
       "      <td>49.0</td>\n",
       "    </tr>\n",
       "    <tr>\n",
       "      <th>32</th>\n",
       "      <td>Heung-min Son</td>\n",
       "      <td>South Korea</td>\n",
       "      <td>Tottenham Hotspur</td>\n",
       "      <td>40.0</td>\n",
       "    </tr>\n",
       "    <tr>\n",
       "      <th>...</th>\n",
       "      <td>...</td>\n",
       "      <td>...</td>\n",
       "      <td>...</td>\n",
       "      <td>...</td>\n",
       "    </tr>\n",
       "    <tr>\n",
       "      <th>382</th>\n",
       "      <td>Wesley</td>\n",
       "      <td>Brazil</td>\n",
       "      <td>Aston Villa</td>\n",
       "      <td>1.0</td>\n",
       "    </tr>\n",
       "    <tr>\n",
       "      <th>383</th>\n",
       "      <td>Joe Willock</td>\n",
       "      <td>England</td>\n",
       "      <td>Arsenal</td>\n",
       "      <td>1.0</td>\n",
       "    </tr>\n",
       "    <tr>\n",
       "      <th>220</th>\n",
       "      <td>Isaac Mbenza</td>\n",
       "      <td>Belgium</td>\n",
       "      <td>Huddersfield Town</td>\n",
       "      <td>1.0</td>\n",
       "    </tr>\n",
       "    <tr>\n",
       "      <th>450</th>\n",
       "      <td>Nampalys Mendy</td>\n",
       "      <td>Senegal</td>\n",
       "      <td>Leicester City</td>\n",
       "      <td>1.0</td>\n",
       "    </tr>\n",
       "    <tr>\n",
       "      <th>198</th>\n",
       "      <td>Beram Kayal</td>\n",
       "      <td>Israel</td>\n",
       "      <td>Brighton and Hove Albion</td>\n",
       "      <td>1.0</td>\n",
       "    </tr>\n",
       "  </tbody>\n",
       "</table>\n",
       "<p>554 rows × 4 columns</p>\n",
       "</div>"
      ],
      "text/plain": [
       "                     Player      Country                      Team  assist\n",
       "2    Trent Alexander-Arnold      England                 Liverpool    56.0\n",
       "4            Andy Robertson     Scotland                 Liverpool    50.0\n",
       "117         Kevin De Bruyne      Belgium           Manchester City    50.0\n",
       "14                 Mo Salah        Egypt                 Liverpool    49.0\n",
       "32            Heung-min Son  South Korea         Tottenham Hotspur    40.0\n",
       "..                      ...          ...                       ...     ...\n",
       "382                  Wesley       Brazil              Aston Villa      1.0\n",
       "383             Joe Willock      England                   Arsenal     1.0\n",
       "220            Isaac Mbenza      Belgium        Huddersfield Town      1.0\n",
       "450          Nampalys Mendy      Senegal            Leicester City     1.0\n",
       "198             Beram Kayal       Israel  Brighton and Hove Albion     1.0\n",
       "\n",
       "[554 rows x 4 columns]"
      ]
     },
     "execution_count": 442,
     "metadata": {},
     "output_type": "execute_result"
    }
   ],
   "source": [
    "merged_assist_df"
   ]
  },
  {
   "cell_type": "code",
   "execution_count": 444,
   "metadata": {},
   "outputs": [
    {
     "data": {
      "text/html": [
       "<div>\n",
       "<style scoped>\n",
       "    .dataframe tbody tr th:only-of-type {\n",
       "        vertical-align: middle;\n",
       "    }\n",
       "\n",
       "    .dataframe tbody tr th {\n",
       "        vertical-align: top;\n",
       "    }\n",
       "\n",
       "    .dataframe thead th {\n",
       "        text-align: right;\n",
       "    }\n",
       "</style>\n",
       "<table border=\"1\" class=\"dataframe\">\n",
       "  <thead>\n",
       "    <tr style=\"text-align: right;\">\n",
       "      <th></th>\n",
       "      <th>Player</th>\n",
       "      <th>Country</th>\n",
       "      <th>Team</th>\n",
       "      <th>assist</th>\n",
       "    </tr>\n",
       "  </thead>\n",
       "  <tbody>\n",
       "    <tr>\n",
       "      <th>117</th>\n",
       "      <td>Kevin De Bruyne</td>\n",
       "      <td>Belgium</td>\n",
       "      <td>Manchester City</td>\n",
       "      <td>50.0</td>\n",
       "    </tr>\n",
       "    <tr>\n",
       "      <th>78</th>\n",
       "      <td>Gabriel Jesus</td>\n",
       "      <td>Brazil</td>\n",
       "      <td>Manchester City</td>\n",
       "      <td>30.0</td>\n",
       "    </tr>\n",
       "    <tr>\n",
       "      <th>61</th>\n",
       "      <td>Riyad Mahrez</td>\n",
       "      <td>Algeria</td>\n",
       "      <td>Manchester City</td>\n",
       "      <td>29.0</td>\n",
       "    </tr>\n",
       "  </tbody>\n",
       "</table>\n",
       "</div>"
      ],
      "text/plain": [
       "              Player  Country             Team  assist\n",
       "117  Kevin De Bruyne  Belgium  Manchester City    50.0\n",
       "78     Gabriel Jesus   Brazil  Manchester City    30.0\n",
       "61      Riyad Mahrez  Algeria  Manchester City    29.0"
      ]
     },
     "execution_count": 444,
     "metadata": {},
     "output_type": "execute_result"
    }
   ],
   "source": [
    "merged_assist_df[merged_assist_df['Team']=='Manchester City'][:3]"
   ]
  },
  {
   "cell_type": "code",
   "execution_count": 448,
   "metadata": {},
   "outputs": [
    {
     "data": {
      "text/html": [
       "<div>\n",
       "<style scoped>\n",
       "    .dataframe tbody tr th:only-of-type {\n",
       "        vertical-align: middle;\n",
       "    }\n",
       "\n",
       "    .dataframe tbody tr th {\n",
       "        vertical-align: top;\n",
       "    }\n",
       "\n",
       "    .dataframe thead th {\n",
       "        text-align: right;\n",
       "    }\n",
       "</style>\n",
       "<table border=\"1\" class=\"dataframe\">\n",
       "  <thead>\n",
       "    <tr style=\"text-align: right;\">\n",
       "      <th></th>\n",
       "      <th>RK</th>\n",
       "      <th>TEAM</th>\n",
       "      <th>P</th>\n",
       "      <th>YC</th>\n",
       "      <th>RC</th>\n",
       "      <th>PTS</th>\n",
       "    </tr>\n",
       "  </thead>\n",
       "  <tbody>\n",
       "    <tr>\n",
       "      <th>0</th>\n",
       "      <td>1.0</td>\n",
       "      <td>Watford</td>\n",
       "      <td>38</td>\n",
       "      <td>77</td>\n",
       "      <td>4</td>\n",
       "      <td>89</td>\n",
       "    </tr>\n",
       "    <tr>\n",
       "      <th>1</th>\n",
       "      <td>2.0</td>\n",
       "      <td>Manchester United</td>\n",
       "      <td>38</td>\n",
       "      <td>73</td>\n",
       "      <td>4</td>\n",
       "      <td>85</td>\n",
       "    </tr>\n",
       "    <tr>\n",
       "      <th>2</th>\n",
       "      <td>3.0</td>\n",
       "      <td>Southampton</td>\n",
       "      <td>38</td>\n",
       "      <td>71</td>\n",
       "      <td>3</td>\n",
       "      <td>80</td>\n",
       "    </tr>\n",
       "    <tr>\n",
       "      <th>3</th>\n",
       "      <td>4.0</td>\n",
       "      <td>Burnley</td>\n",
       "      <td>38</td>\n",
       "      <td>75</td>\n",
       "      <td>1</td>\n",
       "      <td>78</td>\n",
       "    </tr>\n",
       "    <tr>\n",
       "      <th>4</th>\n",
       "      <td>NaN</td>\n",
       "      <td>Arsenal</td>\n",
       "      <td>38</td>\n",
       "      <td>72</td>\n",
       "      <td>2</td>\n",
       "      <td>78</td>\n",
       "    </tr>\n",
       "  </tbody>\n",
       "</table>\n",
       "</div>"
      ],
      "text/plain": [
       "    RK               TEAM   P  YC  RC  PTS\n",
       "0  1.0            Watford  38  77   4   89\n",
       "1  2.0  Manchester United  38  73   4   85\n",
       "2  3.0        Southampton  38  71   3   80\n",
       "3  4.0            Burnley  38  75   1   78\n",
       "4  NaN            Arsenal  38  72   2   78"
      ]
     },
     "execution_count": 448,
     "metadata": {},
     "output_type": "execute_result"
    }
   ],
   "source": [
    "card_df_2018=pd.read_csv(r'D:\\beutiful\\red_2018-19.csv')\n",
    "card_df_2018.head()"
   ]
  },
  {
   "cell_type": "code",
   "execution_count": 449,
   "metadata": {},
   "outputs": [],
   "source": [
    "card_df_2018.drop(columns=['RK','P','PTS'],inplace=True)"
   ]
  },
  {
   "cell_type": "code",
   "execution_count": 450,
   "metadata": {},
   "outputs": [
    {
     "data": {
      "text/html": [
       "<div>\n",
       "<style scoped>\n",
       "    .dataframe tbody tr th:only-of-type {\n",
       "        vertical-align: middle;\n",
       "    }\n",
       "\n",
       "    .dataframe tbody tr th {\n",
       "        vertical-align: top;\n",
       "    }\n",
       "\n",
       "    .dataframe thead th {\n",
       "        text-align: right;\n",
       "    }\n",
       "</style>\n",
       "<table border=\"1\" class=\"dataframe\">\n",
       "  <thead>\n",
       "    <tr style=\"text-align: right;\">\n",
       "      <th></th>\n",
       "      <th>TEAM</th>\n",
       "      <th>YC</th>\n",
       "      <th>RC</th>\n",
       "    </tr>\n",
       "  </thead>\n",
       "  <tbody>\n",
       "    <tr>\n",
       "      <th>0</th>\n",
       "      <td>Watford</td>\n",
       "      <td>77</td>\n",
       "      <td>4</td>\n",
       "    </tr>\n",
       "    <tr>\n",
       "      <th>1</th>\n",
       "      <td>Manchester United</td>\n",
       "      <td>73</td>\n",
       "      <td>4</td>\n",
       "    </tr>\n",
       "    <tr>\n",
       "      <th>2</th>\n",
       "      <td>Southampton</td>\n",
       "      <td>71</td>\n",
       "      <td>3</td>\n",
       "    </tr>\n",
       "    <tr>\n",
       "      <th>3</th>\n",
       "      <td>Burnley</td>\n",
       "      <td>75</td>\n",
       "      <td>1</td>\n",
       "    </tr>\n",
       "    <tr>\n",
       "      <th>4</th>\n",
       "      <td>Arsenal</td>\n",
       "      <td>72</td>\n",
       "      <td>2</td>\n",
       "    </tr>\n",
       "  </tbody>\n",
       "</table>\n",
       "</div>"
      ],
      "text/plain": [
       "                TEAM  YC  RC\n",
       "0            Watford  77   4\n",
       "1  Manchester United  73   4\n",
       "2        Southampton  71   3\n",
       "3            Burnley  75   1\n",
       "4            Arsenal  72   2"
      ]
     },
     "execution_count": 450,
     "metadata": {},
     "output_type": "execute_result"
    }
   ],
   "source": [
    "card_df_2018.head()"
   ]
  },
  {
   "cell_type": "code",
   "execution_count": 451,
   "metadata": {},
   "outputs": [
    {
     "data": {
      "text/html": [
       "<div>\n",
       "<style scoped>\n",
       "    .dataframe tbody tr th:only-of-type {\n",
       "        vertical-align: middle;\n",
       "    }\n",
       "\n",
       "    .dataframe tbody tr th {\n",
       "        vertical-align: top;\n",
       "    }\n",
       "\n",
       "    .dataframe thead th {\n",
       "        text-align: right;\n",
       "    }\n",
       "</style>\n",
       "<table border=\"1\" class=\"dataframe\">\n",
       "  <thead>\n",
       "    <tr style=\"text-align: right;\">\n",
       "      <th></th>\n",
       "      <th>TEAM</th>\n",
       "      <th>YC</th>\n",
       "      <th>RC</th>\n",
       "    </tr>\n",
       "  </thead>\n",
       "  <tbody>\n",
       "    <tr>\n",
       "      <th>0</th>\n",
       "      <td>Arsenal</td>\n",
       "      <td>87.0</td>\n",
       "      <td>5.0</td>\n",
       "    </tr>\n",
       "    <tr>\n",
       "      <th>1</th>\n",
       "      <td>Watford</td>\n",
       "      <td>76.0</td>\n",
       "      <td>3.0</td>\n",
       "    </tr>\n",
       "    <tr>\n",
       "      <th>2</th>\n",
       "      <td>Tottenham Hotspur</td>\n",
       "      <td>77.0</td>\n",
       "      <td>2.0</td>\n",
       "    </tr>\n",
       "    <tr>\n",
       "      <th>3</th>\n",
       "      <td>AFC Bournemouth</td>\n",
       "      <td>74.0</td>\n",
       "      <td>3.0</td>\n",
       "    </tr>\n",
       "    <tr>\n",
       "      <th>4</th>\n",
       "      <td>Newcastle United</td>\n",
       "      <td>71.0</td>\n",
       "      <td>3.0</td>\n",
       "    </tr>\n",
       "  </tbody>\n",
       "</table>\n",
       "</div>"
      ],
      "text/plain": [
       "                TEAM    YC   RC\n",
       "0            Arsenal  87.0  5.0\n",
       "1            Watford  76.0  3.0\n",
       "2  Tottenham Hotspur  77.0  2.0\n",
       "3    AFC Bournemouth  74.0  3.0\n",
       "4   Newcastle United  71.0  3.0"
      ]
     },
     "execution_count": 451,
     "metadata": {},
     "output_type": "execute_result"
    }
   ],
   "source": [
    "card_df_2019=pd.read_csv(r'D:\\beutiful\\red_2019-20.csv')\n",
    "card_df_2019.drop(columns=['RK','P','PTS'],inplace=True)\n",
    "card_df_2019.head()"
   ]
  },
  {
   "cell_type": "code",
   "execution_count": 452,
   "metadata": {},
   "outputs": [
    {
     "data": {
      "text/html": [
       "<div>\n",
       "<style scoped>\n",
       "    .dataframe tbody tr th:only-of-type {\n",
       "        vertical-align: middle;\n",
       "    }\n",
       "\n",
       "    .dataframe tbody tr th {\n",
       "        vertical-align: top;\n",
       "    }\n",
       "\n",
       "    .dataframe thead th {\n",
       "        text-align: right;\n",
       "    }\n",
       "</style>\n",
       "<table border=\"1\" class=\"dataframe\">\n",
       "  <thead>\n",
       "    <tr style=\"text-align: right;\">\n",
       "      <th></th>\n",
       "      <th>TEAM</th>\n",
       "      <th>YC</th>\n",
       "      <th>RC</th>\n",
       "    </tr>\n",
       "  </thead>\n",
       "  <tbody>\n",
       "    <tr>\n",
       "      <th>0</th>\n",
       "      <td>Sheffield United</td>\n",
       "      <td>73</td>\n",
       "      <td>3</td>\n",
       "    </tr>\n",
       "    <tr>\n",
       "      <th>1</th>\n",
       "      <td>Aston Villa</td>\n",
       "      <td>67</td>\n",
       "      <td>4</td>\n",
       "    </tr>\n",
       "    <tr>\n",
       "      <th>2</th>\n",
       "      <td>Fulham</td>\n",
       "      <td>67</td>\n",
       "      <td>3</td>\n",
       "    </tr>\n",
       "    <tr>\n",
       "      <th>3</th>\n",
       "      <td>Newcastle United</td>\n",
       "      <td>62</td>\n",
       "      <td>3</td>\n",
       "    </tr>\n",
       "    <tr>\n",
       "      <th>4</th>\n",
       "      <td>Manchester United</td>\n",
       "      <td>64</td>\n",
       "      <td>1</td>\n",
       "    </tr>\n",
       "  </tbody>\n",
       "</table>\n",
       "</div>"
      ],
      "text/plain": [
       "                TEAM  YC  RC\n",
       "0   Sheffield United  73   3\n",
       "1        Aston Villa  67   4\n",
       "2             Fulham  67   3\n",
       "3   Newcastle United  62   3\n",
       "4  Manchester United  64   1"
      ]
     },
     "execution_count": 452,
     "metadata": {},
     "output_type": "execute_result"
    }
   ],
   "source": [
    "card_df_2020=pd.read_csv(r'D:\\beutiful\\red_2020-21.csv')\n",
    "card_df_2020.drop(columns=['RK','P','PTS'],inplace=True)\n",
    "card_df_2020.head()"
   ]
  },
  {
   "cell_type": "code",
   "execution_count": 454,
   "metadata": {},
   "outputs": [
    {
     "data": {
      "text/html": [
       "<div>\n",
       "<style scoped>\n",
       "    .dataframe tbody tr th:only-of-type {\n",
       "        vertical-align: middle;\n",
       "    }\n",
       "\n",
       "    .dataframe tbody tr th {\n",
       "        vertical-align: top;\n",
       "    }\n",
       "\n",
       "    .dataframe thead th {\n",
       "        text-align: right;\n",
       "    }\n",
       "</style>\n",
       "<table border=\"1\" class=\"dataframe\">\n",
       "  <thead>\n",
       "    <tr style=\"text-align: right;\">\n",
       "      <th></th>\n",
       "      <th>TEAM</th>\n",
       "      <th>YC</th>\n",
       "      <th>RC</th>\n",
       "    </tr>\n",
       "  </thead>\n",
       "  <tbody>\n",
       "    <tr>\n",
       "      <th>0</th>\n",
       "      <td>Leeds United</td>\n",
       "      <td>101</td>\n",
       "      <td>3</td>\n",
       "    </tr>\n",
       "    <tr>\n",
       "      <th>1</th>\n",
       "      <td>Everton</td>\n",
       "      <td>79</td>\n",
       "      <td>6</td>\n",
       "    </tr>\n",
       "    <tr>\n",
       "      <th>2</th>\n",
       "      <td>Newcastle United</td>\n",
       "      <td>87</td>\n",
       "      <td>2</td>\n",
       "    </tr>\n",
       "    <tr>\n",
       "      <th>3</th>\n",
       "      <td>Aston Villa</td>\n",
       "      <td>80</td>\n",
       "      <td>2</td>\n",
       "    </tr>\n",
       "    <tr>\n",
       "      <th>4</th>\n",
       "      <td>Manchester United</td>\n",
       "      <td>76</td>\n",
       "      <td>2</td>\n",
       "    </tr>\n",
       "  </tbody>\n",
       "</table>\n",
       "</div>"
      ],
      "text/plain": [
       "                TEAM   YC  RC\n",
       "0       Leeds United  101   3\n",
       "1            Everton   79   6\n",
       "2   Newcastle United   87   2\n",
       "3        Aston Villa   80   2\n",
       "4  Manchester United   76   2"
      ]
     },
     "execution_count": 454,
     "metadata": {},
     "output_type": "execute_result"
    }
   ],
   "source": [
    "card_df_2021=pd.read_csv(r'D:\\beutiful\\red_2021-22.csv')\n",
    "card_df_2021.drop(columns=['RK','P','PTS'],inplace=True)\n",
    "card_df_2021.head()"
   ]
  },
  {
   "cell_type": "code",
   "execution_count": 455,
   "metadata": {},
   "outputs": [
    {
     "data": {
      "text/html": [
       "<div>\n",
       "<style scoped>\n",
       "    .dataframe tbody tr th:only-of-type {\n",
       "        vertical-align: middle;\n",
       "    }\n",
       "\n",
       "    .dataframe tbody tr th {\n",
       "        vertical-align: top;\n",
       "    }\n",
       "\n",
       "    .dataframe thead th {\n",
       "        text-align: right;\n",
       "    }\n",
       "</style>\n",
       "<table border=\"1\" class=\"dataframe\">\n",
       "  <thead>\n",
       "    <tr style=\"text-align: right;\">\n",
       "      <th></th>\n",
       "      <th>TEAM</th>\n",
       "      <th>YC</th>\n",
       "      <th>RC</th>\n",
       "    </tr>\n",
       "  </thead>\n",
       "  <tbody>\n",
       "    <tr>\n",
       "      <th>0</th>\n",
       "      <td>Wolverhampton Wanderers</td>\n",
       "      <td>86.0</td>\n",
       "      <td>6.0</td>\n",
       "    </tr>\n",
       "    <tr>\n",
       "      <th>1</th>\n",
       "      <td>Leeds United</td>\n",
       "      <td>87.0</td>\n",
       "      <td>3.0</td>\n",
       "    </tr>\n",
       "    <tr>\n",
       "      <th>2</th>\n",
       "      <td>Crystal Palace</td>\n",
       "      <td>81.0</td>\n",
       "      <td>3.0</td>\n",
       "    </tr>\n",
       "    <tr>\n",
       "      <th>3</th>\n",
       "      <td>Nottingham Forest</td>\n",
       "      <td>85.0</td>\n",
       "      <td>0.0</td>\n",
       "    </tr>\n",
       "    <tr>\n",
       "      <th>4</th>\n",
       "      <td>Tottenham Hotspur</td>\n",
       "      <td>76.0</td>\n",
       "      <td>3.0</td>\n",
       "    </tr>\n",
       "  </tbody>\n",
       "</table>\n",
       "</div>"
      ],
      "text/plain": [
       "                      TEAM    YC   RC\n",
       "0  Wolverhampton Wanderers  86.0  6.0\n",
       "1             Leeds United  87.0  3.0\n",
       "2           Crystal Palace  81.0  3.0\n",
       "3        Nottingham Forest  85.0  0.0\n",
       "4        Tottenham Hotspur  76.0  3.0"
      ]
     },
     "execution_count": 455,
     "metadata": {},
     "output_type": "execute_result"
    }
   ],
   "source": [
    "card_df_2022=pd.read_csv(r'D:\\beutiful\\red_2022-23.csv')\n",
    "card_df_2022.drop(columns=['RK','P','PTS'],inplace=True)\n",
    "card_df_2022.head()"
   ]
  },
  {
   "cell_type": "code",
   "execution_count": 461,
   "metadata": {},
   "outputs": [],
   "source": [
    "yellow_cards_2018=card_df_2018[card_df_2018['TEAM']=='Manchester City']['YC'].values[0]\n",
    "yellow_cards_2019=card_df_2019[card_df_2019['TEAM']=='Manchester City']['YC'].values[0]\n",
    "yellow_cards_2020=card_df_2020[card_df_2020['TEAM']=='Manchester City']['YC'].values[0]\n",
    "yellow_cards_2021=card_df_2021[card_df_2021['TEAM']=='Manchester City']['YC'].values[0]\n",
    "yellow_cards_2022=card_df_2022[card_df_2022['TEAM']=='Manchester City']['YC'].values[0]\n",
    "\n",
    "\n",
    "red_cards_2018=card_df_2018[card_df_2018['TEAM']=='Manchester City']['RC'].values[0]\n",
    "red_cards_2019=card_df_2019[card_df_2019['TEAM']=='Manchester City']['RC'].values[0]\n",
    "red_cards_2020=card_df_2020[card_df_2020['TEAM']=='Manchester City']['RC'].values[0]\n",
    "red_cards_2021=card_df_2021[card_df_2021['TEAM']=='Manchester City']['RC'].values[0]\n",
    "red_cards_2022=card_df_2022[card_df_2022['TEAM']=='Manchester City']['RC'].values[0]"
   ]
  },
  {
   "cell_type": "code",
   "execution_count": 463,
   "metadata": {},
   "outputs": [
    {
     "data": {
      "text/plain": [
       "Text(0, 0.5, 'Cards')"
      ]
     },
     "execution_count": 463,
     "metadata": {},
     "output_type": "execute_result"
    },
    {
     "data": {
      "image/png": "[encoded data removed]",
      "text/plain": [
       "<Figure size 1500x800 with 1 Axes>"
      ]
     },
     "metadata": {},
     "output_type": "display_data"
    }
   ],
   "source": [
    "plotdata = pd.DataFrame({\n",
    "\n",
    "    \"Yellow Cards\":[yellow_cards_2018,yellow_cards_2019,yellow_cards_2020,yellow_cards_2021,yellow_cards_2022],\n",
    "\n",
    "    \"Red Cards\":[red_cards_2018,red_cards_2019,red_cards_2020,red_cards_2021,red_cards_2022],\n",
    "\n",
    "    },\n",
    "\n",
    "    index=['2018-19', '2019-20', '2020-21', '2021-22', '2022-23'])\n",
    "\n",
    "ax=plotdata.plot(kind=\"bar\",figsize=(15, 8))\n",
    "for i in ax.containers:\n",
    "    ax.bar_label(i,)\n",
    "\n",
    "plt.title(\"Cards per Seasons\")\n",
    "\n",
    "plt.xlabel(\"Seasons\")\n",
    "\n",
    "plt.ylabel(\"Cards\")"
   ]
  },
  {
   "cell_type": "code",
   "execution_count": null,
   "metadata": {},
   "outputs": [],
   "source": []
  }
 ],
 "metadata": {
  "kernelspec": {
   "display_name": "base",
   "language": "python",
   "name": "python3"
  },
  "language_info": {
   "codemirror_mode": {
    "name": "ipython",
    "version": 3
   },
   "file_extension": ".py",
   "mimetype": "text/x-python",
   "name": "python",
   "nbconvert_exporter": "python",
   "pygments_lexer": "ipython3",
   "version": "3.11.5"
  }
 },
 "nbformat": 4,
 "nbformat_minor": 2
}
